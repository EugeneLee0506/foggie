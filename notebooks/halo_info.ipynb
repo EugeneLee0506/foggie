{
 "cells": [
  {
   "cell_type": "code",
   "execution_count": 10,
   "metadata": {},
   "outputs": [],
   "source": [
    "import yt\n",
    "from astropy.table import Table\n",
    "from astropy.io import ascii\n",
    "from yt.analysis_modules.star_analysis.api import StarFormationRate\n",
    "\n",
    "from utils.get_refine_box import get_refine_box\n",
    "from get_halo_center import get_halo_center\n",
    "import numpy as np\n",
    "\n",
    "from enzoGalaxyProps import find_rvirial\n",
    "\n",
    "import seaborn as sns\n"
   ]
  },
  {
   "cell_type": "code",
   "execution_count": 6,
   "metadata": {},
   "outputs": [],
   "source": [
    "def _stars(pfilter, data):\n",
    "    return data[(pfilter.filtered_type, \"particle_type\")] == 2\n",
    "\n",
    "#this gets dark matter particles in zoom region only\n",
    "def _darkmatter(pfilter, data):\n",
    "    return data[(pfilter.filtered_type, \"particle_type\")] == 4\n",
    "\n",
    "yt.add_particle_filter(\"stars\",function=_stars, filtered_type='all',requires=[\"particle_type\"])\n",
    "yt.add_particle_filter(\"darkmatter\",function=_darkmatter, filtered_type='all',requires=[\"particle_type\"])\n"
   ]
  },
  {
   "cell_type": "code",
   "execution_count": 17,
   "metadata": {},
   "outputs": [
    {
     "name": "stderr",
     "output_type": "stream",
     "text": [
      "yt : [INFO     ] 2019-09-16 14:03:50,677 Parameters: current_time              = 154.80103271343\n",
      "yt : [INFO     ] 2019-09-16 14:03:50,678 Parameters: domain_dimensions         = [256 256 256]\n",
      "yt : [INFO     ] 2019-09-16 14:03:50,680 Parameters: domain_left_edge          = [0. 0. 0.]\n",
      "yt : [INFO     ] 2019-09-16 14:03:50,681 Parameters: domain_right_edge         = [1. 1. 1.]\n",
      "yt : [INFO     ] 2019-09-16 14:03:50,683 Parameters: cosmological_simulation   = 1\n",
      "yt : [INFO     ] 2019-09-16 14:03:50,684 Parameters: current_redshift          = 1.9999996880027\n",
      "yt : [INFO     ] 2019-09-16 14:03:50,687 Parameters: omega_lambda              = 0.715\n",
      "yt : [INFO     ] 2019-09-16 14:03:50,688 Parameters: omega_matter              = 0.285\n",
      "yt : [INFO     ] 2019-09-16 14:03:50,689 Parameters: hubble_constant           = 0.695\n",
      "Parsing Hierarchy : 100%|██████████| 994/994 [00:00<00:00, 11658.04it/s]\n",
      "yt : [INFO     ] 2019-09-16 14:03:50,857 Gathering a field list (this may take a moment.)\n",
      "/Users/molly/anaconda3/envs/astroconda/lib/python3.5/site-packages/yt/units/yt_array.py:978: FutureWarning: Using a non-tuple sequence for multidimensional indexing is deprecated; use `arr[tuple(seq)]` instead of `arr[seq]`. In the future this will be interpreted as an array index, `arr[np.array(seq)]`, which will result either in an error or a different result.\n",
      "  ret = super(YTArray, self).__getitem__(item)\n",
      "/Users/molly/anaconda3/envs/astroconda/lib/python3.5/site-packages/yt/fields/fluid_fields.py:201: FutureWarning: Using a non-tuple sequence for multidimensional indexing is deprecated; use `arr[tuple(seq)]` instead of `arr[seq]`. In the future this will be interpreted as an array index, `arr[np.array(seq)]`, which will result either in an error or a different result.\n",
      "  new_field[slice_3d] = f\n"
     ]
    }
   ],
   "source": [
    "ds = yt.load('/Users/molly/foggie/halo_008508/natural/RD0020/RD0020')\n",
    "ds.add_particle_filter('stars')\n",
    "ds.add_particle_filter('darkmatter')\n",
    "\n",
    "trackname = 'halo_tracks/008508/nref11n_selfshield_15/halo_track_200kpc_nref10'"
   ]
  },
  {
   "cell_type": "code",
   "execution_count": 11,
   "metadata": {},
   "outputs": [
    {
     "name": "stdout",
     "output_type": "stream",
     "text": [
      "opening track: halo_tracks/008508/nref11n_selfshield_15/halo_track_200kpc_nref10\n",
      "Comoving Box Size: 100\n",
      "inside get_refine_box 1.9999996880027\n",
      "get_refine_box: using this location:      col1       col2     col3     col4     col5     col6     col7   col8\n",
      "------------- -------- -------- -------- -------- -------- -------- ----\n",
      "1.99979384142 0.493035 0.487894 0.501194 0.495035 0.489894 0.503194   10\n"
     ]
    }
   ],
   "source": [
    "\n",
    "print(\"opening track: \" + trackname)\n",
    "track = Table.read(trackname, format='ascii')\n",
    "track.sort('col1')\n",
    "zsnap = ds.get_parameter('CosmologyCurrentRedshift')\n",
    "comoving_box_size = ds.get_parameter('CosmologyComovingBoxSize')\n",
    "print('Comoving Box Size:', comoving_box_size)\n",
    "refine_box, refine_box_center, refine_width = get_refine_box(ds, zsnap, track)\n"
   ]
  },
  {
   "cell_type": "code",
   "execution_count": 15,
   "metadata": {},
   "outputs": [
    {
     "name": "stdout",
     "output_type": "stream",
     "text": [
      "get_halo_centers:  code_length code_velocity\n",
      "we have obtained the spherical region\n",
      "we have extracted the DM density\n",
      " we have obtained the preliminary center\n",
      "got the velocities\n",
      "Located the main halo at: [0.4940366744995117, 0.4888944625854492, 0.5021944046020508] [-0.0025885967979688714 code_velocity, -0.003327571430154894 code_velocity, 2.636260457252462e-06 code_velocity]\n"
     ]
    }
   ],
   "source": [
    "search_radius = 10.\n",
    "this_search_radius = search_radius / (1+ds.get_parameter('CosmologyCurrentRedshift'))\n",
    "center, velocity = get_halo_center(ds, refine_box_center, radius=this_search_radius)\n"
   ]
  },
  {
   "cell_type": "code",
   "execution_count": 18,
   "metadata": {},
   "outputs": [
    {
     "name": "stdout",
     "output_type": "stream",
     "text": [
      "\tNow running fine search on the virial radius\n"
     ]
    }
   ],
   "source": [
    "rvir = find_rvirial(refine_box, ds, center)\n",
    "# Mvir is mass within rvir\n",
    "vir_sphere = ds.sphere(center,rvir)\n"
   ]
  },
  {
   "cell_type": "code",
   "execution_count": 44,
   "metadata": {},
   "outputs": [],
   "source": [
    "vir_dm_mass = vir_sphere[('darkmatter', 'particle_mass')].in_units('Msun')\n",
    "Mvir = vir_dm_mass.sum()\n"
   ]
  },
  {
   "cell_type": "code",
   "execution_count": 45,
   "metadata": {},
   "outputs": [],
   "source": [
    "fgal = 0.07 ## fraction of the virial radius we are saying is the galaxy radius; totes made up\n",
    "gal_sphere = ds.sphere(center, fgal*rvir)\n",
    "# Mstar is sum of stellar mass; Mism is sum of gas mass; SFR is sum of SFR\n",
    "gal_stars_mass = gal_sphere[('stars', 'particle_mass')].in_units('Msun')\n",
    "Mstar = gal_stars_mass.sum()\n",
    "\n",
    "gal_ism_mass = gal_sphere['cell_mass'].in_units('Msun')\n",
    "Mism = gal_ism_mass.sum()\n",
    "\n",
    "sfr = StarFormationRate(ds, data_source=gal_sphere)\n"
   ]
  },
  {
   "cell_type": "code",
   "execution_count": 46,
   "metadata": {},
   "outputs": [
    {
     "data": {
      "text/plain": [
       "2423260105.658191 Msun"
      ]
     },
     "execution_count": 46,
     "metadata": {},
     "output_type": "execute_result"
    }
   ],
   "source": [
    "gal_ism_mass.sum()"
   ]
  },
  {
   "cell_type": "code",
   "execution_count": 47,
   "metadata": {},
   "outputs": [],
   "source": [
    "row = [zsnap, 'RD0020',\n",
    "        center[0], center[1], center[2],\n",
    "        rvir, Mvir, Mstar, Mism, sfr.Msol_yr[-1]]"
   ]
  },
  {
   "cell_type": "code",
   "execution_count": 62,
   "metadata": {},
   "outputs": [
    {
     "data": {
      "text/plain": [
       "YTSphere (RD0020): , center=[7.31145347e+25 7.23535175e+25 7.43218310e+25] cm, radius=1.0583874102700775e+22 cm"
      ]
     },
     "execution_count": 62,
     "metadata": {},
     "output_type": "execute_result"
    }
   ],
   "source": [
    "gal_sphere"
   ]
  },
  {
   "cell_type": "code",
   "execution_count": 55,
   "metadata": {},
   "outputs": [],
   "source": [
    "t = Table(dtype=('f8','S6', 'f8', 'f8', 'f8', \n",
    "                'f8', 'f8', 'f8','f8', 'f8'),\n",
    "                names=('redshift', 'name', 'xc', 'yc', 'zc',\n",
    "                'rvir', 'Mvir', 'Mstar', 'Mism', 'SFR'))\n"
   ]
  },
  {
   "cell_type": "code",
   "execution_count": 56,
   "metadata": {},
   "outputs": [],
   "source": [
    "t.add_row(row)"
   ]
  },
  {
   "cell_type": "code",
   "execution_count": 58,
   "metadata": {},
   "outputs": [
    {
     "data": {
      "text/html": [
       "&lt;Column name=&apos;Mstar&apos; dtype=&apos;float64&apos; length=1&gt;\n",
       "<table>\n",
       "<tr><td>0.1278742437664437</td></tr>\n",
       "</table>"
      ],
      "text/plain": [
       "<Column name='Mstar' dtype='float64' length=1>\n",
       "0.1278742437664437"
      ]
     },
     "execution_count": 58,
     "metadata": {},
     "output_type": "execute_result"
    }
   ],
   "source": [
    "t['Mstar']/t['Mvir']"
   ]
  },
  {
   "cell_type": "code",
   "execution_count": 67,
   "metadata": {},
   "outputs": [
    {
     "data": {
      "text/plain": [
       "'RD0020'"
      ]
     },
     "execution_count": 67,
     "metadata": {},
     "output_type": "execute_result"
    }
   ],
   "source": [
    "ds.parameter_filename[-6:]"
   ]
  },
  {
   "cell_type": "code",
   "execution_count": 72,
   "metadata": {},
   "outputs": [],
   "source": [
    "haloinfo = 'halo_infos/008508/orig_nref11n/nref11n_nref10f/halo_info'\n",
    "tt = ascii.read(haloinfo, format='fixed_width')\n",
    "tt.sort('redshift')"
   ]
  },
  {
   "cell_type": "code",
   "execution_count": 84,
   "metadata": {},
   "outputs": [
    {
     "data": {
      "text/plain": [
       "['redshift', 'name', 'xc', 'yc', 'zc', 'Rvir', 'Mvir', 'Mstar', 'Mism', 'SFR']"
      ]
     },
     "execution_count": 84,
     "metadata": {},
     "output_type": "execute_result"
    }
   ],
   "source": [
    "output = 'RD0020'\n",
    "thisid = tt['name'] ==  output\n",
    "tt.colnames"
   ]
  },
  {
   "cell_type": "code",
   "execution_count": 86,
   "metadata": {},
   "outputs": [
    {
     "data": {
      "text/plain": [
       "1"
      ]
     },
     "execution_count": 86,
     "metadata": {},
     "output_type": "execute_result"
    }
   ],
   "source": [
    "len(tt[thisid])"
   ]
  },
  {
   "cell_type": "code",
   "execution_count": 87,
   "metadata": {},
   "outputs": [],
   "source": [
    "from astropy.io import fits\n"
   ]
  },
  {
   "cell_type": "code",
   "execution_count": 98,
   "metadata": {},
   "outputs": [],
   "source": [
    "fitsfile = '/Users/molly/Dropbox/foggie-collab/plots_halo_008508/orig_nref11n/nref11n_nref10f/spectra/lls/for_asdi/april2019/hlsp_misty_foggie_halo008508_nref11n_nref10f_rd0020_axz_dx072.9_dy036.6_v6_los.fits.gz'\n",
    "hdu = fits.open(fitsfile)"
   ]
  },
  {
   "cell_type": "code",
   "execution_count": 93,
   "metadata": {},
   "outputs": [],
   "source": [
    "zsnap = hdu[0].header['redshift']\n",
    "thisid = tt['redshift'] ==  zsnap\n"
   ]
  },
  {
   "cell_type": "code",
   "execution_count": 99,
   "metadata": {},
   "outputs": [
    {
     "data": {
      "text/plain": [
       "SIMPLE  =                    T / conforms to FITS standard                      \n",
       "BITPIX  =                    8 / array data type                                \n",
       "NAXIS   =                    0 / number of array dimensions                     \n",
       "EXTEND  =                    T                                                  \n",
       "AUTHOR  = 'Molly S. Peeples'                                                    \n",
       "DATE    = '2018-08-21T11:46:12.204035'                                          \n",
       "REDSHIFT=      1.9999996879495                                                  \n",
       "RAYSTART= '0.494611705009, 0.488881383256, 0.501099'                            \n",
       "RAYEND  = '0.494611705009, 0.488881383256, 0.503099'                            \n",
       "SIM_NAME= 'Tempest_nref11n_nref10f'                                             \n",
       "NLINES  = '6       '                                                            \n",
       "DOI     = 'https://doi.org/10.3847/1538-4357/ab0654'                            \n",
       "PAPER   = 'Peeples et al. (2019) ApJ, 873, 2'                                   \n",
       "EUVB    = 'HM12    '                                                            \n",
       "IMPACT  =    28.19580012164862 / impact parameter, kpc                          \n",
       "ANGLE   = 'undef   '           / radians                                        \n",
       "LINE_1  = 'H I 1216'                                                            \n",
       "LINE_2  = 'H I 919 '                                                            \n",
       "LINE_3  = 'Si II 1260'                                                          \n",
       "LINE_4  = 'Si IV 1394'                                                          \n",
       "LINE_5  = 'C IV 1548'                                                           \n",
       "LINE_6  = 'O VI 1032'                                                           \n",
       "SIMSUITE= 'FOGGIE  '                                                            \n",
       "MVIR    =    112345893100.9287 / Msun                                           \n",
       "RVIR    =                 49.0 / kpc                                            \n",
       "MSTAR   =    12325561929.35782 / Msun                                           \n",
       "MISM    =    3410300483.264577 / Msun                                           \n",
       "SFR     =    8.620447318318174 / Msun/yr                                        "
      ]
     },
     "execution_count": 99,
     "metadata": {},
     "output_type": "execute_result"
    }
   ],
   "source": [
    "hdu[0].header"
   ]
  },
  {
   "cell_type": "code",
   "execution_count": null,
   "metadata": {},
   "outputs": [],
   "source": []
  }
 ],
 "metadata": {
  "kernelspec": {
   "display_name": "Python 3",
   "language": "python",
   "name": "python3"
  },
  "language_info": {
   "codemirror_mode": {
    "name": "ipython",
    "version": 3
   },
   "file_extension": ".py",
   "mimetype": "text/x-python",
   "name": "python",
   "nbconvert_exporter": "python",
   "pygments_lexer": "ipython3",
   "version": "3.5.5"
  }
 },
 "nbformat": 4,
 "nbformat_minor": 2
}
