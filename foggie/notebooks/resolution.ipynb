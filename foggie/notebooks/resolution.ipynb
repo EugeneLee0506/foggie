{
 "cells": [
  {
   "cell_type": "code",
   "execution_count": 1,
   "metadata": {},
   "outputs": [
    {
     "name": "stderr",
     "output_type": "stream",
     "text": [
      "/Users/molly/anaconda2/envs/astroconda/lib/python2.7/site-packages/h5py/__init__.py:36: FutureWarning: Conversion of the second argument of issubdtype from `float` to `np.floating` is deprecated. In future, it will be treated as `np.float64 == np.dtype(float).type`.\n",
      "  from ._conv import register_converters as _register_converters\n",
      "consistency.py:2: UserWarning: \n",
      "This call to matplotlib.use() has no effect because the backend has already\n",
      "been chosen; matplotlib.use() must be called *before* pylab, matplotlib.pyplot,\n",
      "or matplotlib.backends is imported for the first time.\n",
      "\n",
      "The backend was *originally* set to 'module://ipykernel.pylab.backend_inline' by the following code:\n",
      "  File \"/Users/molly/anaconda2/envs/astroconda/lib/python2.7/runpy.py\", line 174, in _run_module_as_main\n",
      "    \"__main__\", fname, loader, pkg_name)\n",
      "  File \"/Users/molly/anaconda2/envs/astroconda/lib/python2.7/runpy.py\", line 72, in _run_code\n",
      "    exec code in run_globals\n",
      "  File \"/Users/molly/anaconda2/envs/astroconda/lib/python2.7/site-packages/ipykernel_launcher.py\", line 16, in <module>\n",
      "    app.launch_new_instance()\n",
      "  File \"/Users/molly/anaconda2/envs/astroconda/lib/python2.7/site-packages/traitlets/config/application.py\", line 658, in launch_instance\n",
      "    app.start()\n",
      "  File \"/Users/molly/anaconda2/envs/astroconda/lib/python2.7/site-packages/ipykernel/kernelapp.py\", line 478, in start\n",
      "    self.io_loop.start()\n",
      "  File \"/Users/molly/anaconda2/envs/astroconda/lib/python2.7/site-packages/zmq/eventloop/ioloop.py\", line 177, in start\n",
      "    super(ZMQIOLoop, self).start()\n",
      "  File \"/Users/molly/anaconda2/envs/astroconda/lib/python2.7/site-packages/tornado/ioloop.py\", line 888, in start\n",
      "    handler_func(fd_obj, events)\n",
      "  File \"/Users/molly/anaconda2/envs/astroconda/lib/python2.7/site-packages/tornado/stack_context.py\", line 277, in null_wrapper\n",
      "    return fn(*args, **kwargs)\n",
      "  File \"/Users/molly/anaconda2/envs/astroconda/lib/python2.7/site-packages/zmq/eventloop/zmqstream.py\", line 440, in _handle_events\n",
      "    self._handle_recv()\n",
      "  File \"/Users/molly/anaconda2/envs/astroconda/lib/python2.7/site-packages/zmq/eventloop/zmqstream.py\", line 472, in _handle_recv\n",
      "    self._run_callback(callback, msg)\n",
      "  File \"/Users/molly/anaconda2/envs/astroconda/lib/python2.7/site-packages/zmq/eventloop/zmqstream.py\", line 414, in _run_callback\n",
      "    callback(*args, **kwargs)\n",
      "  File \"/Users/molly/anaconda2/envs/astroconda/lib/python2.7/site-packages/tornado/stack_context.py\", line 277, in null_wrapper\n",
      "    return fn(*args, **kwargs)\n",
      "  File \"/Users/molly/anaconda2/envs/astroconda/lib/python2.7/site-packages/ipykernel/kernelbase.py\", line 281, in dispatcher\n",
      "    return self.dispatch_shell(stream, msg)\n",
      "  File \"/Users/molly/anaconda2/envs/astroconda/lib/python2.7/site-packages/ipykernel/kernelbase.py\", line 232, in dispatch_shell\n",
      "    handler(stream, idents, msg)\n",
      "  File \"/Users/molly/anaconda2/envs/astroconda/lib/python2.7/site-packages/ipykernel/kernelbase.py\", line 397, in execute_request\n",
      "    user_expressions, allow_stdin)\n",
      "  File \"/Users/molly/anaconda2/envs/astroconda/lib/python2.7/site-packages/ipykernel/ipkernel.py\", line 208, in do_execute\n",
      "    res = shell.run_cell(code, store_history=store_history, silent=silent)\n",
      "  File \"/Users/molly/anaconda2/envs/astroconda/lib/python2.7/site-packages/ipykernel/zmqshell.py\", line 533, in run_cell\n",
      "    return super(ZMQInteractiveShell, self).run_cell(*args, **kwargs)\n",
      "  File \"/Users/molly/anaconda2/envs/astroconda/lib/python2.7/site-packages/IPython/core/interactiveshell.py\", line 2718, in run_cell\n",
      "    interactivity=interactivity, compiler=compiler, result=result)\n",
      "  File \"/Users/molly/anaconda2/envs/astroconda/lib/python2.7/site-packages/IPython/core/interactiveshell.py\", line 2822, in run_ast_nodes\n",
      "    if self.run_code(code, result):\n",
      "  File \"/Users/molly/anaconda2/envs/astroconda/lib/python2.7/site-packages/IPython/core/interactiveshell.py\", line 2882, in run_code\n",
      "    exec(code_obj, self.user_global_ns, self.user_ns)\n",
      "  File \"<ipython-input-1-95fb98e2b9a0>\", line 2, in <module>\n",
      "    import trident\n",
      "  File \"/Users/molly/anaconda2/envs/astroconda/lib/python2.7/site-packages/trident-1.2.dev0-py2.7.egg/trident/__init__.py\", line 51, in <module>\n",
      "    from trident.plotting import \\\n",
      "  File \"/Users/molly/anaconda2/envs/astroconda/lib/python2.7/site-packages/trident-1.2.dev0-py2.7.egg/trident/plotting.py\", line 18, in <module>\n",
      "    from matplotlib.backends.backend_agg import \\\n",
      "  File \"/Users/molly/anaconda2/envs/astroconda/lib/python2.7/site-packages/matplotlib/backends/__init__.py\", line 14, in <module>\n",
      "    line for line in traceback.format_stack()\n",
      "\n",
      "\n",
      "  mpl.use('agg')\n"
     ]
    }
   ],
   "source": [
    "import yt\n",
    "## import trident\n",
    "\n",
    "import numpy as np \n",
    "\n",
    "from astropy.table import Table\n",
    "import astropy.units as u\n",
    "\n",
    "from consistency import *\n",
    "from get_halo_center import get_halo_center\n",
    "from get_proper_box_size import get_proper_box_size\n",
    "from get_refine_box import get_refine_box\n",
    "\n",
    "import seaborn as sns\n",
    "sns.set_style(\"whitegrid\", {'axes.grid' : False})\n",
    "import matplotlib as mpl\n",
    "mpl.rcParams['font.family'] = 'stixgeneral'\n",
    "\n",
    "discrete_cmap = mpl.colors.ListedColormap(['#565656','#4daf4a',\"#d73027\",\"#984ea3\",\"#ffe34d\",'#4575b4','darkorange'])\n",
    "%matplotlib notebook"
   ]
  },
  {
   "cell_type": "code",
   "execution_count": 125,
   "metadata": {},
   "outputs": [
    {
     "name": "stderr",
     "output_type": "stream",
     "text": [
      "yt : [INFO     ] 2018-06-22 11:22:19,403 Parameters: current_time              = 154.801187733\n",
      "yt : [INFO     ] 2018-06-22 11:22:19,405 Parameters: domain_dimensions         = [256 256 256]\n",
      "yt : [INFO     ] 2018-06-22 11:22:19,407 Parameters: domain_left_edge          = [0. 0. 0.]\n",
      "yt : [INFO     ] 2018-06-22 11:22:19,408 Parameters: domain_right_edge         = [1. 1. 1.]\n",
      "yt : [INFO     ] 2018-06-22 11:22:19,410 Parameters: cosmological_simulation   = 1\n",
      "yt : [INFO     ] 2018-06-22 11:22:19,411 Parameters: current_redshift          = 1.99999762534\n",
      "yt : [INFO     ] 2018-06-22 11:22:19,413 Parameters: omega_lambda              = 0.715\n",
      "yt : [INFO     ] 2018-06-22 11:22:19,414 Parameters: omega_matter              = 0.285\n",
      "yt : [INFO     ] 2018-06-22 11:22:19,416 Parameters: hubble_constant           = 0.695\n",
      "Parsing Hierarchy : 100%|██████████| 1449/1449 [00:00<00:00, 22173.95it/s]\n",
      "yt : [INFO     ] 2018-06-22 11:22:19,608 Gathering a field list (this may take a moment.)\n"
     ]
    },
    {
     "name": "stdout",
     "output_type": "stream",
     "text": [
      "opening track: /Users/molly/foggie/halo_008508/nref11n/nref11n_nref10f_refine200kpc/halo_track\n",
      "('using this loc:', <Table length=1>\n",
      "   col1     col2     col3     col4     col5     col6     col7    col8\n",
      " float64  float64  float64  float64  float64  float64  float64  int64\n",
      "--------- -------- -------- -------- -------- -------- -------- -----\n",
      "1.9999999 0.493032 0.487924 0.501169 0.495032 0.489924 0.503169    10)\n",
      "We have located the main halo at : [0.4940328598022461, 0.4889516830444336, 0.5021543502807617]\n"
     ]
    }
   ],
   "source": [
    "ds = yt.load(\"/Users/molly/foggie/halo_008508/nref11n/natural/RD0020/RD0020\")\n",
    "track_name = \"/Users/molly/foggie/halo_008508/nref11n/nref11n_nref10f_refine200kpc/halo_track\"\n",
    "print(\"opening track: \" + track_name)\n",
    "track = Table.read(track_name, format='ascii')\n",
    "track.sort('col1')\n",
    "zsnap = ds.get_parameter('CosmologyCurrentRedshift')\n",
    "proper_box_size = get_proper_box_size(ds)\n",
    "\n",
    "refine_box, refine_box_center, refine_width = get_refine_box(ds, zsnap, track)\n",
    "# refine_width = refine_width * proper_box_size\n",
    "\n",
    "# center is trying to be the center of the halo\n",
    "center, velocity = get_halo_center(ds, refine_box_center)\n"
   ]
  },
  {
   "cell_type": "code",
   "execution_count": 126,
   "metadata": {},
   "outputs": [
    {
     "name": "stderr",
     "output_type": "stream",
     "text": [
      "yt : [INFO     ] 2018-06-22 11:22:41,219 xlim = 0.487452 0.490452\n",
      "yt : [INFO     ] 2018-06-22 11:22:41,220 ylim = 0.500654 0.503654\n",
      "yt : [INFO     ] 2018-06-22 11:22:41,222 xlim = 0.487452 0.490452\n",
      "yt : [INFO     ] 2018-06-22 11:22:41,224 ylim = 0.500654 0.503654\n",
      "yt : [INFO     ] 2018-06-22 11:22:41,227 Making a fixed resolution buffer of (('enzo', 'dx')) 800 by 800\n"
     ]
    },
    {
     "name": "stdout",
     "output_type": "stream",
     "text": [
      "['0.091', '0.183', '0.366', '0.732', '1.464', '2.927', '5.855']\n",
      "(array([1.90734863e-06, 3.81469727e-06, 7.62939453e-06, 1.52587891e-05,\n",
      "       3.05175781e-05, 6.10351562e-05, 1.22070312e-04]), array([-1.33514404e-05, -1.14440918e-05, -7.62939453e-06,  1.69406589e-21,\n",
      "        1.52587891e-05,  4.57763672e-05,  1.06811523e-04]))\n"
     ]
    },
    {
     "name": "stderr",
     "output_type": "stream",
     "text": [
      "yt : [INFO     ] 2018-06-22 11:22:41,905 Saving plot RD0020_nref11n_cell_size_dx.png\n"
     ]
    },
    {
     "name": "stdout",
     "output_type": "stream",
     "text": [
      "[2.5e-06 4.5e-06 8.5e-06 1.5e-05 2.8e-05 5.0e-05 9.0e-05]\n"
     ]
    },
    {
     "data": {
      "text/html": [
       "<img style=\"max-width:100%%;max-height:100%%;\" src=\"data:image/png;base64,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\"><br>"
      ],
      "text/plain": [
       "<yt.visualization.plot_window.AxisAlignedSlicePlot at 0x1a21fd0390>"
      ]
     },
     "metadata": {},
     "output_type": "display_data"
    }
   ],
   "source": [
    "discrete_cmap = mpl.colors.ListedColormap(['darkorange','#4daf4a',\"#d73027\",\"#984ea3\",\"#ffe34d\",'#4575b4','#565656'])\n",
    "discrete_cmap_r = mpl.colors.ListedColormap(['darkorange','#4575b4',\"#ffe34d\",\"#984ea3\",\"#d73027\",'#4daf4a','#565656'])\n",
    "discrete_cmap_rainbow = mpl.colors.ListedColormap(['#4daf4a',\"#ffe34d\",'darkorange',\"#d73027\",\"#984ea3\",'#4575b4','#565656'])\n",
    "\n",
    "cell_kpc = np.unique(refine_box['dy'].in_units('kpc'))\n",
    "cell_level = np.unique(refine_box[('index','grid_level')])\n",
    "\n",
    "cell_labels = ['%.3f' % num for num in cell_kpc]\n",
    "print(cell_labels)\n",
    "cell_sizes = np.array(np.unique(refine_box['dy']))\n",
    "#cell_locs = cell_sizes - (np.median(np.power(10.0,np.log10(cell_sizes))) + np.power(10.0,np.log10(cell_sizes) - 1)))\n",
    "print(cell_sizes, cell_locs)\n",
    "s = yt.SlicePlot(ds, \"x\", ('enzo','dx'), center=center, width=1.5*refine_width)\n",
    "#s = yt.SlicePlot(ds, \"y\", ('index','grid_level'), center=center, width=1.5*refine_width)\n",
    "# s.set_cmap(('index','grid_level'),\"tab20b\")\n",
    "s.set_cmap('dx', discrete_cmap_rainbow)\n",
    "s.annotate_timestamp(corner='upper_left', redshift=True, draw_inset_box=True)\n",
    "s.annotate_scale(size_bar_args={'color':'white'})\n",
    "#s.set_unit('dy','kpc')\n",
    "#s.set_cmap(('index','grid_level'), discrete_cmap)\n",
    "#s.set_zlim(('index','grid_level'),6,11)\n",
    "#plot = s.plots[('index','grid_level')]\n",
    "#colorbar.set_ticks([0.093, 2*0.093, 4*0.093, 8*0.093, 16*0.093])\n",
    "#colorbar.set_ticklabels([0.093, 0.186, 0.374, 0.748, 1.496])\n",
    "s.hide_axes()\n",
    "plot = s.plots['dx']\n",
    "s._setup_plots()\n",
    "colorbar = plot.cb\n",
    "colorbar.set_ticks([2.5e-6, 4.5e-6, 8.5e-6, 1.5e-5, 2.8e-5, 5e-5, 9e-5])\n",
    "colorbar.set_ticklabels(cell_labels)\n",
    "print(colorbar.get_ticks())\n",
    "colorbar.set_label('cell size (kpc)')\n",
    "s.save('RD0020_nref11n_cell_size_dx.png')\n",
    "s.show()"
   ]
  },
  {
   "cell_type": "code",
   "execution_count": 119,
   "metadata": {},
   "outputs": [
    {
     "name": "stderr",
     "output_type": "stream",
     "text": [
      "yt : [INFO     ] 2018-06-22 11:19:27,694 Parameters: current_time              = 154.801032717\n",
      "yt : [INFO     ] 2018-06-22 11:19:27,695 Parameters: domain_dimensions         = [256 256 256]\n",
      "yt : [INFO     ] 2018-06-22 11:19:27,697 Parameters: domain_left_edge          = [0. 0. 0.]\n",
      "yt : [INFO     ] 2018-06-22 11:19:27,699 Parameters: domain_right_edge         = [1. 1. 1.]\n",
      "yt : [INFO     ] 2018-06-22 11:19:27,701 Parameters: cosmological_simulation   = 1\n",
      "yt : [INFO     ] 2018-06-22 11:19:27,702 Parameters: current_redshift          = 1.99999968795\n",
      "yt : [INFO     ] 2018-06-22 11:19:27,704 Parameters: omega_lambda              = 0.715\n",
      "yt : [INFO     ] 2018-06-22 11:19:27,706 Parameters: omega_matter              = 0.285\n",
      "yt : [INFO     ] 2018-06-22 11:19:27,707 Parameters: hubble_constant           = 0.695\n",
      "Parsing Hierarchy :   0%|          | 0/4574 [00:00<?, ?it/s]"
     ]
    },
    {
     "name": "stdout",
     "output_type": "stream",
     "text": [
      "opening track: /Users/molly/foggie/halo_008508/nref11n/nref11n_nref10f_refine200kpc/halo_track\n",
      "('using this loc:', <Table length=1>\n",
      "   col1     col2     col3     col4     col5     col6     col7    col8\n",
      " float64  float64  float64  float64  float64  float64  float64  int64\n",
      "--------- -------- -------- -------- -------- -------- -------- -----\n",
      "2.0499999 0.493091 0.488119 0.501099 0.495091 0.490119 0.503099    10)\n"
     ]
    },
    {
     "name": "stderr",
     "output_type": "stream",
     "text": [
      "Parsing Hierarchy : 100%|██████████| 4574/4574 [00:00<00:00, 6418.59it/s]\n",
      "yt : [INFO     ] 2018-06-22 11:19:28,741 Gathering a field list (this may take a moment.)\n"
     ]
    },
    {
     "name": "stdout",
     "output_type": "stream",
     "text": [
      "We have located the main halo at : [0.4940309524536133, 0.48897266387939453, 0.5021486282348633]\n"
     ]
    }
   ],
   "source": [
    "ds = yt.load(\"/Users/molly/foggie/halo_008508/nref11n/nref11n_nref10f_refine200kpc/RD0020/RD0020\")\n",
    "track_name = \"/Users/molly/foggie/halo_008508/nref11n/nref11n_nref10f_refine200kpc/halo_track\"\n",
    "print(\"opening track: \" + track_name)\n",
    "track = Table.read(track_name, format='ascii')\n",
    "track.sort('col1')\n",
    "zsnap = ds.get_parameter('CosmologyCurrentRedshift')\n",
    "proper_box_size = get_proper_box_size(ds)\n",
    "\n",
    "refine_box, refine_box_center, refine_width = get_refine_box(ds, zsnap, track)\n",
    "# refine_width = refine_width * proper_box_size\n",
    "\n",
    "# center is trying to be the center of the halo\n",
    "center, velocity = get_halo_center(ds, refine_box_center)\n"
   ]
  },
  {
   "cell_type": "code",
   "execution_count": 122,
   "metadata": {},
   "outputs": [
    {
     "name": "stdout",
     "output_type": "stream",
     "text": [
      "['0.091', '0.183', '0.366', '0.732', '1.464', '2.927', '5.855']\n"
     ]
    },
    {
     "name": "stderr",
     "output_type": "stream",
     "text": [
      "yt : [INFO     ] 2018-06-22 11:21:29,066 xlim = 0.487473 0.490473\n",
      "yt : [INFO     ] 2018-06-22 11:21:29,068 ylim = 0.500649 0.503649\n",
      "yt : [INFO     ] 2018-06-22 11:21:29,070 xlim = 0.487473 0.490473\n",
      "yt : [INFO     ] 2018-06-22 11:21:29,071 ylim = 0.500649 0.503649\n",
      "yt : [INFO     ] 2018-06-22 11:21:29,074 Making a fixed resolution buffer of (('enzo', 'dx')) 800 by 800\n"
     ]
    },
    {
     "name": "stdout",
     "output_type": "stream",
     "text": [
      "(array([1.90734863e-06, 3.81469727e-06]), array([-1.33514404e-05, -1.14440918e-05, -7.62939453e-06,  1.69406589e-21,\n",
      "        1.52587891e-05,  4.57763672e-05,  1.06811523e-04]))\n"
     ]
    },
    {
     "name": "stderr",
     "output_type": "stream",
     "text": [
      "yt : [INFO     ] 2018-06-22 11:21:29,694 Saving plot RD0020_nref11n_nref10f_cell_size_dx.png\n"
     ]
    },
    {
     "name": "stdout",
     "output_type": "stream",
     "text": [
      "[2.5e-06 4.5e-06 8.5e-06 1.5e-05 2.8e-05 5.0e-05 9.0e-05]\n"
     ]
    },
    {
     "data": {
      "text/html": [
       "<img style=\"max-width:100%%;max-height:100%%;\" src=\"data:image/png;base64,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\"><br>"
      ],
      "text/plain": [
       "<yt.visualization.plot_window.AxisAlignedSlicePlot at 0x1a2aaeefd0>"
      ]
     },
     "metadata": {},
     "output_type": "display_data"
    }
   ],
   "source": [
    "discrete_cmap = mpl.colors.ListedColormap(['darkorange','#4daf4a',\"#d73027\",\"#984ea3\",\"#ffe34d\",'#4575b4','#565656'])\n",
    "discrete_cmap_r = mpl.colors.ListedColormap(['darkorange','#565656','#4575b4',\"#ffe34d\",\"#984ea3\",\"#d73027\",'#4daf4a'])\n",
    "\n",
    "#cell_kpc = np.unique(refine_box['dy'].in_units('kpc'))\n",
    "#cell_level = np.unique(refine_box[('index','grid_level')])\n",
    "\n",
    "cell_labels = ['%.3f' % num for num in cell_kpc]\n",
    "print(cell_labels)\n",
    "cell_sizes = np.array(np.unique(refine_box['dy']))\n",
    "print(cell_sizes, cell_locs)\n",
    "# s = yt.SlicePlot(ds, \"y\", 'dy', center=center, width=1.5*refine_width)\n",
    "s = yt.SlicePlot(ds, \"x\", ('enzo','dx'), center=center, width=1.5*refine_width)\n",
    "s.set_cmap('dx', discrete_cmap_rainbow)\n",
    "s.hide_axes()\n",
    "s.annotate_timestamp(corner='upper_left', redshift=True, draw_inset_box=True)\n",
    "s.annotate_scale(size_bar_args={'color':'white'})\n",
    "plot = s.plots['dx']\n",
    "s._setup_plots()\n",
    "colorbar = plot.cb\n",
    "colorbar.set_ticks([2.5e-6, 4.5e-6, 8.5e-6, 1.5e-5, 2.8e-5, 5e-5, 9e-5])\n",
    "colorbar.set_ticklabels(cell_labels)\n",
    "print(colorbar.get_ticks())\n",
    "colorbar.set_label('cell size (kpc)')\n",
    "s.save('RD0020_nref11n_nref10f_cell_size_dx.png')\n",
    "s.show()"
   ]
  },
  {
   "cell_type": "code",
   "execution_count": 2,
   "metadata": {},
   "outputs": [
    {
     "name": "stderr",
     "output_type": "stream",
     "text": [
      "yt : [INFO     ] 2018-06-07 09:38:28,796 Parameters: current_time              = 49.3165278183\n",
      "yt : [INFO     ] 2018-06-07 09:38:28,797 Parameters: domain_dimensions         = [256 256 256]\n",
      "yt : [INFO     ] 2018-06-07 09:38:28,798 Parameters: domain_left_edge          = [ 0.  0.  0.]\n",
      "yt : [INFO     ] 2018-06-07 09:38:28,799 Parameters: domain_right_edge         = [ 1.  1.  1.]\n",
      "yt : [INFO     ] 2018-06-07 09:38:28,801 Parameters: cosmological_simulation   = 1\n",
      "yt : [INFO     ] 2018-06-07 09:38:28,801 Parameters: current_redshift          = 5.48941627331\n",
      "yt : [INFO     ] 2018-06-07 09:38:28,802 Parameters: omega_lambda              = 0.715\n",
      "yt : [INFO     ] 2018-06-07 09:38:28,803 Parameters: omega_matter              = 0.285\n",
      "yt : [INFO     ] 2018-06-07 09:38:28,804 Parameters: hubble_constant           = 0.695\n",
      "Parsing Hierarchy :  58%|█████▊    | 2688/4650 [00:00<00:00, 26869.01it/s]"
     ]
    },
    {
     "name": "stdout",
     "output_type": "stream",
     "text": [
      "opening track: /astro/simulations/FOGGIE/halo_008508/nref11n_selfshield_z15/nref11c_nref9f_selfshield_z6/halo_track\n",
      "('using this loc:', <Table length=1>\n",
      "     col1       col2     col3     col4     col5     col6     col7    col8\n",
      "   float64    float64  float64  float64  float64  float64  float64  int64\n",
      "------------- -------- -------- -------- -------- -------- -------- -----\n",
      "5.49999996364 0.495618 0.495559 0.497327 0.497618 0.497559 0.499327     9)\n"
     ]
    },
    {
     "name": "stderr",
     "output_type": "stream",
     "text": [
      "Parsing Hierarchy : 100%|██████████| 4650/4650 [00:00<00:00, 19019.41it/s]\n",
      "yt : [INFO     ] 2018-06-07 09:38:29,368 Gathering a field list (this may take a moment.)\n"
     ]
    },
    {
     "name": "stdout",
     "output_type": "stream",
     "text": [
      "We have located the main halo at : [0.49568843841552734, 0.49574947357177734, 0.49895763397216797]\n"
     ]
    }
   ],
   "source": [
    "ds = yt.load(\"/astro/simulations/FOGGIE/halo_008508/nref11n_selfshield_z15/nref11c_nref9f_selfshield_z6/DD0065/DD0065\")\n",
    "track_name = \"/astro/simulations/FOGGIE/halo_008508/nref11n_selfshield_z15/nref11c_nref9f_selfshield_z6/halo_track\"\n",
    "print(\"opening track: \" + track_name)\n",
    "track = Table.read(track_name, format='ascii')\n",
    "track.sort('col1')\n",
    "zsnap = ds.get_parameter('CosmologyCurrentRedshift')\n",
    "proper_box_size = get_proper_box_size(ds)\n",
    "\n",
    "refine_box, refine_box_center, refine_width = get_refine_box(ds, zsnap, track)\n",
    "# refine_width = refine_width * proper_box_size\n",
    "\n",
    "# center is trying to be the center of the halo\n",
    "center, velocity = get_halo_center(ds, refine_box_center)\n"
   ]
  },
  {
   "cell_type": "code",
   "execution_count": 11,
   "metadata": {},
   "outputs": [
    {
     "name": "stderr",
     "output_type": "stream",
     "text": [
      "yt : [INFO     ] 2018-06-07 09:43:28,781 xlim = 0.494327 0.502327\n",
      "yt : [INFO     ] 2018-06-07 09:43:28,782 ylim = 0.492618 0.500618\n",
      "yt : [INFO     ] 2018-06-07 09:43:28,784 xlim = 0.494327 0.502327\n",
      "yt : [INFO     ] 2018-06-07 09:43:28,785 ylim = 0.492618 0.500618\n",
      "yt : [INFO     ] 2018-06-07 09:43:28,787 Making a fixed resolution buffer of (('gas', 'dy')) 800 by 800\n"
     ]
    },
    {
     "name": "stdout",
     "output_type": "stream",
     "text": [
      "('using this loc:', <Table length=1>\n",
      "     col1       col2    col3     col4    col5    col6     col7   col8\n",
      "   float64    float64 float64  float64 float64 float64  float64 int64\n",
      "------------- ------- -------- ------- ------- -------- ------- -----\n",
      "6.04999996364 0.49326 0.496891 0.49671 0.49526 0.498891 0.49871     9)\n",
      "[0.496618, 0.49655899999999997, 0.49832700000000002]\n"
     ]
    },
    {
     "data": {
      "text/html": [
       "<img style=\"max-width:100%%;max-height:100%%;\" src=\"data:image/png;base64,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\"><br>"
      ],
      "text/plain": [
       "<yt.visualization.plot_window.AxisAlignedSlicePlot at 0x11e6f19d0>"
      ]
     },
     "metadata": {},
     "output_type": "display_data"
    }
   ],
   "source": [
    "fart_box_left = [0.493265, 0.49685, 0.496728]\n",
    "fart_box_right = [ 0.495265, 0.49885, 0.498728 ]\n",
    "\n",
    "fart_box, fart_box_center, refine_width = get_refine_box(ds, 6.0, track)\n",
    "\n",
    "print refine_box_center\n",
    "discrete_cmap = mpl.colors.ListedColormap(['darkorange','#4daf4a',\"#d73027\",\"#984ea3\",\"#ffe34d\",'#4575b4','#565656'])\n",
    "\n",
    "# s = yt.SlicePlot(ds, \"y\", ('index','grid_level'), center=refine_box_center, width=4*refine_width)\n",
    "s = yt.SlicePlot(ds, \"y\", 'dy', center=refine_box_center, width=4*refine_width)\n",
    "# s.set_cmap(('index','grid_level'),discrete_cmap)\n",
    "s.set_cmap('dy', discrete_cmap)\n",
    "s.set_unit('dy','kpc')\n",
    "#s.set_cmap(('index','grid_level'), discrete_cmap)\n",
    "#s.set_zlim(('index','grid_level'),6,11)\n",
    "#plot = s.plots[('index', 'grid_level')]\n",
    "#s._setup_plots()\n",
    "#colorbar = plot.cb\n",
    "#colorbar.set_ticks([0.093, 2*0.093, 4*0.093, 8*0.093, 16*0.093])\n",
    "#colorbar.set_ticklabels([0.093, 0.186, 0.374, 0.748, 1.496])\n",
    "#colorbar.set_label('grid level')\n",
    "#s.save('RD0014_nref11n_nref10f_selfshield_z6_grid_level.png')\n",
    "s.show()"
   ]
  },
  {
   "cell_type": "code",
   "execution_count": 11,
   "metadata": {},
   "outputs": [
    {
     "name": "stderr",
     "output_type": "stream",
     "text": [
      "yt : [INFO     ] 2018-06-05 14:06:44,450 Parameters: current_time              = 72.7890686357\n",
      "yt : [INFO     ] 2018-06-05 14:06:44,451 Parameters: domain_dimensions         = [256 256 256]\n",
      "yt : [INFO     ] 2018-06-05 14:06:44,452 Parameters: domain_left_edge          = [ 0.  0.  0.]\n",
      "yt : [INFO     ] 2018-06-05 14:06:44,453 Parameters: domain_right_edge         = [ 1.  1.  1.]\n",
      "yt : [INFO     ] 2018-06-05 14:06:44,454 Parameters: cosmological_simulation   = 1\n",
      "yt : [INFO     ] 2018-06-05 14:06:44,455 Parameters: current_redshift          = 3.99999897423\n",
      "yt : [INFO     ] 2018-06-05 14:06:44,456 Parameters: omega_lambda              = 0.715\n",
      "yt : [INFO     ] 2018-06-05 14:06:44,457 Parameters: omega_matter              = 0.285\n",
      "yt : [INFO     ] 2018-06-05 14:06:44,458 Parameters: hubble_constant           = 0.695\n",
      "Parsing Hierarchy :  37%|███▋      | 2915/7984 [00:00<00:00, 29148.85it/s]"
     ]
    },
    {
     "name": "stdout",
     "output_type": "stream",
     "text": [
      "opening track: /astro/simulations/FOGGIE/halo_008508/nref11n_selfshield_z15/nref11c_nref9f_selfshield_z6/halo_track\n",
      "('using this loc:', <Table length=1>\n",
      "     col1       col2     col3     col4     col5     col6     col7    col8\n",
      "   float64    float64  float64  float64  float64  float64  float64  int64\n",
      "------------- -------- -------- -------- -------- -------- -------- -----\n",
      "4.04999996364 0.494576 0.493213 0.498535 0.496576 0.495213 0.500535     9)\n"
     ]
    },
    {
     "name": "stderr",
     "output_type": "stream",
     "text": [
      "Parsing Hierarchy : 100%|██████████| 7984/7984 [00:00<00:00, 28729.98it/s]\n",
      "yt : [INFO     ] 2018-06-05 14:06:45,328 Gathering a field list (this may take a moment.)\n"
     ]
    },
    {
     "name": "stdout",
     "output_type": "stream",
     "text": [
      "We have located the main halo at : [0.49541378021240234, 0.49414348602294922, 0.49955463409423828]\n"
     ]
    }
   ],
   "source": [
    "ds = yt.load(\"/astro/simulations/FOGGIE/halo_008508/nref11n_selfshield_z15/nref11c_nref9f_selfshield_z6/RD0014/RD0014\")\n",
    "track_name = \"/astro/simulations/FOGGIE/halo_008508/nref11n_selfshield_z15/nref11c_nref9f_selfshield_z6/halo_track\"\n",
    "print(\"opening track: \" + track_name)\n",
    "track = Table.read(track_name, format='ascii')\n",
    "track.sort('col1')\n",
    "zsnap = ds.get_parameter('CosmologyCurrentRedshift')\n",
    "proper_box_size = get_proper_box_size(ds)\n",
    "\n",
    "refine_box, refine_box_center, refine_width = get_refine_box(ds, zsnap, track)\n",
    "# refine_width = refine_width * proper_box_size\n",
    "\n",
    "# center is trying to be the center of the halo\n",
    "center, velocity = get_halo_center(ds, refine_box_center)\n"
   ]
  },
  {
   "cell_type": "code",
   "execution_count": 13,
   "metadata": {},
   "outputs": [
    {
     "name": "stderr",
     "output_type": "stream",
     "text": [
      "yt : [INFO     ] 2018-06-07 09:47:49,766 xlim = 0.496827 0.499827\n",
      "yt : [INFO     ] 2018-06-07 09:47:49,767 ylim = 0.495118 0.498118\n",
      "yt : [INFO     ] 2018-06-07 09:47:49,768 xlim = 0.496827 0.499827\n",
      "yt : [INFO     ] 2018-06-07 09:47:49,769 ylim = 0.495118 0.498118\n",
      "yt : [INFO     ] 2018-06-07 09:47:49,772 Making a fixed resolution buffer of (('index', 'grid_level')) 800 by 800\n"
     ]
    },
    {
     "data": {
      "text/html": [
       "<img style=\"max-width:100%%;max-height:100%%;\" src=\"data:image/png;base64,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\"><br>"
      ],
      "text/plain": [
       "<yt.visualization.plot_window.AxisAlignedSlicePlot at 0x1242f0c90>"
      ]
     },
     "metadata": {},
     "output_type": "display_data"
    }
   ],
   "source": [
    "discrete_cmap = mpl.colors.ListedColormap(['darkorange','#4daf4a',\"#d73027\",\"#984ea3\",\"#ffe34d\",'#4575b4','#565656'])\n",
    "\n",
    "s = yt.SlicePlot(ds, \"y\", ('index','grid_level'), center=refine_box_center, width=1.5*refine_width)\n",
    "s.set_cmap(('index','grid_level'),discrete_cmap)\n",
    "# s.set_cmap('dy', discrete_cmap)\n",
    "# s.set_unit('dy','kpc')\n",
    "#s.set_cmap(('index','grid_level'), discrete_cmap)\n",
    "s.set_zlim(('index','grid_level'),6,11)\n",
    "plot = s.plots[('index', 'grid_level')]\n",
    "s._setup_plots()\n",
    "colorbar = plot.cb\n",
    "#colorbar.set_ticks([0.093, 2*0.093, 4*0.093, 8*0.093, 16*0.093])\n",
    "#colorbar.set_ticklabels([0.093, 0.186, 0.374, 0.748, 1.496])\n",
    "colorbar.set_label('grid level')\n",
    "# s.save('RD0014_nref11c_nref9f_selfshield_z6_grid_level.png')\n",
    "s.show()"
   ]
  },
  {
   "cell_type": "code",
   "execution_count": 14,
   "metadata": {},
   "outputs": [
    {
     "name": "stderr",
     "output_type": "stream",
     "text": [
      "yt : [INFO     ] 2018-06-07 09:57:57,467 Parameters: current_time              = 46.0665278183\n",
      "yt : [INFO     ] 2018-06-07 09:57:57,468 Parameters: domain_dimensions         = [256 256 256]\n",
      "yt : [INFO     ] 2018-06-07 09:57:57,470 Parameters: domain_left_edge          = [ 0.  0.  0.]\n",
      "yt : [INFO     ] 2018-06-07 09:57:57,471 Parameters: domain_right_edge         = [ 1.  1.  1.]\n",
      "yt : [INFO     ] 2018-06-07 09:57:57,472 Parameters: cosmological_simulation   = 1\n",
      "yt : [INFO     ] 2018-06-07 09:57:57,473 Parameters: current_redshift          = 5.79203476016\n",
      "yt : [INFO     ] 2018-06-07 09:57:57,474 Parameters: omega_lambda              = 0.715\n",
      "yt : [INFO     ] 2018-06-07 09:57:57,475 Parameters: omega_matter              = 0.285\n",
      "yt : [INFO     ] 2018-06-07 09:57:57,475 Parameters: hubble_constant           = 0.695\n",
      "Parsing Hierarchy : 100%|██████████| 4053/4053 [00:00<00:00, 29657.78it/s]\n"
     ]
    },
    {
     "name": "stdout",
     "output_type": "stream",
     "text": [
      "opening track: /astro/simulations/FOGGIE/halo_008508/nref11n_selfshield_z15/nref11n_nref10f_selfshield_z6/halo_track\n",
      "('using this loc:', <Table length=1>\n",
      "     col1       col2     col3     col4     col5     col6     col7    col8\n",
      "   float64    float64  float64  float64  float64  float64  float64  int64\n",
      "------------- -------- -------- -------- -------- -------- -------- -----\n",
      "5.79999996364 0.494206 0.496334 0.496968 0.496206 0.498334 0.498968    10)\n"
     ]
    },
    {
     "name": "stderr",
     "output_type": "stream",
     "text": [
      "yt : [INFO     ] 2018-06-07 09:57:57,981 Gathering a field list (this may take a moment.)\n"
     ]
    },
    {
     "name": "stdout",
     "output_type": "stream",
     "text": [
      "We have located the main halo at : [0.49573040008544922, 0.49596309661865234, 0.49886035919189453]\n"
     ]
    }
   ],
   "source": [
    "ds = yt.load(\"/astro/simulations/FOGGIE/halo_008508/nref11n_selfshield_z15/nref11n_nref10f_selfshield_z6/DD0052/DD0052\")\n",
    "track_name = \"/astro/simulations/FOGGIE/halo_008508/nref11n_selfshield_z15/nref11n_nref10f_selfshield_z6/halo_track\"\n",
    "print(\"opening track: \" + track_name)\n",
    "track = Table.read(track_name, format='ascii')\n",
    "track.sort('col1')\n",
    "zsnap = ds.get_parameter('CosmologyCurrentRedshift')\n",
    "proper_box_size = get_proper_box_size(ds)\n",
    "\n",
    "refine_box, refine_box_center, refine_width = get_refine_box(ds, zsnap, track)\n",
    "# refine_width = refine_width * proper_box_size\n",
    "\n",
    "# center is trying to be the center of the halo\n",
    "center, velocity = get_halo_center(ds, refine_box_center)\n"
   ]
  },
  {
   "cell_type": "code",
   "execution_count": 17,
   "metadata": {},
   "outputs": [
    {
     "name": "stderr",
     "output_type": "stream",
     "text": [
      "yt : [INFO     ] 2018-06-07 10:00:18,600 xlim = 0.493968 0.501968\n",
      "yt : [INFO     ] 2018-06-07 10:00:18,600 ylim = 0.491206 0.499206\n",
      "yt : [INFO     ] 2018-06-07 10:00:18,602 xlim = 0.493968 0.501968\n",
      "yt : [INFO     ] 2018-06-07 10:00:18,603 ylim = 0.491206 0.499206\n",
      "yt : [INFO     ] 2018-06-07 10:00:18,605 Making a fixed resolution buffer of (('index', 'grid_level')) 800 by 800\n"
     ]
    },
    {
     "data": {
      "text/html": [
       "<img style=\"max-width:100%%;max-height:100%%;\" src=\"data:image/png;base64,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\"><br>"
      ],
      "text/plain": [
       "<yt.visualization.plot_window.AxisAlignedSlicePlot at 0x11007d5d0>"
      ]
     },
     "metadata": {},
     "output_type": "display_data"
    }
   ],
   "source": [
    "discrete_cmap = mpl.colors.ListedColormap(['darkorange','#4daf4a',\"#d73027\",\"#984ea3\",\"#ffe34d\",'#4575b4','#565656'])\n",
    "\n",
    "s = yt.SlicePlot(ds, \"y\", ('index','grid_level'), center=refine_box_center, width=4*refine_width)\n",
    "s.set_cmap(('index','grid_level'),discrete_cmap)\n",
    "# s.set_cmap('dy', discrete_cmap)\n",
    "# s.set_unit('dy','kpc')\n",
    "#s.set_cmap(('index','grid_level'), discrete_cmap)\n",
    "#s.set_zlim(('index','grid_level'),6,11)\n",
    "plot = s.plots[('index', 'grid_level')]\n",
    "s._setup_plots()\n",
    "colorbar = plot.cb\n",
    "#colorbar.set_ticks([0.093, 2*0.093, 4*0.093, 8*0.093, 16*0.093])\n",
    "#colorbar.set_ticklabels([0.093, 0.186, 0.374, 0.748, 1.496])\n",
    "colorbar.set_label('grid level')\n",
    "## s.save('RD0014_nref11n_selfshield_z15_grid_level.png')\n",
    "s.show()"
   ]
  },
  {
   "cell_type": "code",
   "execution_count": 117,
   "metadata": {},
   "outputs": [
    {
     "data": {
      "text/plain": [
       "[('all', 'age'),\n",
       " ('all', 'creation_time'),\n",
       " ('all', 'dynamical_time'),\n",
       " ('all', 'mesh_id'),\n",
       " ('all', 'metallicity_fraction'),\n",
       " ('all', 'particle_angular_momentum'),\n",
       " ('all', 'particle_angular_momentum_magnitude'),\n",
       " ('all', 'particle_angular_momentum_x'),\n",
       " ('all', 'particle_angular_momentum_y'),\n",
       " ('all', 'particle_angular_momentum_z'),\n",
       " ('all', 'particle_cylindrical_velocity_theta'),\n",
       " ('all', 'particle_cylindrical_velocity_z'),\n",
       " ('all', 'particle_index'),\n",
       " ('all', 'particle_mass'),\n",
       " ('all', 'particle_ones'),\n",
       " ('all', 'particle_position'),\n",
       " ('all', 'particle_position_cylindrical_radius'),\n",
       " ('all', 'particle_position_cylindrical_theta'),\n",
       " ('all', 'particle_position_cylindrical_z'),\n",
       " ('all', 'particle_position_relative'),\n",
       " ('all', 'particle_position_relative_x'),\n",
       " ('all', 'particle_position_relative_y'),\n",
       " ('all', 'particle_position_relative_z'),\n",
       " ('all', 'particle_position_spherical_phi'),\n",
       " ('all', 'particle_position_spherical_radius'),\n",
       " ('all', 'particle_position_spherical_theta'),\n",
       " ('all', 'particle_position_x'),\n",
       " ('all', 'particle_position_y'),\n",
       " ('all', 'particle_position_z'),\n",
       " ('all', 'particle_radial_velocity'),\n",
       " ('all', 'particle_radius'),\n",
       " ('all', 'particle_specific_angular_momentum'),\n",
       " ('all', 'particle_specific_angular_momentum_x'),\n",
       " ('all', 'particle_specific_angular_momentum_y'),\n",
       " ('all', 'particle_specific_angular_momentum_z'),\n",
       " ('all', 'particle_spherical_position_phi'),\n",
       " ('all', 'particle_spherical_position_radius'),\n",
       " ('all', 'particle_spherical_position_theta'),\n",
       " ('all', 'particle_spherical_velocity_phi'),\n",
       " ('all', 'particle_spherical_velocity_radius'),\n",
       " ('all', 'particle_spherical_velocity_theta'),\n",
       " ('all', 'particle_type'),\n",
       " ('all', 'particle_velocity'),\n",
       " ('all', 'particle_velocity_cylindrical_radius'),\n",
       " ('all', 'particle_velocity_cylindrical_theta'),\n",
       " ('all', 'particle_velocity_cylindrical_z'),\n",
       " ('all', 'particle_velocity_magnitude'),\n",
       " ('all', 'particle_velocity_relative'),\n",
       " ('all', 'particle_velocity_relative_x'),\n",
       " ('all', 'particle_velocity_relative_y'),\n",
       " ('all', 'particle_velocity_relative_z'),\n",
       " ('all', 'particle_velocity_spherical_phi'),\n",
       " ('all', 'particle_velocity_spherical_radius'),\n",
       " ('all', 'particle_velocity_spherical_theta'),\n",
       " ('all', 'particle_velocity_x'),\n",
       " ('all', 'particle_velocity_y'),\n",
       " ('all', 'particle_velocity_z'),\n",
       " ('deposit', 'all_cic'),\n",
       " ('deposit', 'all_cic_age'),\n",
       " ('deposit', 'all_cic_velocity_x'),\n",
       " ('deposit', 'all_cic_velocity_y'),\n",
       " ('deposit', 'all_cic_velocity_z'),\n",
       " ('deposit', 'all_count'),\n",
       " ('deposit', 'all_density'),\n",
       " ('deposit', 'all_mass'),\n",
       " ('deposit', 'all_nn_age'),\n",
       " ('deposit', 'all_nn_velocity_x'),\n",
       " ('deposit', 'all_nn_velocity_y'),\n",
       " ('deposit', 'all_nn_velocity_z'),\n",
       " ('deposit', 'io_cic'),\n",
       " ('deposit', 'io_cic_age'),\n",
       " ('deposit', 'io_cic_velocity_x'),\n",
       " ('deposit', 'io_cic_velocity_y'),\n",
       " ('deposit', 'io_cic_velocity_z'),\n",
       " ('deposit', 'io_count'),\n",
       " ('deposit', 'io_density'),\n",
       " ('deposit', 'io_mass'),\n",
       " ('deposit', 'io_nn_age'),\n",
       " ('deposit', 'io_nn_velocity_x'),\n",
       " ('deposit', 'io_nn_velocity_y'),\n",
       " ('deposit', 'io_nn_velocity_z'),\n",
       " ('enzo', 'Cooling_Time'),\n",
       " ('enzo', 'Dark_Matter_Density'),\n",
       " ('enzo', 'Density'),\n",
       " ('enzo', 'Electron_Density'),\n",
       " ('enzo', 'GasEnergy'),\n",
       " ('enzo', 'HII_Density'),\n",
       " ('enzo', 'HI_Density'),\n",
       " ('enzo', 'HeIII_Density'),\n",
       " ('enzo', 'HeII_Density'),\n",
       " ('enzo', 'HeI_Density'),\n",
       " ('enzo', 'Metal_Density'),\n",
       " ('enzo', 'Temperature'),\n",
       " ('enzo', 'TotalEnergy'),\n",
       " ('enzo', 'cell_volume'),\n",
       " ('enzo', 'dx'),\n",
       " ('enzo', 'dy'),\n",
       " ('enzo', 'dz'),\n",
       " ('enzo', 'path_element_x'),\n",
       " ('enzo', 'path_element_y'),\n",
       " ('enzo', 'path_element_z'),\n",
       " ('enzo', 'vertex_x'),\n",
       " ('enzo', 'vertex_y'),\n",
       " ('enzo', 'vertex_z'),\n",
       " ('enzo', 'x'),\n",
       " ('enzo', 'x-velocity'),\n",
       " ('enzo', 'y'),\n",
       " ('enzo', 'y-velocity'),\n",
       " ('enzo', 'z'),\n",
       " ('enzo', 'z-velocity'),\n",
       " ('gas', 'El_density'),\n",
       " ('gas', 'El_fraction'),\n",
       " ('gas', 'El_mass'),\n",
       " ('gas', 'El_number_density'),\n",
       " ('gas', 'H_density'),\n",
       " ('gas', 'H_fraction'),\n",
       " ('gas', 'H_mass'),\n",
       " ('gas', 'H_nuclei_density'),\n",
       " ('gas', 'H_number_density'),\n",
       " ('gas', 'H_p0_density'),\n",
       " ('gas', 'H_p0_fraction'),\n",
       " ('gas', 'H_p0_mass'),\n",
       " ('gas', 'H_p0_number_density'),\n",
       " ('gas', 'H_p1_density'),\n",
       " ('gas', 'H_p1_fraction'),\n",
       " ('gas', 'H_p1_mass'),\n",
       " ('gas', 'H_p1_number_density'),\n",
       " ('gas', 'He_density'),\n",
       " ('gas', 'He_fraction'),\n",
       " ('gas', 'He_mass'),\n",
       " ('gas', 'He_nuclei_density'),\n",
       " ('gas', 'He_number_density'),\n",
       " ('gas', 'He_p0_density'),\n",
       " ('gas', 'He_p0_fraction'),\n",
       " ('gas', 'He_p0_mass'),\n",
       " ('gas', 'He_p0_number_density'),\n",
       " ('gas', 'He_p1_density'),\n",
       " ('gas', 'He_p1_fraction'),\n",
       " ('gas', 'He_p1_mass'),\n",
       " ('gas', 'He_p1_number_density'),\n",
       " ('gas', 'He_p2_density'),\n",
       " ('gas', 'He_p2_fraction'),\n",
       " ('gas', 'He_p2_mass'),\n",
       " ('gas', 'He_p2_number_density'),\n",
       " ('gas', 'angular_momentum_magnitude'),\n",
       " ('gas', 'angular_momentum_x'),\n",
       " ('gas', 'angular_momentum_y'),\n",
       " ('gas', 'angular_momentum_z'),\n",
       " ('gas', 'averaged_density'),\n",
       " ('gas', 'baroclinic_vorticity_magnitude'),\n",
       " ('gas', 'baroclinic_vorticity_x'),\n",
       " ('gas', 'baroclinic_vorticity_y'),\n",
       " ('gas', 'baroclinic_vorticity_z'),\n",
       " ('gas', 'baryon_overdensity'),\n",
       " ('gas', 'cell_mass'),\n",
       " ('gas', 'cell_volume'),\n",
       " ('gas', 'chandra_emissivity'),\n",
       " ('gas', 'cooling_time'),\n",
       " ('gas', 'courant_time_step'),\n",
       " ('gas', 'cutting_plane_velocity_x'),\n",
       " ('gas', 'cutting_plane_velocity_y'),\n",
       " ('gas', 'cutting_plane_velocity_z'),\n",
       " ('gas', 'cylindrical_radial_velocity'),\n",
       " ('gas', 'cylindrical_radial_velocity_absolute'),\n",
       " ('gas', 'cylindrical_tangential_velocity'),\n",
       " ('gas', 'cylindrical_tangential_velocity_absolute'),\n",
       " ('gas', 'dark_matter_density'),\n",
       " ('gas', 'density'),\n",
       " ('gas', 'density_gradient_magnitude'),\n",
       " ('gas', 'density_gradient_x'),\n",
       " ('gas', 'density_gradient_y'),\n",
       " ('gas', 'density_gradient_z'),\n",
       " ('gas', 'dx'),\n",
       " ('gas', 'dy'),\n",
       " ('gas', 'dynamical_time'),\n",
       " ('gas', 'dz'),\n",
       " ('gas', 'emission_measure'),\n",
       " ('gas', 'entropy'),\n",
       " ('gas', 'jeans_mass'),\n",
       " ('gas', 'kT'),\n",
       " ('gas', 'kinetic_energy'),\n",
       " ('gas', 'mach_number'),\n",
       " ('gas', 'matter_density'),\n",
       " ('gas', 'matter_mass'),\n",
       " ('gas', 'matter_overdensity'),\n",
       " ('gas', 'mazzotta_weighting'),\n",
       " ('gas', 'mean_molecular_weight'),\n",
       " ('gas', 'metal_density'),\n",
       " ('gas', 'metal_mass'),\n",
       " ('gas', 'metallicity'),\n",
       " ('gas', 'number_density'),\n",
       " ('gas', 'overdensity'),\n",
       " ('gas', 'path_element_x'),\n",
       " ('gas', 'path_element_y'),\n",
       " ('gas', 'path_element_z'),\n",
       " ('gas', 'pressure'),\n",
       " ('gas', 'pressure_gradient_magnitude'),\n",
       " ('gas', 'pressure_gradient_x'),\n",
       " ('gas', 'pressure_gradient_y'),\n",
       " ('gas', 'pressure_gradient_z'),\n",
       " ('gas', 'radial_mach_number'),\n",
       " ('gas', 'radial_velocity'),\n",
       " ('gas', 'radial_velocity_absolute'),\n",
       " ('gas', 'shear'),\n",
       " ('gas', 'shear_criterion'),\n",
       " ('gas', 'shear_mach'),\n",
       " ('gas', 'sound_speed'),\n",
       " ('gas', 'specific_angular_momentum_magnitude'),\n",
       " ('gas', 'specific_angular_momentum_x'),\n",
       " ('gas', 'specific_angular_momentum_y'),\n",
       " ('gas', 'specific_angular_momentum_z'),\n",
       " ('gas', 'sz_kinetic'),\n",
       " ('gas', 'szy'),\n",
       " ('gas', 'tangential_over_velocity_magnitude'),\n",
       " ('gas', 'tangential_velocity'),\n",
       " ('gas', 'temperature'),\n",
       " ('gas', 'thermal_energy'),\n",
       " ('gas', 'total_energy'),\n",
       " ('gas', 'velocity_cylindrical_radius'),\n",
       " ('gas', 'velocity_cylindrical_theta'),\n",
       " ('gas', 'velocity_cylindrical_z'),\n",
       " ('gas', 'velocity_divergence'),\n",
       " ('gas', 'velocity_divergence_absolute'),\n",
       " ('gas', 'velocity_magnitude'),\n",
       " ('gas', 'velocity_spherical_phi'),\n",
       " ('gas', 'velocity_spherical_radius'),\n",
       " ('gas', 'velocity_spherical_theta'),\n",
       " ('gas', 'velocity_x'),\n",
       " ('gas', 'velocity_y'),\n",
       " ('gas', 'velocity_z'),\n",
       " ('gas', 'vertex_x'),\n",
       " ('gas', 'vertex_y'),\n",
       " ('gas', 'vertex_z'),\n",
       " ('gas', 'vorticity_growth_magnitude'),\n",
       " ('gas', 'vorticity_growth_magnitude_absolute'),\n",
       " ('gas', 'vorticity_growth_timescale'),\n",
       " ('gas', 'vorticity_growth_x'),\n",
       " ('gas', 'vorticity_growth_y'),\n",
       " ('gas', 'vorticity_growth_z'),\n",
       " ('gas', 'vorticity_magnitude'),\n",
       " ('gas', 'vorticity_squared'),\n",
       " ('gas', 'vorticity_stretching_magnitude'),\n",
       " ('gas', 'vorticity_stretching_x'),\n",
       " ('gas', 'vorticity_stretching_y'),\n",
       " ('gas', 'vorticity_stretching_z'),\n",
       " ('gas', 'vorticity_x'),\n",
       " ('gas', 'vorticity_y'),\n",
       " ('gas', 'vorticity_z'),\n",
       " ('gas', 'weak_lensing_convergence'),\n",
       " ('gas', 'x'),\n",
       " ('gas', 'xray_emissivity'),\n",
       " ('gas', 'y'),\n",
       " ('gas', 'z'),\n",
       " ('index', 'cell_volume'),\n",
       " ('index', 'cylindrical_r'),\n",
       " ('index', 'cylindrical_radius'),\n",
       " ('index', 'cylindrical_theta'),\n",
       " ('index', 'cylindrical_z'),\n",
       " ('index', 'disk_angle'),\n",
       " ('index', 'dx'),\n",
       " ('index', 'dy'),\n",
       " ('index', 'dz'),\n",
       " ('index', 'grid_indices'),\n",
       " ('index', 'grid_level'),\n",
       " ('index', 'height'),\n",
       " ('index', 'morton_index'),\n",
       " ('index', 'ones'),\n",
       " ('index', 'ones_over_dx'),\n",
       " ('index', 'path_element_x'),\n",
       " ('index', 'path_element_y'),\n",
       " ('index', 'path_element_z'),\n",
       " ('index', 'radius'),\n",
       " ('index', 'spherical_phi'),\n",
       " ('index', 'spherical_r'),\n",
       " ('index', 'spherical_radius'),\n",
       " ('index', 'spherical_theta'),\n",
       " ('index', 'vertex_x'),\n",
       " ('index', 'vertex_y'),\n",
       " ('index', 'vertex_z'),\n",
       " ('index', 'virial_radius_fraction'),\n",
       " ('index', 'x'),\n",
       " ('index', 'y'),\n",
       " ('index', 'z'),\n",
       " ('index', 'zeros'),\n",
       " ('io', 'age'),\n",
       " ('io', 'creation_time'),\n",
       " ('io', 'dynamical_time'),\n",
       " ('io', 'mesh_id'),\n",
       " ('io', 'metallicity_fraction'),\n",
       " ('io', 'particle_angular_momentum'),\n",
       " ('io', 'particle_angular_momentum_magnitude'),\n",
       " ('io', 'particle_angular_momentum_x'),\n",
       " ('io', 'particle_angular_momentum_y'),\n",
       " ('io', 'particle_angular_momentum_z'),\n",
       " ('io', 'particle_cylindrical_velocity_theta'),\n",
       " ('io', 'particle_cylindrical_velocity_z'),\n",
       " ('io', 'particle_index'),\n",
       " ('io', 'particle_mass'),\n",
       " ('io', 'particle_ones'),\n",
       " ('io', 'particle_position'),\n",
       " ('io', 'particle_position_cylindrical_radius'),\n",
       " ('io', 'particle_position_cylindrical_theta'),\n",
       " ('io', 'particle_position_cylindrical_z'),\n",
       " ('io', 'particle_position_relative'),\n",
       " ('io', 'particle_position_relative_x'),\n",
       " ('io', 'particle_position_relative_y'),\n",
       " ('io', 'particle_position_relative_z'),\n",
       " ('io', 'particle_position_spherical_phi'),\n",
       " ('io', 'particle_position_spherical_radius'),\n",
       " ('io', 'particle_position_spherical_theta'),\n",
       " ('io', 'particle_position_x'),\n",
       " ('io', 'particle_position_y'),\n",
       " ('io', 'particle_position_z'),\n",
       " ('io', 'particle_radial_velocity'),\n",
       " ('io', 'particle_radius'),\n",
       " ('io', 'particle_specific_angular_momentum'),\n",
       " ('io', 'particle_specific_angular_momentum_x'),\n",
       " ('io', 'particle_specific_angular_momentum_y'),\n",
       " ('io', 'particle_specific_angular_momentum_z'),\n",
       " ('io', 'particle_spherical_position_phi'),\n",
       " ('io', 'particle_spherical_position_radius'),\n",
       " ('io', 'particle_spherical_position_theta'),\n",
       " ('io', 'particle_spherical_velocity_phi'),\n",
       " ('io', 'particle_spherical_velocity_radius'),\n",
       " ('io', 'particle_spherical_velocity_theta'),\n",
       " ('io', 'particle_type'),\n",
       " ('io', 'particle_velocity'),\n",
       " ('io', 'particle_velocity_cylindrical_radius'),\n",
       " ('io', 'particle_velocity_cylindrical_theta'),\n",
       " ('io', 'particle_velocity_cylindrical_z'),\n",
       " ('io', 'particle_velocity_magnitude'),\n",
       " ('io', 'particle_velocity_relative'),\n",
       " ('io', 'particle_velocity_relative_x'),\n",
       " ('io', 'particle_velocity_relative_y'),\n",
       " ('io', 'particle_velocity_relative_z'),\n",
       " ('io', 'particle_velocity_spherical_phi'),\n",
       " ('io', 'particle_velocity_spherical_radius'),\n",
       " ('io', 'particle_velocity_spherical_theta'),\n",
       " ('io', 'particle_velocity_x'),\n",
       " ('io', 'particle_velocity_y'),\n",
       " ('io', 'particle_velocity_z')]"
      ]
     },
     "execution_count": 117,
     "metadata": {},
     "output_type": "execute_result"
    }
   ],
   "source": [
    "ds.derived_field_list"
   ]
  },
  {
   "cell_type": "code",
   "execution_count": null,
   "metadata": {},
   "outputs": [],
   "source": []
  }
 ],
 "metadata": {
  "kernelspec": {
   "display_name": "Python 2",
   "language": "python",
   "name": "python2"
  },
  "language_info": {
   "codemirror_mode": {
    "name": "ipython",
    "version": 2
   },
   "file_extension": ".py",
   "mimetype": "text/x-python",
   "name": "python",
   "nbconvert_exporter": "python",
   "pygments_lexer": "ipython2",
   "version": "2.7.14"
  }
 },
 "nbformat": 4,
 "nbformat_minor": 2
}
