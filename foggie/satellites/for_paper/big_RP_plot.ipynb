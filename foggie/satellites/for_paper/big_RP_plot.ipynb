{
 "cells": [
  {
   "cell_type": "code",
   "execution_count": 1,
   "metadata": {},
   "outputs": [],
   "source": [
    "%matplotlib notebook\n",
    "import numpy as np\n",
    "import glob\n",
    "from glob import glob\n",
    "from astropy.io import ascii\n",
    "from numpy import *\n",
    "import yt\n",
    "from yt.units import kpc\n",
    "from scipy import interpolate\n",
    "import astropy.units as u\n",
    "import matplotlib as mpl\n",
    "mpl.rcParams['text.usetex'] = True\n",
    "mpl.rcParams['text.latex.preamble'] = [r'\\usepackage{amsmath}']\n"
   ]
  },
  {
   "cell_type": "code",
   "execution_count": 3,
   "metadata": {},
   "outputs": [],
   "source": [
    "def running(DD, mass, half_window = 10):\n",
    "    percs = []\n",
    "    for d in DD:\n",
    "        gd = where(abs(DD - d) < half_window)[0]\n",
    "\n",
    "        percs.append(np.percentile(mass[gd], [16, 50, 84]))\n",
    "    return np.array(percs)"
   ]
  },
  {
   "cell_type": "code",
   "execution_count": 4,
   "metadata": {},
   "outputs": [],
   "source": [
    "halos = ['8508',\n",
    "         '2878',\n",
    "         '2392',\n",
    "         '5016',\n",
    "         '5036',\n",
    "         '4123']"
   ]
  },
  {
   "cell_type": "code",
   "execution_count": 5,
   "metadata": {},
   "outputs": [],
   "source": [
    "sat_cat = ascii.read('/Users/rsimons/Desktop/foggie/catalogs/satellite_properties.cat')\n",
    "combine_all = np.load('/Users/rsimons/Desktop/foggie/catalogs/sat_track_locations/combine_all.npy', allow_pickle = True)[()]\n"
   ]
  },
  {
   "cell_type": "code",
   "execution_count": null,
   "metadata": {},
   "outputs": [
    {
     "name": "stderr",
     "output_type": "stream",
     "text": [
      "/Users/rsimons/opt/miniconda3/envs/py35/lib/python3.5/site-packages/numpy/core/fromnumeric.py:2957: RuntimeWarning: Mean of empty slice.\n",
      "  out=out, **kwargs)\n",
      "/Users/rsimons/opt/miniconda3/envs/py35/lib/python3.5/site-packages/numpy/core/_methods.py:80: RuntimeWarning: invalid value encountered in double_scalars\n",
      "  ret = ret.dtype.type(ret / rcount)\n",
      "/Users/rsimons/opt/miniconda3/envs/py35/lib/python3.5/site-packages/scipy/interpolate/interpolate.py:689: RuntimeWarning: invalid value encountered in greater\n",
      "  above_bounds = x_new > self.x[-1]\n",
      "/Users/rsimons/opt/miniconda3/envs/py35/lib/python3.5/site-packages/yt/units/yt_array.py:1293: RuntimeWarning: divide by zero encountered in log10\n",
      "  out_arr = func(np.asarray(inp), out=out, **kwargs)\n"
     ]
    }
   ],
   "source": [
    "#fig, axes = plt.subplots(6, 6, figsize = (30, 30))\n",
    "fig2, axes2 = plt.subplots(1, 1, figsize = (5, 5))\n",
    "cnt = 0\n",
    "pr = []\n",
    "pm = []\n",
    "pc = []\n",
    "for h, halo in enumerate(halos):\n",
    "    sat_cat_halo = sat_cat[sat_cat['halo'] == int(halo)]\n",
    "    for sat in sat_cat_halo['id']:\n",
    "        if sat == '0': continue\n",
    "        tracks = combine_all[halo][sat]\n",
    "        min_DD = combine_all[halo][sat]['min_DD']\n",
    "        max_DD = combine_all[halo][sat]['max_DD']\n",
    "        enter_DD = combine_all[halo][sat]['enter_DD']\n",
    "\n",
    "        ram_all = []\n",
    "        time_all = []\n",
    "        if tracks['max_time'].value -  tracks['enter_time'].value < 0.05: continue\n",
    "        for DD in np.arange(enter_DD, max_DD):\n",
    "            try: track = tracks[DD]\n",
    "            except: continue\n",
    "            v = yt.YTArray(np.sqrt(track['vx']**2. + \\\n",
    "                                   track['vy']**2. + \\\n",
    "                                   track['vz']**2.), 'km/s')\n",
    "            \n",
    "            dx = v * yt.YTArray(5, 'Myr')\n",
    "            start_ray = 2.\n",
    "            gd = where((track['ray_dist'] > start_ray) & (track['ray_dist'] < start_ray + dx.to('kpc').value))[0]  \n",
    "\n",
    "            vel_ram = track['ray_vel'][gd]\n",
    "            den_ram = track['ray_den'][gd]\n",
    "            vel_ram[vel_ram > 0] = 0.\n",
    "            vr = mean(vel_ram.to('km/s').value)\n",
    "            dr = mean(den_ram.to('g/cm**3').value)\n",
    "            \n",
    "            ram_all.append(vr**2. * dr)\n",
    "            time_all.append(track['time'].value - tracks['enter_time'].value)\n",
    "        ram_all = np.array(ram_all)*(u.km/u.s)**2.*u.g/u.cm**3.\n",
    "        if not np.isnan(time_all[0]):\n",
    "            ram_all = ram_all.to('dyne*cm**-2')\n",
    "            #axes.ravel()[cnt].plot(time_all, ram_all, color = 'black', linewidth = 1)\n",
    "            interp = interpolate.interp1d(time_all, ram_all)\n",
    "            dt = 1.e-4\n",
    "            time_interp = np.arange(min(time_all), max(time_all), dt)\n",
    "            ram_interp = interp(time_interp)\n",
    "            #axes.ravel()[cnt].plot(time_interp, ram_interp, color = 'blue', linewidth = 1, linestyle = '--')\n",
    "            cnt+=1\n",
    "            gas_type = ''\n",
    "            tot_mom = sum(yt.YTArray(ram_interp, 'dyne*cm**-2') * yt.YTArray(dt, 'Gyr')).to('Msun*km/s/kpc**2')\n",
    "            \n",
    "            meas_mass_dist = 1.\n",
    "            gd = where(tracks[enter_DD]['mass_dist'] < meas_mass_dist)\n",
    "            tot_mass = tracks[enter_DD]['gas_mass'][gd] + tracks[enter_DD]['stars_mass'][gd]# + tracks[enter_DD]['dm_mass'][gd]\n",
    "            argre = argmin(abs(tot_mass -  tot_mass[-1]/2.))\n",
    "            re = tracks[enter_DD]['mass_dist'][gd][argre]            \n",
    "            min_r = 0.\n",
    "            max_r = re            \n",
    "            parts = where((tracks[enter_DD]['%smass_dist'%gas_type] > min_r) & (tracks[enter_DD]['cold_mass_dist'] < max_r))\n",
    "            \n",
    "            mass_stars_init =  tracks[enter_DD]['stars_mass'][parts][-1]\n",
    "            mass_stars_final =  tracks[max_DD]['stars_mass'][parts][-1]\n",
    "            delta_stars = mass_stars_final - mass_stars_init\n",
    "            mass_init = tracks[enter_DD]['%sgas_mass'%gas_type][parts][-1]\n",
    "            mass_final = tracks[max_DD]['%sgas_mass'%gas_type][parts][-1]# + delta_stars            \n",
    "            mass_newstars = max((mass_stars_final - mass_stars_init,0))\n",
    "            \n",
    "            c = max(min(float(np.log10(mass_stars_final)), 9), 6)\n",
    "            \n",
    "            pr.append(mass_final/mass_init)\n",
    "            pm.append(np.log10(tot_mom))\n",
    "            pc.append(c)\n",
    "            \n",
    "            \n",
    "ss = axes2.scatter(pm, pr, marker = 'o', cmap = plt.cm.viridis, c = pc, s = 80)\n",
    "\n",
    "cbaxes = fig2.add_axes([0.7, 0.88, 0.20, 0.05]) \n",
    "cbar = plt.colorbar(ss, cax = cbaxes, orientation = 'horizontal')#, norm=mpl.colors.Normalize(vmin=6, vmax=9))\n",
    "#cbar.set_clim(-0.1, 1.0)\n",
    "\n",
    "#cbar.set_clim(6, 9.)\n",
    "\n",
    "cbar.set_ticks([6, 7, 8, 9])\n",
    "#cbar.set_ticklabels(['8', '10'])\n",
    "cbar.set_label(r'$\\log$ M$_{\\text{*}}$/M$_{\\odot}$' + '\\n(z = 2)', fontsize = 15)\n",
    "\n",
    "axes2.axhline(y = 0.0, color = 'grey', alpha = 0.3, zorder = 10)\n",
    "axes2.set_yticks(np.arange(0, 2.5, 0.5))\n",
    "axes2.set_ylim(-0.05, 1.7)\n",
    "axes2.set_xlim(7, 12)\n",
    "\n",
    "axes2.annotate(r'r $<$ half-mass radii', (0.05, 0.90), \\\n",
    "                xycoords = 'axes fraction', ha = 'left', va = 'bottom', color = 'black', fontsize = 20)\n",
    "            \n",
    "'''\n",
    "for ax in axes.ravel(): \n",
    "    ax.set_ylim(0, 1.e-8)\n",
    "    ax.set_yscale('symlog', linthreshy = 1.e-17)\n",
    "    ax.set_yticks(concatenate((np.array([0]), 10.**np.arange(-17, -7, 2))))\n",
    "'''\n",
    "fig_dir = '/Users/rsimons/Dropbox/foggie/figures/for_paper'\n",
    "\n",
    "axes2.set_xlabel('Surface Momentum Imparted\\n(M$_{\\odot}$ km s$^{-1}$ kpc$^{-2}$)')\n",
    "axes2.set_ylabel(r'M$_{\\text{gas,final}}$/M$_{\\text{gas,initial}}$')\n",
    "\n",
    "fig2.tight_layout()\n",
    "#fig.savefig(fig_dir + '/big_plot.png', dpi = 200)\n",
    "fig2.savefig(fig_dir + '/momentum_vs_coldgaslost_new2.png', dpi = 200)\n",
    "\n"
   ]
  },
  {
   "cell_type": "code",
   "execution_count": 84,
   "metadata": {},
   "outputs": [
    {
     "data": {
      "text/plain": [
       "(8.144316350512602, 10.258085754842494)"
      ]
     },
     "execution_count": 84,
     "metadata": {},
     "output_type": "execute_result"
    }
   ],
   "source": [
    "cbar.get_clim()"
   ]
  },
  {
   "cell_type": "code",
   "execution_count": 79,
   "metadata": {},
   "outputs": [
    {
     "ename": "AttributeError",
     "evalue": "'Colorbar' object has no attribute '_tick_data_values'",
     "output_type": "error",
     "traceback": [
      "\u001b[0;31m---------------------------------------------------------------------------\u001b[0m",
      "\u001b[0;31mAttributeError\u001b[0m                            Traceback (most recent call last)",
      "\u001b[0;32m<ipython-input-79-d5782d6eb2e9>\u001b[0m in \u001b[0;36m<module>\u001b[0;34m()\u001b[0m\n\u001b[0;32m----> 1\u001b[0;31m \u001b[0mcbar\u001b[0m\u001b[0;34m.\u001b[0m\u001b[0mget_ticks\u001b[0m\u001b[0;34m(\u001b[0m\u001b[0;34m)\u001b[0m\u001b[0;34m\u001b[0m\u001b[0m\n\u001b[0m",
      "\u001b[0;32m/Users/rsimons/opt/miniconda3/envs/py35/lib/python3.5/site-packages/matplotlib/colorbar.py\u001b[0m in \u001b[0;36mget_ticks\u001b[0;34m(self, minor)\u001b[0m\n\u001b[1;32m    572\u001b[0m     \u001b[0;32mdef\u001b[0m \u001b[0mget_ticks\u001b[0m\u001b[0;34m(\u001b[0m\u001b[0mself\u001b[0m\u001b[0;34m,\u001b[0m \u001b[0mminor\u001b[0m\u001b[0;34m=\u001b[0m\u001b[0;32mFalse\u001b[0m\u001b[0;34m)\u001b[0m\u001b[0;34m:\u001b[0m\u001b[0;34m\u001b[0m\u001b[0m\n\u001b[1;32m    573\u001b[0m         \u001b[0;34m\"\"\"Return the x ticks as a list of locations\"\"\"\u001b[0m\u001b[0;34m\u001b[0m\u001b[0m\n\u001b[0;32m--> 574\u001b[0;31m         \u001b[0;32mreturn\u001b[0m \u001b[0mself\u001b[0m\u001b[0;34m.\u001b[0m\u001b[0m_tick_data_values\u001b[0m\u001b[0;34m\u001b[0m\u001b[0m\n\u001b[0m\u001b[1;32m    575\u001b[0m \u001b[0;34m\u001b[0m\u001b[0m\n\u001b[1;32m    576\u001b[0m     \u001b[0;32mdef\u001b[0m \u001b[0mset_ticklabels\u001b[0m\u001b[0;34m(\u001b[0m\u001b[0mself\u001b[0m\u001b[0;34m,\u001b[0m \u001b[0mticklabels\u001b[0m\u001b[0;34m,\u001b[0m \u001b[0mupdate_ticks\u001b[0m\u001b[0;34m=\u001b[0m\u001b[0;32mTrue\u001b[0m\u001b[0;34m)\u001b[0m\u001b[0;34m:\u001b[0m\u001b[0;34m\u001b[0m\u001b[0m\n",
      "\u001b[0;31mAttributeError\u001b[0m: 'Colorbar' object has no attribute '_tick_data_values'"
     ]
    }
   ],
   "source": []
  },
  {
   "cell_type": "code",
   "execution_count": 21,
   "metadata": {},
   "outputs": [
    {
     "data": {
      "text/plain": [
       "array([0., 0.])"
      ]
     },
     "execution_count": 21,
     "metadata": {},
     "output_type": "execute_result"
    }
   ],
   "source": [
    "vr"
   ]
  },
  {
   "cell_type": "code",
   "execution_count": 16,
   "metadata": {},
   "outputs": [
    {
     "data": {
      "text/plain": [
       "array([0.   , 0.001, 0.002, 0.003, 0.004, 0.005, 0.006, 0.007, 0.008,\n",
       "       0.009, 0.01 , 0.011, 0.012, 0.013, 0.014, 0.015, 0.016, 0.017,\n",
       "       0.018, 0.019, 0.02 , 0.021, 0.022, 0.023, 0.024, 0.025, 0.026,\n",
       "       0.027, 0.028, 0.029, 0.03 , 0.031, 0.032, 0.033, 0.034, 0.035,\n",
       "       0.036, 0.037, 0.038, 0.039, 0.04 , 0.041, 0.042, 0.043, 0.044,\n",
       "       0.045, 0.046, 0.047, 0.048, 0.049, 0.05 , 0.051, 0.052, 0.053,\n",
       "       0.054, 0.055, 0.056, 0.057, 0.058, 0.059, 0.06 , 0.061, 0.062,\n",
       "       0.063, 0.064, 0.065, 0.066, 0.067, 0.068, 0.069, 0.07 , 0.071,\n",
       "       0.072, 0.073, 0.074, 0.075, 0.076, 0.077, 0.078, 0.079, 0.08 ,\n",
       "       0.081, 0.082, 0.083, 0.084, 0.085, 0.086, 0.087, 0.088, 0.089,\n",
       "       0.09 , 0.091, 0.092, 0.093, 0.094, 0.095, 0.096, 0.097, 0.098,\n",
       "       0.099, 0.1  , 0.101, 0.102, 0.103, 0.104, 0.105, 0.106, 0.107,\n",
       "       0.108, 0.109, 0.11 , 0.111, 0.112, 0.113, 0.114, 0.115, 0.116,\n",
       "       0.117, 0.118, 0.119, 0.12 , 0.121, 0.122, 0.123, 0.124, 0.125,\n",
       "       0.126, 0.127, 0.128, 0.129, 0.13 , 0.131, 0.132, 0.133, 0.134,\n",
       "       0.135, 0.136, 0.137, 0.138, 0.139, 0.14 , 0.141, 0.142, 0.143,\n",
       "       0.144, 0.145, 0.146, 0.147, 0.148, 0.149, 0.15 , 0.151, 0.152,\n",
       "       0.153, 0.154, 0.155, 0.156, 0.157, 0.158, 0.159, 0.16 , 0.161,\n",
       "       0.162, 0.163, 0.164, 0.165, 0.166, 0.167, 0.168, 0.169, 0.17 ,\n",
       "       0.171, 0.172, 0.173, 0.174, 0.175, 0.176, 0.177, 0.178, 0.179,\n",
       "       0.18 , 0.181, 0.182, 0.183, 0.184, 0.185, 0.186, 0.187, 0.188,\n",
       "       0.189, 0.19 , 0.191, 0.192, 0.193, 0.194, 0.195, 0.196, 0.197,\n",
       "       0.198, 0.199, 0.2  , 0.201, 0.202, 0.203, 0.204, 0.205, 0.206,\n",
       "       0.207, 0.208, 0.209, 0.21 , 0.211, 0.212, 0.213, 0.214, 0.215,\n",
       "       0.216, 0.217, 0.218, 0.219, 0.22 , 0.221, 0.222, 0.223, 0.224,\n",
       "       0.225, 0.226, 0.227, 0.228, 0.229, 0.23 , 0.231, 0.232, 0.233,\n",
       "       0.234, 0.235, 0.236, 0.237, 0.238, 0.239, 0.24 , 0.241, 0.242,\n",
       "       0.243, 0.244, 0.245, 0.246, 0.247, 0.248, 0.249, 0.25 , 0.251,\n",
       "       0.252, 0.253, 0.254, 0.255, 0.256, 0.257, 0.258, 0.259, 0.26 ,\n",
       "       0.261, 0.262, 0.263, 0.264, 0.265, 0.266, 0.267, 0.268, 0.269,\n",
       "       0.27 , 0.271, 0.272, 0.273, 0.274, 0.275, 0.276, 0.277, 0.278,\n",
       "       0.279, 0.28 , 0.281, 0.282, 0.283, 0.284, 0.285, 0.286, 0.287,\n",
       "       0.288, 0.289, 0.29 , 0.291, 0.292, 0.293, 0.294, 0.295, 0.296,\n",
       "       0.297, 0.298, 0.299, 0.3  , 0.301, 0.302, 0.303, 0.304, 0.305,\n",
       "       0.306, 0.307, 0.308, 0.309, 0.31 , 0.311, 0.312, 0.313, 0.314,\n",
       "       0.315, 0.316, 0.317, 0.318, 0.319, 0.32 , 0.321, 0.322, 0.323,\n",
       "       0.324, 0.325, 0.326, 0.327, 0.328, 0.329, 0.33 , 0.331, 0.332,\n",
       "       0.333, 0.334, 0.335, 0.336, 0.337, 0.338, 0.339, 0.34 , 0.341,\n",
       "       0.342, 0.343, 0.344, 0.345, 0.346, 0.347, 0.348, 0.349, 0.35 ,\n",
       "       0.351, 0.352, 0.353, 0.354, 0.355, 0.356, 0.357, 0.358, 0.359,\n",
       "       0.36 , 0.361, 0.362, 0.363, 0.364, 0.365, 0.366, 0.367, 0.368,\n",
       "       0.369, 0.37 , 0.371, 0.372, 0.373, 0.374, 0.375, 0.376, 0.377,\n",
       "       0.378, 0.379, 0.38 , 0.381, 0.382, 0.383, 0.384, 0.385, 0.386,\n",
       "       0.387, 0.388, 0.389, 0.39 , 0.391, 0.392, 0.393, 0.394, 0.395,\n",
       "       0.396, 0.397, 0.398, 0.399, 0.4  , 0.401, 0.402, 0.403, 0.404,\n",
       "       0.405, 0.406, 0.407, 0.408, 0.409, 0.41 , 0.411, 0.412, 0.413,\n",
       "       0.414, 0.415, 0.416, 0.417, 0.418, 0.419, 0.42 , 0.421, 0.422,\n",
       "       0.423, 0.424, 0.425, 0.426, 0.427, 0.428, 0.429, 0.43 , 0.431,\n",
       "       0.432, 0.433, 0.434, 0.435, 0.436, 0.437, 0.438, 0.439, 0.44 ,\n",
       "       0.441, 0.442, 0.443, 0.444, 0.445, 0.446, 0.447, 0.448, 0.449,\n",
       "       0.45 , 0.451, 0.452, 0.453, 0.454, 0.455, 0.456, 0.457, 0.458,\n",
       "       0.459, 0.46 , 0.461, 0.462, 0.463, 0.464, 0.465, 0.466, 0.467,\n",
       "       0.468, 0.469, 0.47 , 0.471, 0.472, 0.473, 0.474, 0.475, 0.476,\n",
       "       0.477, 0.478, 0.479, 0.48 , 0.481, 0.482, 0.483, 0.484, 0.485,\n",
       "       0.486, 0.487, 0.488, 0.489, 0.49 , 0.491, 0.492, 0.493, 0.494,\n",
       "       0.495, 0.496, 0.497, 0.498, 0.499, 0.5  , 0.501, 0.502, 0.503,\n",
       "       0.504, 0.505, 0.506, 0.507, 0.508, 0.509, 0.51 , 0.511, 0.512,\n",
       "       0.513, 0.514, 0.515, 0.516, 0.517, 0.518, 0.519, 0.52 , 0.521,\n",
       "       0.522, 0.523, 0.524, 0.525, 0.526, 0.527, 0.528, 0.529, 0.53 ,\n",
       "       0.531, 0.532, 0.533, 0.534, 0.535, 0.536, 0.537, 0.538, 0.539,\n",
       "       0.54 , 0.541, 0.542, 0.543, 0.544, 0.545, 0.546, 0.547, 0.548,\n",
       "       0.549, 0.55 , 0.551, 0.552, 0.553, 0.554, 0.555, 0.556, 0.557,\n",
       "       0.558, 0.559, 0.56 , 0.561, 0.562, 0.563, 0.564, 0.565, 0.566,\n",
       "       0.567, 0.568, 0.569, 0.57 , 0.571, 0.572, 0.573, 0.574, 0.575,\n",
       "       0.576, 0.577, 0.578, 0.579, 0.58 , 0.581, 0.582, 0.583, 0.584,\n",
       "       0.585, 0.586, 0.587, 0.588, 0.589, 0.59 , 0.591, 0.592, 0.593,\n",
       "       0.594, 0.595, 0.596, 0.597, 0.598, 0.599, 0.6  , 0.601, 0.602,\n",
       "       0.603, 0.604, 0.605, 0.606, 0.607, 0.608, 0.609, 0.61 , 0.611,\n",
       "       0.612, 0.613, 0.614, 0.615, 0.616, 0.617, 0.618, 0.619, 0.62 ,\n",
       "       0.621, 0.622, 0.623, 0.624, 0.625, 0.626, 0.627, 0.628, 0.629,\n",
       "       0.63 , 0.631, 0.632, 0.633, 0.634, 0.635, 0.636, 0.637, 0.638,\n",
       "       0.639, 0.64 , 0.641, 0.642, 0.643, 0.644, 0.645, 0.646, 0.647,\n",
       "       0.648, 0.649, 0.65 , 0.651, 0.652, 0.653, 0.654, 0.655, 0.656,\n",
       "       0.657, 0.658, 0.659, 0.66 , 0.661, 0.662, 0.663, 0.664, 0.665,\n",
       "       0.666, 0.667, 0.668, 0.669, 0.67 , 0.671, 0.672, 0.673, 0.674,\n",
       "       0.675, 0.676, 0.677, 0.678, 0.679, 0.68 , 0.681, 0.682, 0.683,\n",
       "       0.684, 0.685, 0.686, 0.687, 0.688, 0.689, 0.69 , 0.691, 0.692,\n",
       "       0.693, 0.694, 0.695, 0.696, 0.697, 0.698, 0.699, 0.7  , 0.701,\n",
       "       0.702, 0.703, 0.704, 0.705, 0.706, 0.707, 0.708, 0.709, 0.71 ,\n",
       "       0.711, 0.712, 0.713, 0.714, 0.715, 0.716, 0.717, 0.718, 0.719,\n",
       "       0.72 , 0.721, 0.722, 0.723, 0.724, 0.725, 0.726, 0.727, 0.728,\n",
       "       0.729, 0.73 , 0.731, 0.732, 0.733, 0.734, 0.735, 0.736, 0.737,\n",
       "       0.738, 0.739, 0.74 , 0.741, 0.742, 0.743, 0.744, 0.745, 0.746,\n",
       "       0.747, 0.748, 0.749, 0.75 , 0.751, 0.752, 0.753, 0.754, 0.755,\n",
       "       0.756, 0.757, 0.758, 0.759, 0.76 , 0.761, 0.762, 0.763, 0.764,\n",
       "       0.765, 0.766, 0.767, 0.768, 0.769, 0.77 , 0.771, 0.772, 0.773,\n",
       "       0.774, 0.775, 0.776, 0.777, 0.778, 0.779, 0.78 , 0.781, 0.782,\n",
       "       0.783, 0.784, 0.785, 0.786, 0.787, 0.788, 0.789, 0.79 , 0.791,\n",
       "       0.792, 0.793, 0.794, 0.795, 0.796, 0.797, 0.798, 0.799, 0.8  ,\n",
       "       0.801, 0.802, 0.803, 0.804, 0.805, 0.806, 0.807, 0.808, 0.809,\n",
       "       0.81 , 0.811, 0.812, 0.813, 0.814, 0.815, 0.816, 0.817, 0.818,\n",
       "       0.819, 0.82 , 0.821, 0.822, 0.823, 0.824, 0.825, 0.826, 0.827,\n",
       "       0.828, 0.829, 0.83 , 0.831, 0.832, 0.833, 0.834, 0.835, 0.836,\n",
       "       0.837, 0.838, 0.839, 0.84 , 0.841, 0.842, 0.843, 0.844, 0.845,\n",
       "       0.846, 0.847, 0.848, 0.849, 0.85 , 0.851, 0.852, 0.853, 0.854,\n",
       "       0.855, 0.856, 0.857, 0.858, 0.859, 0.86 , 0.861, 0.862, 0.863,\n",
       "       0.864, 0.865, 0.866, 0.867, 0.868, 0.869, 0.87 , 0.871, 0.872,\n",
       "       0.873, 0.874, 0.875, 0.876, 0.877, 0.878, 0.879, 0.88 , 0.881,\n",
       "       0.882, 0.883, 0.884, 0.885, 0.886, 0.887, 0.888, 0.889, 0.89 ,\n",
       "       0.891, 0.892, 0.893, 0.894, 0.895, 0.896, 0.897, 0.898, 0.899,\n",
       "       0.9  , 0.901, 0.902, 0.903, 0.904, 0.905, 0.906, 0.907, 0.908,\n",
       "       0.909, 0.91 , 0.911, 0.912, 0.913, 0.914, 0.915, 0.916, 0.917,\n",
       "       0.918, 0.919, 0.92 , 0.921, 0.922, 0.923, 0.924, 0.925, 0.926,\n",
       "       0.927, 0.928, 0.929, 0.93 , 0.931, 0.932, 0.933, 0.934, 0.935,\n",
       "       0.936, 0.937, 0.938, 0.939, 0.94 , 0.941, 0.942, 0.943, 0.944,\n",
       "       0.945, 0.946, 0.947, 0.948, 0.949, 0.95 , 0.951, 0.952, 0.953,\n",
       "       0.954, 0.955, 0.956, 0.957, 0.958, 0.959, 0.96 , 0.961, 0.962,\n",
       "       0.963, 0.964, 0.965, 0.966, 0.967, 0.968, 0.969, 0.97 , 0.971,\n",
       "       0.972, 0.973, 0.974, 0.975, 0.976, 0.977, 0.978, 0.979, 0.98 ,\n",
       "       0.981, 0.982, 0.983, 0.984, 0.985, 0.986, 0.987, 0.988, 0.989,\n",
       "       0.99 , 0.991, 0.992, 0.993, 0.994, 0.995, 0.996, 0.997, 0.998,\n",
       "       0.999])"
      ]
     },
     "execution_count": 16,
     "metadata": {},
     "output_type": "execute_result"
    }
   ],
   "source": [
    " np.arange(0.0, 1.0, 1.e-3)\n"
   ]
  },
  {
   "cell_type": "code",
   "execution_count": 39,
   "metadata": {},
   "outputs": [
    {
     "data": {
      "text/plain": [
       "8.144316350512602"
      ]
     },
     "execution_count": 39,
     "metadata": {},
     "output_type": "execute_result"
    }
   ],
   "source": [
    "float(np.log10(tot_mass[-1]))"
   ]
  },
  {
   "cell_type": "code",
   "execution_count": 46,
   "metadata": {},
   "outputs": [
    {
     "data": {
      "text/plain": [
       "YTArray([7.96611078e-10, 0.00000000e+00, 2.34780838e-13, 3.30927815e-12,\n",
       "         0.00000000e+00, 0.00000000e+00, 0.00000000e+00, 0.00000000e+00,\n",
       "         0.00000000e+00, 0.00000000e+00, 1.72267064e-14, 2.22500183e-12,\n",
       "         0.00000000e+00, 0.00000000e+00, 0.00000000e+00, 0.00000000e+00,\n",
       "         1.98516897e-13, 0.00000000e+00, 1.73565013e-11, 1.42115701e-11,\n",
       "         8.94846672e-10, 0.00000000e+00, 1.96500329e-14, 1.76511232e-15,\n",
       "         0.00000000e+00, 4.50183986e-12, 4.92000602e-11, 0.00000000e+00,\n",
       "         2.69811964e-11, 1.39236298e-10, 2.44305205e-09, 1.26550421e-11,\n",
       "         3.97677330e-10, 5.37043099e-17, 7.69364100e-11, 2.18117115e-13,\n",
       "         1.77422808e-11, 1.94580507e-12, 0.00000000e+00, 2.07418869e-13,\n",
       "         5.21640238e-12, 0.00000000e+00, 1.88878031e-12, 8.14507115e-11,\n",
       "         2.17801306e-12, 1.40417763e-12, 1.27084020e-11, 4.59197637e-11,\n",
       "         0.00000000e+00, 0.00000000e+00, 0.00000000e+00, 1.27550866e-09,\n",
       "         1.80777989e-12, 1.51306875e-12, 2.34504525e-13, 6.31561837e-14,\n",
       "         1.58266834e-10, 3.18373952e-11, 1.65922194e-11, 1.24754535e-11,\n",
       "         0.00000000e+00, 7.62416072e-12, 0.00000000e+00, 9.37562947e-11,\n",
       "         0.00000000e+00, 1.02073000e-13, 4.60912219e-13, 8.61546633e-12,\n",
       "         8.35454276e-15, 3.71710755e-17, 1.63151824e-11, 0.00000000e+00,\n",
       "         3.31887074e-13, 5.31317194e-16, 0.00000000e+00, 6.78024602e-17,\n",
       "         0.00000000e+00, 0.00000000e+00, 0.00000000e+00, 0.00000000e+00,\n",
       "         1.99435129e-14, 0.00000000e+00, 0.00000000e+00, 0.00000000e+00,\n",
       "         0.00000000e+00, 2.40995748e-18, 3.07467759e-15, 2.25484535e-14,\n",
       "         1.63837210e-10, 1.31803030e-12, 8.53864617e-14, 9.77711111e-13,\n",
       "         0.00000000e+00, 1.94186211e-11, 5.10370164e-13, 0.00000000e+00,\n",
       "         4.13689189e-12, 7.63380151e-13, 1.17624100e-11, 1.24544475e-11,\n",
       "         5.78987563e-12, 1.22374576e-14, 3.17149764e-14, 5.93647505e-12,\n",
       "         4.25999718e-14, 4.07437259e-13, 5.64675756e-14, 2.18717043e-12,\n",
       "         3.48534482e-14, 1.02053837e-12, 2.33791772e-13, 1.81726254e-13,\n",
       "         5.16850089e-15, 2.82244185e-14, 8.23761671e-14, 6.06472782e-14,\n",
       "         1.45725049e-14, 1.31368757e-12, 2.49233962e-14, 6.63937653e-13,\n",
       "         3.79486903e-13, 5.67644796e-13, 5.77230438e-13, 6.17696538e-15,\n",
       "         2.69555115e-13, 6.69591714e-15]) dyne/cm**2"
      ]
     },
     "execution_count": 46,
     "metadata": {},
     "output_type": "execute_result"
    }
   ],
   "source": [
    "yt.YTArray(ram_all).to('dyne*cm**-2')"
   ]
  },
  {
   "cell_type": "code",
   "execution_count": 42,
   "metadata": {},
   "outputs": [
    {
     "data": {
      "text/plain": [
       "463534729.18911403 Msun"
      ]
     },
     "execution_count": 42,
     "metadata": {},
     "output_type": "execute_result"
    }
   ],
   "source": [
    "mass_init"
   ]
  },
  {
   "cell_type": "code",
   "execution_count": null,
   "metadata": {},
   "outputs": [],
   "source": []
  },
  {
   "cell_type": "code",
   "execution_count": null,
   "metadata": {},
   "outputs": [],
   "source": []
  },
  {
   "cell_type": "code",
   "execution_count": null,
   "metadata": {},
   "outputs": [],
   "source": []
  },
  {
   "cell_type": "code",
   "execution_count": null,
   "metadata": {},
   "outputs": [],
   "source": []
  },
  {
   "cell_type": "code",
   "execution_count": null,
   "metadata": {},
   "outputs": [],
   "source": []
  },
  {
   "cell_type": "code",
   "execution_count": null,
   "metadata": {},
   "outputs": [],
   "source": []
  }
 ],
 "metadata": {
  "kernelspec": {
   "display_name": "Python 3",
   "language": "python",
   "name": "python3"
  },
  "language_info": {
   "codemirror_mode": {
    "name": "ipython",
    "version": 3
   },
   "file_extension": ".py",
   "mimetype": "text/x-python",
   "name": "python",
   "nbconvert_exporter": "python",
   "pygments_lexer": "ipython3",
   "version": "3.5.6"
  }
 },
 "nbformat": 4,
 "nbformat_minor": 2
}
