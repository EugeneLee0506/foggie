{
 "cells": [
  {
   "cell_type": "code",
   "execution_count": 88,
   "metadata": {},
   "outputs": [
    {
     "name": "stderr",
     "output_type": "stream",
     "text": [
      "<ipython-input-88-eea44c7f4d77>:24: MatplotlibDeprecationWarning: You are modifying the state of a globally registered colormap. In future versions, you will not be able to modify a registered colormap in-place. To remove this warning, you can make a copy of the colormap first. cmap = copy.copy(mpl.cm.get_cmap(\"viridis\"))\n",
      "  cmp.set_bad('k')\n"
     ]
    }
   ],
   "source": [
    "%matplotlib inline\n",
    "import matplotlib.pyplot as plt\n",
    "from astropy.convolution import convolve_fft, Gaussian2DKernel\n",
    "import os\n",
    "import glob\n",
    "from glob import glob\n",
    "from astropy.table import Table\n",
    "mass_types = [(-1.,  -1., 'dm', 'black'),\n",
    "              (-1.,  -1.,    'stars', 'goldenrod'),\n",
    "              (0.,    1.5e4, 'cold', 'darkblue'),\n",
    "              (1.5e4, 1.e5, 'warm', 'blue'),\n",
    "              (1.e5,  1.e6, 'warmhot', 'red'),\n",
    "              (1.e6,  1.e10, 'hot', 'darkred')]\n",
    "mass_types = ['dm', 'stars', 'cold', 'warm', 'warmhot', 'hot']\n",
    "\n",
    "halos = ['8508',\n",
    "         '5016',\n",
    "         '4123',\n",
    "         '2392',\n",
    "         '5036',\n",
    "         '2878']\n",
    "\n",
    "cmp = plt.cm.viridis\n",
    "cmp.set_bad('k')\n"
   ]
  },
  {
   "cell_type": "code",
   "execution_count": 187,
   "metadata": {},
   "outputs": [
    {
     "name": "stdout",
     "output_type": "stream",
     "text": [
      "DD0487\n"
     ]
    },
    {
     "name": "stderr",
     "output_type": "stream",
     "text": [
      "<ipython-input-187-320f21ea2a8c>:38: RuntimeWarning: divide by zero encountered in log10\n",
      "  Mhst  = np.rot90(np.log10(np.nansum(Mhst_full, axis = dim_tuple)))\n",
      "<ipython-input-187-320f21ea2a8c>:74: UserWarning: The following kwargs were not used by contour: 'linewidth'\n",
      "  axes[1].contour(YY, XX, Lhst_center/np.max(Lhst_center),\n"
     ]
    },
    {
     "name": "stdout",
     "output_type": "stream",
     "text": [
      "DD0537\n",
      "DD0587\n",
      "DD0637\n",
      "DD0687\n",
      "DD0737\n",
      "DD0787\n",
      "DD0837\n",
      "DD0887\n",
      "DD0937\n",
      "DD0987\n",
      "DD1037\n",
      "DD1087\n",
      "DD1137\n",
      "DD1187\n",
      "DD1237\n",
      "DD1287\n",
      "DD1337\n",
      "DD1387\n",
      "DD1437\n",
      "DD1487\n",
      "DD1537\n",
      "DD1587\n",
      "DD1637\n",
      "DD1687\n",
      "DD1737\n",
      "DD1787\n",
      "DD1837\n",
      "DD1887\n",
      "DD1937\n",
      "DD1987\n",
      "DD2037\n",
      "DD2087\n",
      "DD2137\n",
      "DD2187\n",
      "DD2237\n",
      "DD2287\n",
      "DD2337\n",
      "DD2387\n",
      "DD2427\n"
     ]
    }
   ],
   "source": [
    "matplotlib.rcParams.update({'font.size': 12})\n",
    "for halo in halos[:1]:\n",
    "    DD_fls = sort(glob('/Users/rsimons/Dropbox/foggie/angular_momentum/new_profiles_temp/%s/Lprof_%s_DD????.npy'%(halo, halo)))\n",
    "    #DD_fls = sort(glob('/Users/rsimons/Dropbox/foggie/angular_momentum/profiles/%s/Lprof_%s_DD????.npy'%(halo, halo)))\n",
    "    rvir_masses = Table.read('/Users/rsimons/Dropbox/git/foggie/foggie/halo_infos/00%s/nref11c_nref9f/rvir_masses.hdf5'%halo)\n",
    "    for DD_fl in DD_fls:\n",
    "        DD = DD_fl.split('/')[-1][-10:-4]\n",
    "        #DD = DD_fl.split('/')[-1][-15:-9]\n",
    "        print (DD)\n",
    "        #rvir_test = rvir_masses['radius'][rvir_masses['snapshot'] == DD].data\n",
    "        #redshift  = rvir_masses['redshift'][rvir_masses['snapshot'] == DD].data\n",
    "        #print (halo, DD, '%.2f'%redshift) \n",
    "        fig, axes = plt.subplots(1,2, figsize = (8, 4), facecolor = 'white')\n",
    "        ax1 = axes[0]\n",
    "        ax2 = axes[1]\n",
    "        figname = DD_fl.replace('.npy', '.png').replace('profiles', 'figures')\n",
    "        Lprof = np.load(DD_fl, allow_pickle = True)[()]\n",
    "\n",
    "        for mm, mtype in enumerate(mass_types[2:3]):\n",
    "            #if mtype != 'stars': continue\n",
    "            \n",
    "            Lhst_full = Lprof[mtype]['r_dist']['L_hst'][:3,:,:,:]\n",
    "            Mhst_full = Lprof[mtype]['r_dist']['M_hst'][:3,:,:,:]\n",
    "            dim_tuple = tuple(np.arange(Lhst_full.ndim-2))\n",
    "            Lhst_center  = np.rot90(np.nansum(Lhst_full, axis = dim_tuple))\n",
    "            Mhst  = np.rot90(np.nansum(Mhst_full, axis = dim_tuple))     \n",
    "            \n",
    "            Lhst_rvl = Lhst_center.ravel()\n",
    "            vmn, vmx = 0.0, np.nanpercentile(Lhst_rvl, [99.5])[0]\n",
    "            axes[0].imshow(Lhst_center, cmap = cmp, vmin = vmn, vmax = vmx)\n",
    "            axes[0].annotate(mtype, (0.98, 0.05), xycoords = 'axes fraction', ha = 'right', va = 'bottom', \\\n",
    "                        color = 'white', fontweight = 'bold', fontsize = 22)\n",
    "            \n",
    "            Lhst_full = Lprof['warm']['r_dist']['L_hst'][3:10,:2,:1,:]\n",
    "            Mhst_full = Lprof['warm']['r_dist']['M_hst'][3:10,:2,:1,:]\n",
    "            dim_tuple = tuple(np.arange(Lhst_full.ndim-2))\n",
    "            Lhst  = np.rot90(np.nansum(Lhst_full, axis = dim_tuple))\n",
    "            Mhst  = np.rot90(np.log10(np.nansum(Mhst_full, axis = dim_tuple)))\n",
    "            \n",
    "            Lhst_rvl = Lhst.ravel()\n",
    "            Mhst_rvl = Mhst.ravel()\n",
    "            if len(Mhst_rvl[isfinite(Mhst_rvl)]) < 3: continue\n",
    "            vmn, vmx = np.nanpercentile(Mhst_rvl[isfinite(Mhst_rvl)], [5])[0], np.nanpercentile(Mhst_rvl[isfinite(Mhst_rvl)], [95])[0]\n",
    "\n",
    "            axes[1].imshow(Mhst, cmap = cmp, vmin = vmn, vmax = vmx)\n",
    "            axes[1].annotate('warm', (0.98, 0.05), xycoords = 'axes fraction', ha = 'right', va = 'bottom', \\\n",
    "                        color = 'white', fontweight = 'bold', fontsize = 22)\n",
    "                        \n",
    "            \n",
    "            \n",
    "            \n",
    "        for ax in axes:\n",
    "            ax.set_xlim(0, 199)\n",
    "            ax.set_ylim(199, 0)\n",
    "\n",
    "            ax.set_xlabel(r'$\\theta_{\\mathrm{L}}$ (deg.)')\n",
    "            ax.set_ylabel(r'$\\phi_{\\mathrm{L}}$ (deg.)')\n",
    "\n",
    "            xtck_use  = np.arange(-180, 240, 60)\n",
    "            xtcks_real = np.interp(xtck_use, [-180, 180],  [0, 199])\n",
    "            ax.set_xticks(xtcks_real)\n",
    "            ax.set_xticklabels(['%i'%tck for tck in xtck_use])\n",
    "\n",
    "            ytck_use  = np.arange(0, 240, 60)\n",
    "            ytcks_real = np.interp(ytck_use, [0, 180],  [0, 199])\n",
    "            ax.set_yticks(ytcks_real)\n",
    "            ax.set_yticklabels(['%i'%tck for tck in ytck_use])\n",
    "\n",
    "            binsx = np.arange(199)#(xmn, xmx, nbins)\n",
    "            binsy = np.arange(199)#(ymn, ymx, nbins)\n",
    "\n",
    "            YY, XX = np.meshgrid(binsy, binsx)\n",
    "\n",
    "        axes[1].contour(YY, XX, Lhst_center/np.max(Lhst_center), \n",
    "                   levels = [0.10], zorder = 10, colors = 'white', \n",
    "                   alpha = 0.5, linewidth = 0.5)\n",
    "\n",
    "        \n",
    "        fig.subplots_adjust(hspace = 0.05, wspace = 0.05)\n",
    "        fig.set_dpi(300)\n",
    "        fig.tight_layout()\n",
    "        fig.savefig(figname)\n",
    "        plt.close(fig)\n",
    "\n",
    "\n"
   ]
  },
  {
   "cell_type": "code",
   "execution_count": 184,
   "metadata": {},
   "outputs": [
    {
     "data": {
      "text/plain": [
       "array([], dtype=float64)"
      ]
     },
     "execution_count": 184,
     "metadata": {},
     "output_type": "execute_result"
    }
   ],
   "source": [
    "Mhst_rvl[isfinite(Mhst_rvl)]"
   ]
  },
  {
   "cell_type": "code",
   "execution_count": 170,
   "metadata": {},
   "outputs": [
    {
     "data": {
      "text/plain": [
       "array([3.42800295, 3.39263728, 3.17152067, ..., 3.1054272 , 2.91663339,\n",
       "       2.6384473 ])"
      ]
     },
     "execution_count": 170,
     "metadata": {},
     "output_type": "execute_result"
    }
   ],
   "source": [
    "Mhst_rvl[isfinite(Mhst_rvl)]"
   ]
  },
  {
   "cell_type": "code",
   "execution_count": null,
   "metadata": {},
   "outputs": [],
   "source": [
    "axes[1].contour"
   ]
  },
  {
   "cell_type": "code",
   "execution_count": 89,
   "metadata": {},
   "outputs": [
    {
     "name": "stdout",
     "output_type": "stream",
     "text": [
      "DD0487\n",
      "DD0537\n",
      "DD0587\n",
      "DD0637\n",
      "DD0687\n",
      "DD0737\n",
      "DD0787\n",
      "DD0837\n",
      "DD0887\n",
      "DD0937\n",
      "DD0987\n",
      "DD1037\n",
      "DD1087\n",
      "DD1137\n",
      "DD1187\n",
      "DD1237\n",
      "DD1287\n",
      "DD1337\n",
      "DD1387\n",
      "DD1437\n",
      "DD1487\n",
      "DD1537\n",
      "DD1587\n",
      "DD1637\n",
      "DD1687\n",
      "DD1737\n",
      "DD1787\n",
      "DD1837\n",
      "DD1887\n",
      "DD1937\n",
      "DD1987\n",
      "DD2037\n",
      "DD2087\n",
      "DD2137\n",
      "DD2187\n",
      "DD2237\n",
      "DD2287\n",
      "DD2337\n",
      "DD2387\n",
      "DD2427\n"
     ]
    }
   ],
   "source": [
    "for halo in halos[:1]:\n",
    "    DD_fls = sort(glob('/Users/rsimons/Dropbox/foggie/angular_momentum/new_profiles_temp/%s/Lprof_%s_DD????.npy'%(halo, halo)))\n",
    "    #DD_fls = sort(glob('/Users/rsimons/Dropbox/foggie/angular_momentum/profiles/%s/Lprof_%s_DD????_test.npy'%(halo, halo)))\n",
    "    rvir_masses = Table.read('/Users/rsimons/Dropbox/git/foggie/foggie/halo_infos/00%s/nref11c_nref9f/rvir_masses.hdf5'%halo)\n",
    "    for DD_fl in DD_fls:\n",
    "        DD = DD_fl.split('/')[-1][-10:-4]\n",
    "        #DD = DD_fl.split('/')[-1][-15:-9]\n",
    "        print (DD)\n",
    "        #rvir_test = rvir_masses['radius'][rvir_masses['snapshot'] == DD].data\n",
    "        #redshift  = rvir_masses['redshift'][rvir_masses['snapshot'] == DD].data\n",
    "        #print (halo, DD, '%.2f'%redshift) \n",
    "        fig, axes = plt.subplots(2,3, figsize = (9, 6), facecolor = 'white')\n",
    "        figname = DD_fl.replace('.npy', '.png').replace('profiles', 'figures')\n",
    "        Lprof = np.load(DD_fl, allow_pickle = True)[()]\n",
    "\n",
    "        for mm, mtype in enumerate(mass_types):\n",
    "            #if mtype != 'stars': continue\n",
    "            ax = axes.ravel()[mm]\n",
    "            Lhst_full = Lprof[mtype]['r_dist']['L_hst'][:2,:,:,:]\n",
    "            Mhst_full = Lprof[mtype]['r_dist']['M_hst'][:2,:,:,:]\n",
    "            dim_tuple = tuple(np.arange(Lhst_full.ndim-2))\n",
    "            Lhst  = np.rot90(np.nansum(Lhst_full, axis = dim_tuple))\n",
    "            Mhst  = np.rot90(np.nansum(Mhst_full, axis = dim_tuple))     \n",
    "            \n",
    "            Lhst_rvl = Lhst.ravel()\n",
    "            vmn, vmx = 0.0, np.nanpercentile(Lhst_rvl, [99.5])[0]\n",
    "            ax.imshow(Lhst, cmap = cmp, vmin = vmn, vmax = vmx)\n",
    "            ax.annotate(mtype, (0.98, 0.05), xycoords = 'axes fraction', ha = 'right', va = 'bottom', \\\n",
    "                        color = 'white', fontweight = 'bold', fontsize = 22)\n",
    "\n",
    "        fig.subplots_adjust(hspace = 0.05, wspace = 0.05)\n",
    "        fig.set_dpi(300)\n",
    "        fig.tight_layout()\n",
    "        fig.savefig(figname)\n",
    "        plt.close(fig)\n",
    "\n",
    "\n"
   ]
  },
  {
   "cell_type": "code",
   "execution_count": 75,
   "metadata": {},
   "outputs": [
    {
     "name": "stdout",
     "output_type": "stream",
     "text": [
      "-7.064078152193382e+71 cm**2*g/s -8.287593643451987e+71 cm**2*g/s -9.078706194499315e+71 cm**2*g/s\n",
      "-130.44320586101756 dimensionless 129.8178721044258\n"
     ]
    }
   ],
   "source": [
    "Lx = Lprof['stars']['rprof']['Lx'][1]\n",
    "Ly = Lprof['stars']['rprof']['Ly'][1]\n",
    "Lz = Lprof['stars']['rprof']['Lz'][1]\n",
    "print (Lx, Ly, Lz)\n",
    "Ltot = np.sqrt(Lx**2. + Ly**2. + Lz**2.)\n",
    "thel = np.arctan2(Ly,Lx)*180./pi\n",
    "phil = np.arccos(Lz/Ltot)*180./pi\n",
    "print (thel, phil)"
   ]
  },
  {
   "cell_type": "code",
   "execution_count": null,
   "metadata": {},
   "outputs": [
    {
     "name": "stderr",
     "output_type": "stream",
     "text": [
      "<ipython-input-34-791e29810f27>:68: UserWarning: FixedFormatter should only be used together with FixedLocator\n",
      "  ax.set_yticklabels([''])\n",
      "<ipython-input-34-791e29810f27>:70: UserWarning: The following kwargs were not used by contour: 'linewidth'\n",
      "  for ax in axes.ravel(): ax.contour(XX, YY, hst_center/np.max(hst_center), levels = [0.10, 0.40], zorder = 10, colors = 'white', alpha = 0.4, linewidth = 1, origin = 'upper')\n",
      "<ipython-input-34-791e29810f27>:74: UserWarning: FixedFormatter should only be used together with FixedLocator\n",
      "  ax.set_xticklabels([''])\n"
     ]
    }
   ],
   "source": [
    "fig2, axes2 = plt.subplots(1,1, figsize = (5, 5), facecolor = 'white')\n",
    "figname2 = '/Users/rsimons/Dropbox/foggie/angular_momentum/figures/8508/combined.png'\n",
    "for DD in [500, 600, 700, 800, 900, 1000, 1100, 1346, 1600, 2427][-2:-1]:\n",
    "#for (clr_contour, DD) in [('darkred', 500), ('darkblue', 600), ('blue', 800), ('lightblue', 1346), ('black', 2427)]:\n",
    "#for (clr_contour, DD) in [('lightblue', 1346)]:\n",
    "    fl = '/Users/rsimons/Dropbox/foggie/angular_momentum/profiles/8508/Lprof_8508_DD%.4i.npy'%DD\n",
    "\n",
    "    L_all = np.load(fl, allow_pickle = True)[()]\n",
    "\n",
    "    for rr, rmin in enumerate(np.arange(0, 100, 0.5)):\n",
    "        rmax = rmin + 1.\n",
    "        fig, axes = plt.subplots(2,3, figsize = (9, 6), facecolor = 'white')\n",
    "        figname = fl.replace('npy', '%.3i.png'%(rr)).replace('profiles', 'figures')\n",
    "\n",
    "        for nn, (low_temp, high_temp, name, clr) in enumerate(mass_types):\n",
    "            ax = axes.ravel()[nn]\n",
    "            for (ix, jx, kx) in [(-1, 0, 0), (1, 0, 0), (0, -1, 0), (0, 1, 0)]:\n",
    "                phil = np.arccos(kx)*180./pi\n",
    "                thel = np.arctan2(jx, ix)*180./pi\n",
    "                ax.plot(thel, phil, 'x', color = 'grey')\n",
    "            ax.plot()\n",
    "            nbins = 150\n",
    "            ax.axhspan(xmin = 0, xmax = 1, ymin = 175, ymax = 180, zorder = 12, color = 'grey', alpha = 0.5)\n",
    "            ax.axhspan(xmin = 0, xmax = 1, ymin = 0, ymax = 5,     zorder = 12, color = 'grey', alpha = 0.5)\n",
    "\n",
    "            xvar, xmn, xmx, xlbl =           L_all[name]['adist']['thel'], -180, 180, r'$\\theta_{\\mathrm{L}}$ (deg.)'\n",
    "            yvar, ymn, ymx, ylbl =           L_all[name]['adist']['phil'], 0, 180, r'$\\phi_{\\mathrm{L}}$ (deg.)'\n",
    "            weights = L_all[name]['adist']['ltot']\n",
    "            r = L_all[name]['adist']['r']\n",
    "            gd      =   (r > rmin) & (r < rmax)\n",
    "            xvar    =    xvar[gd]\n",
    "            yvar    =    yvar[gd]\n",
    "            weights =    weights[gd]\n",
    "            \n",
    "            cmap = plt.cm.viridis\n",
    "            binsx = np.linspace(xmn, xmx, nbins)\n",
    "            binsy = np.linspace(ymn, ymx, nbins)\n",
    "            hst = histogram2d(xvar, yvar, nbins, [[xmn, xmx], [ymn, ymx]], weights = weights)[0]\n",
    "            YY, XX = np.meshgrid(binsy, binsx)\n",
    "            \n",
    "            vmin = 0.0\n",
    "            hst_rvl = hst.ravel()\n",
    "            if len(hst_rvl[hst_rvl > 0.0]) > 5:\n",
    "                vmax = np.nanpercentile(hst_rvl[hst_rvl > 0.0], [98])[0]\n",
    "                \n",
    "            else: vmax = 1.0\n",
    "            x = ax.hist2d(xvar, yvar, bins = [binsx, binsy], \\\n",
    "                      norm = matplotlib.colors.Normalize(vmin, vmax),\\\n",
    "                      weights = weights, cmap = cmap)\n",
    "            if (nn == 1) & (rr == 0):\n",
    "                kern = Gaussian2DKernel(1)\n",
    "                hst_center = convolve_fft(hst, kern)\n",
    "                #axes2.contour(XX, YY, hst_center, levels = 3, zorder = 10, colors = clr_contour, origin = 'upper')\n",
    "                \n",
    "\n",
    "                \n",
    "            #if (nn == 2): \n",
    "            #    axes2.contourf(XX, YY, hst, levels = 1, colors = clr_contour, \n",
    "            #                  zorder = 0, linestyles = 'dashed', origin = 'upper')\n",
    " \n",
    "            ax.annotate(name, (0.98, 0.05), xycoords = 'axes fraction', ha = 'right', va = 'bottom', \\\n",
    "                        color = 'white', fontweight = 'bold', fontsize = 22)\n",
    "        axes[0,2].annotate('%.1f $<$ r (kpc) $<$ %.1f'%(rmin, rmax), (0.98, 0.98), xycoords = 'axes fraction', ha = 'right', va = 'top', \\\n",
    "                    color = 'white', fontweight = 'bold', fontsize = 15)\n",
    "\n",
    "        for ax in axes[:,0]:\n",
    "            ax.set_ylabel(ylbl, fontsize = 15)\n",
    "        for ax in axes[:,1:].ravel():\n",
    "            ax.set_yticklabels([''])\n",
    "       \n",
    "        for ax in axes.ravel(): ax.contour(XX, YY, hst_center/np.max(hst_center), levels = [0.10, 0.40], zorder = 10, colors = 'white', alpha = 0.4, linewidth = 1, origin = 'upper')\n",
    "\n",
    "        for ax in axes[1]:ax.set_xlabel(xlbl, fontsize = 15)\n",
    "        for ax in axes[0].ravel():\n",
    "            ax.set_xticklabels([''])\n",
    "            ax.set_yticks([0, 45, 90, 135, 180])\n",
    "\n",
    "        axes2.set_ylabel(ylbl, fontsize = 15)            \n",
    "        axes2.set_xlabel(xlbl, fontsize = 15)\n",
    "        axes2.set_yticks([0, 45, 90, 135, 180])\n",
    "        fig.subplots_adjust(hspace = 0.05, wspace = 0.05)\n",
    "        fig.set_dpi(300)\n",
    "        fig.tight_layout()\n",
    "        fig.savefig(figname)\n",
    "        plt.close(fig)\n",
    "    DDname = 'DD'+ '%.4i'%DD\n",
    "    print('ffmpeg -r 12 -f image2 -s 2700x1800 -start_number 0 -i Lprof_8508_' + DDname + r'.%03d.png -vframes 1000 -vcodec libx264  -pix_fmt yuv420p Lprof_8508_' + DDname + '.mp4')\n",
    "fig2.set_dpi(300)\n",
    "fig2.savefig(figname2)\n",
    "plt.close(fig2)\n"
   ]
  },
  {
   "cell_type": "code",
   "execution_count": 80,
   "metadata": {},
   "outputs": [
    {
     "ename": "NameError",
     "evalue": "name 'ds' is not defined",
     "output_type": "error",
     "traceback": [
      "\u001b[0;31m---------------------------------------------------------------------------\u001b[0m",
      "\u001b[0;31mNameError\u001b[0m                                 Traceback (most recent call last)",
      "\u001b[0;32m<ipython-input-80-3a89335c78be>\u001b[0m in \u001b[0;36m<module>\u001b[0;34m\u001b[0m\n\u001b[0;32m----> 1\u001b[0;31m \u001b[0mds\u001b[0m\u001b[0;34m.\u001b[0m\u001b[0mderived_field_list\u001b[0m\u001b[0;34m\u001b[0m\u001b[0;34m\u001b[0m\u001b[0m\n\u001b[0m",
      "\u001b[0;31mNameError\u001b[0m: name 'ds' is not defined"
     ]
    }
   ],
   "source": [
    "ds.derived_field_list"
   ]
  },
  {
   "cell_type": "code",
   "execution_count": 85,
   "metadata": {},
   "outputs": [
    {
     "data": {
      "text/plain": [
       "dict_keys(['props', 'cold', 'warm', 'warmhot', 'hot', 'stars', 'dm'])"
      ]
     },
     "execution_count": 85,
     "metadata": {},
     "output_type": "execute_result"
    }
   ],
   "source": [
    "Lprof.keys()"
   ]
  },
  {
   "cell_type": "code",
   "execution_count": 143,
   "metadata": {},
   "outputs": [],
   "source": [
    "ax.contour?"
   ]
  },
  {
   "cell_type": "code",
   "execution_count": 67,
   "metadata": {},
   "outputs": [
    {
     "ename": "TypeError",
     "evalue": "_histogramdd_dispatcher() got multiple values for argument 'bins'",
     "output_type": "error",
     "traceback": [
      "\u001b[0;31m---------------------------------------------------------------------------\u001b[0m",
      "\u001b[0;31mTypeError\u001b[0m                                 Traceback (most recent call last)",
      "\u001b[0;32m<ipython-input-67-683a069c77ec>\u001b[0m in \u001b[0;36m<module>\u001b[0;34m\u001b[0m\n\u001b[0;32m----> 1\u001b[0;31m \u001b[0mhst\u001b[0m \u001b[0;34m=\u001b[0m \u001b[0mnp\u001b[0m\u001b[0;34m.\u001b[0m\u001b[0mhistogramdd\u001b[0m\u001b[0;34m(\u001b[0m\u001b[0mxvar\u001b[0m\u001b[0;34m,\u001b[0m \u001b[0myvar\u001b[0m\u001b[0;34m,\u001b[0m \u001b[0mbins\u001b[0m \u001b[0;34m=\u001b[0m \u001b[0;34m[\u001b[0m\u001b[0mbinsx\u001b[0m\u001b[0;34m,\u001b[0m \u001b[0mbinsy\u001b[0m\u001b[0;34m]\u001b[0m\u001b[0;34m,\u001b[0m\u001b[0mweights\u001b[0m \u001b[0;34m=\u001b[0m \u001b[0mweights\u001b[0m\u001b[0;34m)\u001b[0m\u001b[0;34m\u001b[0m\u001b[0;34m\u001b[0m\u001b[0m\n\u001b[0m",
      "\u001b[0;32m<__array_function__ internals>\u001b[0m in \u001b[0;36mhistogramdd\u001b[0;34m(*args, **kwargs)\u001b[0m\n",
      "\u001b[0;31mTypeError\u001b[0m: _histogramdd_dispatcher() got multiple values for argument 'bins'"
     ]
    }
   ],
   "source": [
    "hst = np.histogramdd(xvar, yvar, bins = [binsx, binsy],weights = weights) "
   ]
  },
  {
   "cell_type": "code",
   "execution_count": 107,
   "metadata": {},
   "outputs": [],
   "source": [
    "plt.cm.Blues?"
   ]
  },
  {
   "cell_type": "code",
   "execution_count": null,
   "metadata": {},
   "outputs": [],
   "source": [
    "axes2[0].contour"
   ]
  }
 ],
 "metadata": {
  "kernelspec": {
   "display_name": "Python 3",
   "language": "python",
   "name": "python3"
  },
  "language_info": {
   "codemirror_mode": {
    "name": "ipython",
    "version": 3
   },
   "file_extension": ".py",
   "mimetype": "text/x-python",
   "name": "python",
   "nbconvert_exporter": "python",
   "pygments_lexer": "ipython3",
   "version": "3.8.5"
  }
 },
 "nbformat": 4,
 "nbformat_minor": 4
}
