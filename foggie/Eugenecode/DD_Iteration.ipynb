{
 "cells": [
  {
   "cell_type": "code",
   "execution_count": 1,
   "id": "4d941fce",
   "metadata": {},
   "outputs": [],
   "source": [
    "import numpy as np              # numpy is a general-purpose math package\n",
    "import yt                       # yt is the data vizualization package\n",
    "from yt.units import *          # this lets you get things like speed of light in proper units just by typing 'c'\n",
    "from astropy.table import Table # this is needed for reading in various foggie data byproducts\n",
    "from astropy.io import ascii    # this too\n",
    "import matplotlib.pyplot as plt # this is the standard python plotting package, very useful!\n",
    "from mpl_toolkits.axes_grid1 import make_axes_locatable\n",
    "import matplotlib\n",
    "import math\n",
    "from ipynb.fs.defs.FRB_and_Projection_functions import frb_projection, projection\n",
    "from scipy import optimize\n",
    "import pwlf # A library for fitting continuous piecewise linear functions to data (Returns cut-off radius)\n",
    "import os #for the lacie part \n",
    "\n",
    "# These imports are FOGGIE-specific files\n",
    "from foggie.utils.consistency import *\n",
    "from foggie.utils.foggie_load import *\n",
    "\n",
    "home_dir = '/Users/hylee/foggie/'\n",
    "laptop_root_dir = home_dir + 'foggie_sims/' # root directory where sims are stored on the laptop\n",
    "hd_root_dir = '/Volumes/LaCie/' # root directory where sims are stored on the hard drive\n",
    "\n",
    "root_dir = hd_root_dir # have this as either laptop_root_dir or hd_root_dir depending on where the simulation is stored\n",
    "code_path = '/Users/hylee/coding/foggie/foggie/' #path to the cloned github repo\n",
    "\n",
    "# everything above this is general path, and below this is specific to a given halo\n",
    "halo = '8508' # which halo\n",
    "simulation_dir = root_dir + 'halo_00' + halo + '/nref11c_nref9f/' # path where the foggie simulations are stored\n",
    "output_dir = home_dir + 'foggie_output/halo_00' + halo + '/nref11c_nref9f/' # path where all the outputs will be stored\n",
    "track_dir = code_path + 'halo_infos/00' + halo + '/nref11c_nref9f/'\n",
    "track_name = code_path + 'halo_tracks/00' + halo + '/nref11n_selfshield_15/halo_track_200kpc_nref9' #these need to be provided to foggie_load()"
   ]
  },
  {
   "cell_type": "code",
   "execution_count": 2,
   "id": "da2b6763",
   "metadata": {},
   "outputs": [],
   "source": [
    "def radius_func(od, size, res):\n",
    "    OD_Qua=[]\n",
    "    OD_Rad=[]  #OD_Rad & OD_Met HAVE to be defined specifically inside func1/before for loop\n",
    "    for i in range(70):\n",
    "        for j in range(70):\n",
    "            this_quantity_value = od[i][j]\n",
    "            xindex = i\n",
    "            yindex = j\n",
    "            radius = (math.sqrt(((yindex-34)**2+(xindex-34)**2)))*(size/res)\n",
    "            OD_Qua.append(this_quantity_value)\n",
    "            OD_Rad.append(radius)\n",
    "    return OD_Rad, OD_Qua"
   ]
  },
  {
   "cell_type": "code",
   "execution_count": 3,
   "id": "b1a3175f",
   "metadata": {},
   "outputs": [],
   "source": [
    "def binning_func(OD_Rad, OD_Qua, max_radius, min_radius, binsize):\n",
    "    index = 0 \n",
    "    quantitylist = []\n",
    "    sort = np.argsort(OD_Rad)\n",
    "    sorted_radius = np.array(OD_Rad)[sort]\n",
    "    sorted_quantity = np.array(OD_Qua)[sort]\n",
    "    radiuslist = np.arange(min_radius, max_radius, binsize) + binsize/2\n",
    "    while index < len(radiuslist):\n",
    "        left_edge = index*binsize\n",
    "        right_edge = left_edge + binsize \n",
    "        new_quantity = np.array(sorted_quantity)[(left_edge <= sorted_radius) & (sorted_radius < right_edge)]\n",
    "        quantitylist.append((np.mean(new_quantity)))\n",
    "        index +=1\n",
    "    return radiuslist, quantitylist"
   ]
  },
  {
   "cell_type": "code",
   "execution_count": 4,
   "id": "103df818",
   "metadata": {},
   "outputs": [],
   "source": [
    "def piecewise_linear(x, x0, y0, k1, k2):\n",
    "    return np.piecewise(x, [x < x0], [lambda x:k1*x + y0-k1*x0, lambda x:k2*x + y0-k2*x0])"
   ]
  },
  {
   "cell_type": "code",
   "execution_count": 5,
   "id": "5aa1a612",
   "metadata": {},
   "outputs": [],
   "source": [
    "def plotting(xvalue, yvalue_origdata, yvalue_cutoff, color_original, color_cutoff, plotlabel_linedot,\n",
    "            plotlabel_segment):\n",
    "    fig1 = plt.figure()\n",
    "    plt.plot(xvalue, yvalue_origdata, color_original, label=plotlabel_linedot)\n",
    "    plt.plot(xvalue, yvalue_cutoff, color_cutoff, label=plotlabel_segment)\n",
    "    plt.legend(loc=\"upper right\", fontsize = 15)\n",
    "    plt.xlabel(\"Radius from galactic center [kpc]\", fontsize = fontsize)\n",
    "    plt.ylabel(\"Density [log 10 g/cm^2]\", fontsize = fontsize)\n",
    "    plt.xticks(fontsize = fontsize/1.5)\n",
    "    plt.yticks(fontsize = fontsize/1.5)\n",
    "    return fig1"
   ]
  },
  {
   "cell_type": "code",
   "execution_count": 6,
   "id": "0feacde5",
   "metadata": {},
   "outputs": [],
   "source": [
    "DDLIST = []\n",
    "for file in os.listdir(simulation_dir):\n",
    "    if file.startswith(\"DD\"):\n",
    "        DDLIST.append(file)\n",
    "sorted_dd_list = sorted(DDLIST, key=lambda x: int(x[2:]))"
   ]
  },
  {
   "cell_type": "code",
   "execution_count": null,
   "id": "2dfbddc2",
   "metadata": {},
   "outputs": [],
   "source": [
    "field = \"density\"\n",
    "axis = \"y\" \n",
    "width = 200 #[kpc]\n",
    "resolution = 70 #[pixel]\n",
    "colorlabel = 'Density [log 10 g/cm^2]'\n",
    "max_radius = width/2 #[kpc]\n",
    "min_radius = 0  #[kpc]\n",
    "binsize = 1.5 #[kpc]\n",
    "markersize = 10\n",
    "fontsize = 20 \n",
    "plotlabel_linedot = 'Binned mean density'\n",
    "plotlabel_segment = 'Fitted density'"
   ]
  },
  {
   "cell_type": "code",
   "execution_count": 7,
   "id": "d23da15e",
   "metadata": {},
   "outputs": [
    {
     "name": "stdout",
     "output_type": "stream",
     "text": [
      "Opening snapshot /Volumes/LaCie/halo_008508/nref11c_nref9f/DD0138/DD0138\n"
     ]
    },
    {
     "name": "stderr",
     "output_type": "stream",
     "text": [
      "yt : [INFO     ] 2023-07-16 16:29:35,838 Parameters: current_time              = 67.566527818285\n",
      "yt : [INFO     ] 2023-07-16 16:29:35,839 Parameters: domain_dimensions         = [256 256 256]\n",
      "yt : [INFO     ] 2023-07-16 16:29:35,840 Parameters: domain_left_edge          = [0. 0. 0.]\n",
      "yt : [INFO     ] 2023-07-16 16:29:35,841 Parameters: domain_right_edge         = [1. 1. 1.]\n",
      "yt : [INFO     ] 2023-07-16 16:29:35,842 Parameters: cosmological_simulation   = 1\n",
      "yt : [INFO     ] 2023-07-16 16:29:35,843 Parameters: current_redshift          = 4.2560468529995\n",
      "yt : [INFO     ] 2023-07-16 16:29:35,844 Parameters: omega_lambda              = 0.715\n",
      "yt : [INFO     ] 2023-07-16 16:29:35,844 Parameters: omega_matter              = 0.285\n",
      "yt : [INFO     ] 2023-07-16 16:29:35,845 Parameters: omega_radiation           = 0.0\n",
      "yt : [INFO     ] 2023-07-16 16:29:35,845 Parameters: hubble_constant           = 0.695\n"
     ]
    },
    {
     "name": "stdout",
     "output_type": "stream",
     "text": [
      "get_refine_box: using this location:     col1      col2     col3     col4     col5     col6     col7   col8\n",
      "----------- -------- -------- -------- -------- -------- -------- ----\n",
      "4.256046853 0.494908 0.492937 0.500048 0.496908 0.494937 0.502048    9\n"
     ]
    },
    {
     "name": "stderr",
     "output_type": "stream",
     "text": [
      "Parsing Hierarchy : 100%|█████████████████| 5116/5116 [00:00<00:00, 9890.20it/s]\n",
      "yt : [INFO     ] 2023-07-16 16:29:36,618 Gathering a field list (this may take a moment.)\n"
     ]
    },
    {
     "name": "stdout",
     "output_type": "stream",
     "text": [
      "Pulling halo center from catalog file\n"
     ]
    },
    {
     "name": "stderr",
     "output_type": "stream",
     "text": [
      "yt : [INFO     ] 2023-07-16 16:30:58,236 Projection completed\n",
      "yt : [INFO     ] 2023-07-16 16:30:58,241 Making a fixed resolution buffer of (('gas', 'density')) 70 by 70\n",
      "/var/folders/d8/fhyrhkwj0gn9mv61yhxy4srw0005m7/T/ipykernel_2878/3245046312.py:34: RuntimeWarning: divide by zero encountered in log10\n",
      "  p , e = optimize.curve_fit(piecewise_linear, radiuslist, np.log10(quantitylist))\n"
     ]
    },
    {
     "ename": "ValueError",
     "evalue": "array must not contain infs or NaNs",
     "output_type": "error",
     "traceback": [
      "\u001b[0;31m---------------------------------------------------------------------------\u001b[0m",
      "\u001b[0;31mValueError\u001b[0m                                Traceback (most recent call last)",
      "Cell \u001b[0;32mIn[7], line 34\u001b[0m\n\u001b[1;32m     29\u001b[0m OD_Rad, OD_Qua \u001b[38;5;241m=\u001b[39m radius_func(np\u001b[38;5;241m.\u001b[39marray(frb[\u001b[38;5;124m\"\u001b[39m\u001b[38;5;124mgas\u001b[39m\u001b[38;5;124m\"\u001b[39m,field]), width, resolution)\n\u001b[1;32m     31\u001b[0m radiuslist, quantitylist \u001b[38;5;241m=\u001b[39m  binning_func(OD_Rad, OD_Qua, max_radius, min_radius, binsize)\n\u001b[0;32m---> 34\u001b[0m p , e \u001b[38;5;241m=\u001b[39m \u001b[43moptimize\u001b[49m\u001b[38;5;241;43m.\u001b[39;49m\u001b[43mcurve_fit\u001b[49m\u001b[43m(\u001b[49m\u001b[43mpiecewise_linear\u001b[49m\u001b[43m,\u001b[49m\u001b[43m \u001b[49m\u001b[43mradiuslist\u001b[49m\u001b[43m,\u001b[49m\u001b[43m \u001b[49m\u001b[43mnp\u001b[49m\u001b[38;5;241;43m.\u001b[39;49m\u001b[43mlog10\u001b[49m\u001b[43m(\u001b[49m\u001b[43mquantitylist\u001b[49m\u001b[43m)\u001b[49m\u001b[43m)\u001b[49m\n\u001b[1;32m     35\u001b[0m \u001b[38;5;66;03m#p for popt (optimization parameter), e for pcov (covariance of popt)\u001b[39;00m\n\u001b[1;32m     36\u001b[0m \u001b[38;5;66;03m#This is where error is happening \u001b[39;00m\n\u001b[1;32m     41\u001b[0m projection_plot \u001b[38;5;241m=\u001b[39m projection(frb, field, width, colorlabel, axis, fontsize \u001b[38;5;241m=\u001b[39m \u001b[38;5;241m15\u001b[39m)\n",
      "File \u001b[0;32m~/anaconda3/lib/python3.10/site-packages/scipy/optimize/_minpack_py.py:807\u001b[0m, in \u001b[0;36mcurve_fit\u001b[0;34m(f, xdata, ydata, p0, sigma, absolute_sigma, check_finite, bounds, method, jac, full_output, **kwargs)\u001b[0m\n\u001b[1;32m    803\u001b[0m \u001b[38;5;66;03m# optimization may produce garbage for float32 inputs, cast them to float64\u001b[39;00m\n\u001b[1;32m    804\u001b[0m \n\u001b[1;32m    805\u001b[0m \u001b[38;5;66;03m# NaNs cannot be handled\u001b[39;00m\n\u001b[1;32m    806\u001b[0m \u001b[38;5;28;01mif\u001b[39;00m check_finite:\n\u001b[0;32m--> 807\u001b[0m     ydata \u001b[38;5;241m=\u001b[39m \u001b[43mnp\u001b[49m\u001b[38;5;241;43m.\u001b[39;49m\u001b[43masarray_chkfinite\u001b[49m\u001b[43m(\u001b[49m\u001b[43mydata\u001b[49m\u001b[43m,\u001b[49m\u001b[43m \u001b[49m\u001b[38;5;28;43mfloat\u001b[39;49m\u001b[43m)\u001b[49m\n\u001b[1;32m    808\u001b[0m \u001b[38;5;28;01melse\u001b[39;00m:\n\u001b[1;32m    809\u001b[0m     ydata \u001b[38;5;241m=\u001b[39m np\u001b[38;5;241m.\u001b[39masarray(ydata, \u001b[38;5;28mfloat\u001b[39m)\n",
      "File \u001b[0;32m~/anaconda3/lib/python3.10/site-packages/numpy/lib/function_base.py:628\u001b[0m, in \u001b[0;36masarray_chkfinite\u001b[0;34m(a, dtype, order)\u001b[0m\n\u001b[1;32m    626\u001b[0m a \u001b[38;5;241m=\u001b[39m asarray(a, dtype\u001b[38;5;241m=\u001b[39mdtype, order\u001b[38;5;241m=\u001b[39morder)\n\u001b[1;32m    627\u001b[0m \u001b[38;5;28;01mif\u001b[39;00m a\u001b[38;5;241m.\u001b[39mdtype\u001b[38;5;241m.\u001b[39mchar \u001b[38;5;129;01min\u001b[39;00m typecodes[\u001b[38;5;124m'\u001b[39m\u001b[38;5;124mAllFloat\u001b[39m\u001b[38;5;124m'\u001b[39m] \u001b[38;5;129;01mand\u001b[39;00m \u001b[38;5;129;01mnot\u001b[39;00m np\u001b[38;5;241m.\u001b[39misfinite(a)\u001b[38;5;241m.\u001b[39mall():\n\u001b[0;32m--> 628\u001b[0m     \u001b[38;5;28;01mraise\u001b[39;00m \u001b[38;5;167;01mValueError\u001b[39;00m(\n\u001b[1;32m    629\u001b[0m         \u001b[38;5;124m\"\u001b[39m\u001b[38;5;124marray must not contain infs or NaNs\u001b[39m\u001b[38;5;124m\"\u001b[39m)\n\u001b[1;32m    630\u001b[0m \u001b[38;5;28;01mreturn\u001b[39;00m a\n",
      "\u001b[0;31mValueError\u001b[0m: array must not contain infs or NaNs"
     ]
    }
   ],
   "source": [
    "redshiftlist = []\n",
    "cutofflist = []\n",
    "\n",
    "for DD in sorted_dd_list:\n",
    "    try:  \n",
    "        snap = DD  # name of the snapshot output \n",
    "        snap_fullpath = simulation_dir + snap + '/' + snap # full path of where the snapshot output lives\n",
    "\n",
    "        ds, refine_box = foggie_load(snap_fullpath, track_name, halo_c_v_name=track_dir + 'halo_c_v',\n",
    "                                     disk_relative=False, do_filter_particles=False, masses_dir=track_dir)\n",
    "\n",
    "        frb = frb_projection(ds, field, axis, refine_box, width, resolution, weight_field = None)\n",
    "\n",
    "        OD_Rad, OD_Qua = radius_func(np.array(frb[\"gas\",field]), width, resolution)\n",
    "\n",
    "        radiuslist, quantitylist =  binning_func(OD_Rad, OD_Qua, max_radius, min_radius, binsize)\n",
    "\n",
    "\n",
    "        p , e = optimize.curve_fit(piecewise_linear, radiuslist, np.log10(quantitylist))\n",
    "        #p : popt(optimization parameter) / e : pcov(covariance of popt)\n",
    "\n",
    "        projection_plot = projection(frb, field, width, colorlabel, axis, fontsize = 15)\n",
    "        segment_plot = plotting(radiuslist, np.log10(quantitylist), piecewise_linear(radiuslist, *p),\n",
    "                        'ro-','b-', plotlabel_linedot, plotlabel_segment)\n",
    " \n",
    "        segment_plot.savefig(output_dir + snap + _Density_Profile.jpg)\n",
    "        projection_plot.savefig(output_dir + snap + _Density_Projection_Plot.jpg)\n",
    "    \n",
    "        redpara = ds.get_parameter(\"CosmologyCurrentRedshift\")\n",
    "        redshiftlist.append(redpara) #[z]\n",
    "        cutofflist.append(p[0]) #[kpc]\n",
    "        \n",
    "    except:\n",
    "        pass     "
   ]
  }
 ],
 "metadata": {
  "kernelspec": {
   "display_name": "Python 3 (ipykernel)",
   "language": "python",
   "name": "python3"
  },
  "language_info": {
   "codemirror_mode": {
    "name": "ipython",
    "version": 3
   },
   "file_extension": ".py",
   "mimetype": "text/x-python",
   "name": "python",
   "nbconvert_exporter": "python",
   "pygments_lexer": "ipython3",
   "version": "3.10.9"
  }
 },
 "nbformat": 4,
 "nbformat_minor": 5
}
