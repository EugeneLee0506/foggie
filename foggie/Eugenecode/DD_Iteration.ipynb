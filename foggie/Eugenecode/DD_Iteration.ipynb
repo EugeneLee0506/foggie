{
 "cells": [
  {
   "cell_type": "code",
   "execution_count": 1,
   "id": "4d941fce",
   "metadata": {},
   "outputs": [],
   "source": [
    "import numpy as np              # numpy is a general-purpose math package\n",
    "import yt                       # yt is the data vizualization package\n",
    "from yt.units import *          # this lets you get things like speed of light in proper units just by typing 'c'\n",
    "from astropy.table import Table # this is needed for reading in various foggie data byproducts\n",
    "from astropy.io import ascii    # this too\n",
    "import matplotlib.pyplot as plt # this is the standard python plotting package, very useful!\n",
    "from mpl_toolkits.axes_grid1 import make_axes_locatable\n",
    "import matplotlib\n",
    "import math\n",
    "from ipynb.fs.defs.Original_frbprojection_code import frb_projection, projection\n",
    "from scipy import optimize\n",
    "import pwlf # A library for fitting continuous piecewise linear functions to data (Returns cut-off radius)\n",
    "import os #for the lacie part \n",
    "\n",
    "# These imports are FOGGIE-specific files\n",
    "from foggie.utils.consistency import *\n",
    "from foggie.utils.foggie_load import *\n",
    "\n",
    "#what we need? snap_name, track_name, halo_c_v_name=track_dir + 'halo_c_v', masses_dir=track_dir)\n",
    "\n",
    "home_dir = '/Users/hylee/foggie/'\n",
    "laptop_root_dir = home_dir + 'foggie_sims/' # root directory where sims are stored on the laptop\n",
    "hd_root_dir = '/Volumes/LaCie/' # root directory where sims are stored on the hard drive\n",
    "\n",
    "root_dir = hd_root_dir # have this as either laptop_root_dir or hd_root_dir depending on where the simulation is stored\n",
    "code_path = home_dir + 'coding/foggie/foggie/' #path to the cloned github repo\n",
    "\n",
    "# everything above this is general path, and below this is specific to a given halo\n",
    "halo = '8508' # which halo\n",
    "simulation_dir = root_dir + 'halo_00' + halo + '/nref11c_nref9f/' # path where the foggie simulations are stored\n",
    "output_dir = home_dir + 'foggie_output/halo_00' + halo + '/nref11c_nref9f/' # path where all the outputs will be stored\n",
    "track_dir = code_path + 'halo_infos/00' + halo + '/nref11c_nref9f/'\n",
    "track_name = code_path + 'halo_tracks/00' + halo + '/nref11n_selfshield_15/halo_track_200kpc_nref9' #these need to be provided to foggie_load()"
   ]
  },
  {
   "cell_type": "code",
   "execution_count": 2,
   "id": "da2b6763",
   "metadata": {},
   "outputs": [],
   "source": [
    "def radius_func(od, size, res):\n",
    "    OD_Qua=[]\n",
    "    OD_Rad=[]  #OD_Rad & OD_Met HAVE to be defined specifically inside func1/before for loop\n",
    "    for i in range(70):\n",
    "        for j in range(70):\n",
    "            this_quantity_value = od[i][j]\n",
    "            xindex = i\n",
    "            yindex = j\n",
    "            radius = (math.sqrt(((yindex-34)**2+(xindex-34)**2)))*(size/res)\n",
    "            OD_Qua.append(this_quantity_value)\n",
    "            OD_Rad.append(radius)\n",
    "\n",
    "    return OD_Rad, OD_Qua"
   ]
  },
  {
   "cell_type": "code",
   "execution_count": 3,
   "id": "b1a3175f",
   "metadata": {},
   "outputs": [],
   "source": [
    "def binning_func(OD_Rad, OD_Qua, max_radius, min_radius, binsize):\n",
    "    index = 0 \n",
    "    quantitylist = []\n",
    "    sort = np.argsort(OD_Rad)\n",
    "    sorted_radius = np.array(OD_Rad)[sort]\n",
    "    sorted_quantity = np.array(OD_Qua)[sort]\n",
    "    radiuslist = np.arange(min_radius, max_radius, binsize) + binsize/2\n",
    "    while index < len(radiuslist):\n",
    "        left_edge = index*binsize\n",
    "        right_edge = left_edge + binsize \n",
    "        new_quantity = np.array(sorted_quantity)[(left_edge <= sorted_radius) & (sorted_radius < right_edge)]\n",
    "        quantitylist.append((np.mean(new_quantity)))\n",
    "        index +=1\n",
    "    return radiuslist, quantitylist"
   ]
  },
  {
   "cell_type": "code",
   "execution_count": 4,
   "id": "103df818",
   "metadata": {},
   "outputs": [],
   "source": [
    "def piecewise_linear(x, x0, y0, k1, k2):\n",
    "    return np.piecewise(x, [x < x0], [lambda x:k1*x + y0-k1*x0, lambda x:k2*x + y0-k2*x0])"
   ]
  },
  {
   "cell_type": "code",
   "execution_count": null,
   "id": "5aa1a612",
   "metadata": {},
   "outputs": [],
   "source": [
    "def plotting(xvalue, yvalue, color, label):\n",
    "    fig1 = plt.figure()\n",
    "    plt.plot(xvalue, yvalue, color, label=label)\n",
    "    plt.legend(loc=\"upper right\", fontsize = 20)\n",
    "    plt.xlabel(\"Radius from galactic center [kpc]\", fontsize = fontsize)\n",
    "    plt.ylabel(\"Density [log 10 g/cm^2]\", fontsize = fontsize)\n",
    "    plt.xticks(fontsize = fontsize/1.5)\n",
    "    plt.yticks(fontsize = fontsize/1.5)\n",
    "    plt.xlim([min_radius, max_radius])\n",
    "    return fig1"
   ]
  },
  {
   "cell_type": "code",
   "execution_count": 6,
   "id": "0feacde5",
   "metadata": {},
   "outputs": [],
   "source": [
    "DDLIST = []\n",
    "for file in os.listdir(simulation_dir):\n",
    "    if file.startswith(\"DD\"):\n",
    "        DDLIST.append(file)\n",
    "sorted_dd_list = sorted(DDLIST, key=lambda x: int(x[2:]))"
   ]
  },
  {
   "cell_type": "code",
   "execution_count": 7,
   "id": "d23da15e",
   "metadata": {},
   "outputs": [
    {
     "data": {
      "text/plain": [
       "'\\nDDLIST = []\\nfor file in os.listdir(simulation_dir):\\n    if file.startswith(\"DD\"):\\n        DDLIST.append(file)\\n        \\n        \\n        \\n#function here loop over DD files / for loop inside the lacie that prints the DD names. \\n\\n\\n\\n\\n\\n\\n\\n\\n\\n# everything below this is specific to a single snapshot, so below this is where the loop should be\\n\\n\\nsnap = \\'DD0042\\' # name of the snapshot output\\nsnap_fullpath = simulation_dir + snap + \\'/\\' + snap # full path of where the snapshot output lives\\n\\n\\n\\n\\nredshiftlist = []\\ncutofflist = []\\npngfile = []\\n\\nfor DD in filename:\\n    field = \"density\"\\n    axis = \"z\" \\n    width = 200 #[kpc]\\n    resolution = 70 #[pixel]\\n    colorlabel = \\'Density [log 10 g/cm^3]\\'\\n    max_radius = width/2 #[kpc]\\n    min_radius = 0  #[kpc]\\n    binsize = 1.5 #[kpc]\\n    markersize = 10\\n    fontsize = 20 \\n\\n\\n    ds, refine_box = foggie_load(snap_fullpath, track_name, halo_c_v_name=track_dir + \\'halo_c_v\\',\\n                                 disk_relative=False, do_filter_particles=False, masses_dir=track_dir)\\n\\n    frb = frb_projection(ds, field, axis, refine_box, width, resolution, weight_field = None)\\n\\n    OD_Rad, OD_Qua = radius_func(np.array(frb[\"gas\",field]), width, resolution)\\n\\n    radiuslist, quantitylist =  binning_func(OD_Rad, OD_Qua, max_radius, min_radius, binsize)\\n\\n    p , e = optimize.curve_fit(piecewise_linear, radiuslist, np.log10(quantitylist)) \\n    #p for popt (optimization parameter), e for pcov (covariance of popt)\\n\\n\\n    plt.plot(radiuslist, np.log10(quantitylist), \\'r-\\',label = \\'Projected along y axis\\')\\n    plt.plot(radiuslist, np.log10(quantitylist),\\'ro\\',markersize=markersize/2)\\n    plt.plot(radiuslist, piecewise_linear(radiuslist, *p))\\n    plt.xlabel(\"Radius from galactic center [kpc]\", fontsize = fontsize)\\n    plt.ylabel(\"Density [log 10 g/cm^3]\", fontsize = fontsize)\\n    plt.legend(loc=\"upper right\", fontsize = fontsize/1.5)\\n    plt.xticks(fontsize = fontsize/1.5)\\n    plt.yticks(fontsize = fontsize/1.5)\\n    plt.xlim([min_radius, max_radius])\\n\\n    fig = projection(frb, field, width, colorlabel, axis, fontsize = 15)\\n    #plt.savefig(foggie_output + \\'RD0042_Density_Profile.jpg\\')  # => Figure saving directory + file name / size?\\n    redpara = ds.get_parameter(\"CosmologyCurrentRedshift\")\\n    redshiftlist.append(redpara)\\n    cutofflist.append(p[0])\\n    \\nprint(redshiftlist)\\n'"
      ]
     },
     "execution_count": 7,
     "metadata": {},
     "output_type": "execute_result"
    }
   ],
   "source": [
    "### Changed part\n",
    "\n",
    "# everything below this is specific to a single snapshot, so below this is where the loop should be\n",
    "\n",
    "\n",
    "    \n",
    "snap = 'DD0042' # name of the snapshot output\n",
    "snap_fullpath = simulation_dir + snap + '/' + snap # full path of where the snapshot output lives\n",
    "\n",
    "redshiftlist = []\n",
    "cutofflist = []\n",
    "pngfile = []\n",
    "\n",
    "for ~ in sorted_dd_list:\n",
    "    field = \"density\"\n",
    "    axis = \"y\" \n",
    "    width = 200 #[kpc]\n",
    "    resolution = 70 #[pixel]\n",
    "    colorlabel = 'Density [log 10 g/cm^2]'\n",
    "    max_radius = width/2 #[kpc]\n",
    "    min_radius = 0  #[kpc]\n",
    "    binsize = 1.5 #[kpc]\n",
    "    markersize = 10\n",
    "    fontsize = 20 \n",
    "    plotlabel = 'Projected along y axis'\n",
    "\n",
    "    ds, refine_box = foggie_load(snap_fullpath, track_name, halo_c_v_name=track_dir + 'halo_c_v',\n",
    "                                 disk_relative=False, do_filter_particles=False, masses_dir=track_dir)\n",
    "\n",
    "    frb = frb_projection(ds, field, axis, refine_box, width, resolution, weight_field = None)\n",
    "\n",
    "    OD_Rad, OD_Qua = radius_func(np.array(frb[\"gas\",field]), width, resolution)\n",
    "\n",
    "    radiuslist, quantitylist =  binning_func(OD_Rad, OD_Qua, max_radius, min_radius, binsize)\n",
    "\n",
    "    p , e = optimize.curve_fit(piecewise_linear, radiuslist, np.log10(quantitylist)) \n",
    "    #p for popt (optimization parameter), e for pcov (covariance of popt)\n",
    "   \n",
    "    projection_plot = projection(frb, field, width, colorlabel, axis, fontsize = 15)\n",
    "    segment_plot = plotting(radiuslist, np.log10(quantitylist), 'r-', plotlabel)\n",
    "\n",
    "    ??plt.savefig(foggie_output + 'DD' + _Density_Profile.jpg')  # => Figure saving directory + file name / size?\n",
    "    \n",
    "    redpara = ds.get_parameter(\"CosmologyCurrentRedshift\")\n",
    "    redshiftlist.append(redpara)\n",
    "    cutofflist.append(p[0])"
   ]
  },
  {
   "cell_type": "code",
   "execution_count": null,
   "id": "770282ba",
   "metadata": {},
   "outputs": [],
   "source": []
  }
 ],
 "metadata": {
  "kernelspec": {
   "display_name": "Python 3 (ipykernel)",
   "language": "python",
   "name": "python3"
  },
  "language_info": {
   "codemirror_mode": {
    "name": "ipython",
    "version": 3
   },
   "file_extension": ".py",
   "mimetype": "text/x-python",
   "name": "python",
   "nbconvert_exporter": "python",
   "pygments_lexer": "ipython3",
   "version": "3.10.9"
  }
 },
 "nbformat": 4,
 "nbformat_minor": 5
}
