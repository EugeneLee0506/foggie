{
 "cells": [
  {
   "cell_type": "code",
   "execution_count": 1,
   "id": "4d941fce",
   "metadata": {},
   "outputs": [],
   "source": [
    "import numpy as np              # numpy is a general-purpose math package\n",
    "import yt                       # yt is the data vizualization package\n",
    "from yt.units import *          # this lets you get things like speed of light in proper units just by typing 'c'\n",
    "from astropy.table import Table # this is needed for reading in various foggie data byproducts\n",
    "from astropy.io import ascii    # this too\n",
    "import matplotlib.pyplot as plt # this is the standard python plotting package, very useful!\n",
    "from mpl_toolkits.axes_grid1 import make_axes_locatable\n",
    "import matplotlib\n",
    "import math\n",
    "#from ipynb.fs.defs.FRB_and_Projection_functions import frb_projection, projection\n",
    "from scipy import optimize\n",
    "import pwlf # A library for fitting continuous piecewise linear functions to data (Returns cut-off radius)\n",
    "import os #for the lacie part \n",
    "\n",
    "# These imports are FOGGIE-specific files\n",
    "from foggie.utils.consistency import *\n",
    "from foggie.utils.foggie_load import *\n",
    "\n",
    "home_dir = '/Users/hylee/foggie/'\n",
    "laptop_root_dir = home_dir + 'foggie_sims/' # root directory where sims are stored on the laptop\n",
    "hd_root_dir = '/Volumes/LaCie/' # root directory where sims are stored on the hard drive\n",
    "\n",
    "root_dir = hd_root_dir # have this as either laptop_root_dir or hd_root_dir depending on where the simulation is stored\n",
    "code_path = '/Users/hylee/coding/foggie/foggie/' #path to the cloned github repo\n",
    "\n",
    "# everything above this is general path, and below this is specific to a given halo\n",
    "halo = '8508' # which halo\n",
    "simulation_dir = root_dir + 'halo_00' + halo + '/nref11c_nref9f/' # path where the foggie simulations are stored\n",
    "output_dir = home_dir + 'foggie_output/halo_00' + halo + '/nref11c_nref9f/' # path where all the outputs will be stored\n",
    "track_dir = code_path + 'halo_infos/00' + halo + '/nref11c_nref9f/'\n",
    "track_name = code_path + 'halo_tracks/00' + halo + '/nref11n_selfshield_15/halo_track_200kpc_nref9' #these need to be provided to foggie_load()"
   ]
  },
  {
   "cell_type": "code",
   "execution_count": 2,
   "id": "2ba07a78",
   "metadata": {},
   "outputs": [],
   "source": [
    "def frb_projection(ds, field, axis, data_source, width, resolution, weight_field = None):\n",
    "    proj = ds.proj((\"gas\", field), axis, center = ds.halo_center_kpc, data_source = data_source, method=\"sum\")\n",
    "    width = (width, \"kpc\")\n",
    "    resolution = [resolution,resolution]\n",
    "    frb = proj.to_frb(width, resolution, center = ds.halo_center_kpc)\n",
    "    return frb"
   ]
  },
  {
   "cell_type": "code",
   "execution_count": 3,
   "id": "1b912683",
   "metadata": {},
   "outputs": [],
   "source": [
    "#%matplotlib inline\n",
    "def projection(frb, field, width, colorlabel, axis, snap, fontsize = 15):\n",
    "    fig, ax = plt.subplots()\n",
    "    divider = make_axes_locatable(ax)\n",
    "    cax = divider.append_axes('right', size='5%', pad=0.05)\n",
    "    im = ax.imshow((np.array(np.log10(frb[\"gas\",field]))), \n",
    "                   cmap='viridis', extent = [-width/2, width/2, -width/2, width/2])\n",
    "    fig.colorbar(im, cax=cax, orientation='vertical')\n",
    "    cbar = fig.colorbar(im, cax=cax, orientation='vertical')\n",
    "    cbar.ax.tick_params(labelsize = 15) \n",
    "    cbar.set_label(colorlabel)\n",
    "\n",
    "    ax.set_title(snap)\n",
    "\n",
    "    if axis == \"x\":\n",
    "        ax.set_xlabel('Distance in y axis from center [kpc]', fontsize=fontsize)\n",
    "        ax.set_ylabel('Distance in z axis from center [kpc]', fontsize=fontsize)\n",
    "    elif axis == \"y\":\n",
    "        ax.set_xlabel('Distance in z axis from center [kpc]', fontsize=fontsize)\n",
    "        ax.set_ylabel('Distance in x axis from center [kpc]', fontsize=fontsize)\n",
    "    elif axis == \"z\":\n",
    "        ax.set_xlabel('Distance in x axis from center [kpc]', fontsize=fontsize)\n",
    "        ax.set_ylabel('Distance in y axis from center [kpc]', fontsize=fontsize)\n",
    "    \n",
    "    plt.xticks(fontsize = fontsize)\n",
    "    plt.yticks(fontsize = fontsize)\n",
    "    \n",
    "    plt.show()\n",
    "    return fig"
   ]
  },
  {
   "cell_type": "code",
   "execution_count": 4,
   "id": "da2b6763",
   "metadata": {},
   "outputs": [],
   "source": [
    "def radius_func(od, size, res):\n",
    "    OD_Qua=[]\n",
    "    OD_Rad=[]  #OD_Rad & OD_Met HAVE to be defined specifically inside func1/before for loop\n",
    "    for i in range(70):\n",
    "        for j in range(70):\n",
    "            this_quantity_value = od[i][j]\n",
    "            xindex = i\n",
    "            yindex = j\n",
    "            radius = (math.sqrt(((yindex-34)**2+(xindex-34)**2)))*(size/res)\n",
    "            OD_Qua.append(this_quantity_value)\n",
    "            OD_Rad.append(radius)\n",
    "    return OD_Rad, OD_Qua"
   ]
  },
  {
   "cell_type": "code",
   "execution_count": 5,
   "id": "b1a3175f",
   "metadata": {},
   "outputs": [],
   "source": [
    "def binning_func(OD_Rad, OD_Qua, max_radius, min_radius, binsize):\n",
    "    index = 0 \n",
    "    quantitylist = []\n",
    "    sort = np.argsort(OD_Rad)\n",
    "    sorted_radius = np.array(OD_Rad)[sort]\n",
    "    sorted_quantity = np.array(OD_Qua)[sort]\n",
    "    radiuslist = np.arange(min_radius, max_radius, binsize) + binsize/2\n",
    "    while index < len(radiuslist):\n",
    "        left_edge = index*binsize\n",
    "        right_edge = left_edge + binsize \n",
    "        new_quantity = np.array(sorted_quantity)[(left_edge <= sorted_radius) & (sorted_radius < right_edge)]\n",
    "        quantitylist.append((np.mean(new_quantity)))\n",
    "        index +=1\n",
    "    return radiuslist, quantitylist"
   ]
  },
  {
   "cell_type": "code",
   "execution_count": 6,
   "id": "103df818",
   "metadata": {},
   "outputs": [],
   "source": [
    "def piecewise_linear(x, x0, y0, k1, k2):\n",
    "    return np.piecewise(x, [x < x0], [lambda x:k1*x + y0-k1*x0, lambda x:k2*x + y0-k2*x0])"
   ]
  },
  {
   "cell_type": "code",
   "execution_count": 34,
   "id": "5aa1a612",
   "metadata": {},
   "outputs": [],
   "source": [
    "def plotting(xvalue, yvalue_origdata, yvalue_cutoff, color_original, color_cutoff,\n",
    "            plotlabel_1, fig):\n",
    "    #fig1 = plt.figure()\n",
    "    plt.plot(xvalue, yvalue_origdata, color_original, label=plotlabel_1)\n",
    "    plt.plot(xvalue, yvalue_cutoff, color_cutoff)\n",
    "    plt.legend(loc=\"upper right\", fontsize = 15)\n",
    "    plt.xlabel(\"Radius from galactic center [kpc]\", fontsize = 15)\n",
    "    plt.ylabel(\"Projected metallicity [log 10 ZSun]\", fontsize = 15)\n",
    "    plt.xticks(fontsize = fontsize)\n",
    "    plt.yticks(fontsize = fontsize)\n",
    "    #return fig1"
   ]
  },
  {
   "cell_type": "code",
   "execution_count": 8,
   "id": "2c54b2cf",
   "metadata": {},
   "outputs": [],
   "source": [
    "def get_density_cut(current_time):\n",
    "    t1, t2 = 8.628, 10.754 # Gyr; corresponds to z1 = 0.5 and z2 = 0.25\n",
    "    rho1, rho2 = 2e-26, 2e-27 # g/cm**3\n",
    "    t = np.float64(current_time)\n",
    "    rho_cut = np.piecewise(t, [t < t1, (t >= t1) & (t <= t2), t > t2], [rho1, lambda t: rho1 + (t - t1) * (rho2 - rho1) / (t2 - t1), rho2])\n",
    "    return rho_cut"
   ]
  },
  {
   "cell_type": "code",
   "execution_count": 9,
   "id": "0feacde5",
   "metadata": {},
   "outputs": [],
   "source": [
    "DDLIST = []\n",
    "for file in os.listdir(simulation_dir):\n",
    "    if file.startswith(\"DD\"):\n",
    "        DDLIST.append(file)\n",
    "sorted_dd_list = sorted(DDLIST, key=lambda x: int(x[2:]))"
   ]
  },
  {
   "cell_type": "code",
   "execution_count": 24,
   "id": "64b98204",
   "metadata": {},
   "outputs": [],
   "source": [
    "redshiftlist = []\n",
    "cutofflist = []\n",
    "timelist = []\n",
    "    \n",
    "snap = \"DD1238\" # name of the snapshot output\n",
    "snap_fullpath = simulation_dir + snap + '/' + snap # full path of where the snapshot output lives\n",
    "field = \"metallicity\"\n",
    "axis_x = \"x\" \n",
    "axis_y = \"y\"\n",
    "axis_z = \"z\"\n",
    "resolution = 70 #[pixel]\n",
    "quantitylabel = 'Projected Metallicity [log10 ZSun]'\n",
    "min_radius = 0  #[kpc]\n",
    "markersize = 10\n",
    "fontsize = 15 \n",
    "plotlabel_linedot = 'Binned mean metallicity'\n",
    "plotlabel_segment = 'Fitted metallicity of' + \" \" + snap"
   ]
  },
  {
   "cell_type": "code",
   "execution_count": 11,
   "id": "9e61f7ec",
   "metadata": {},
   "outputs": [
    {
     "name": "stdout",
     "output_type": "stream",
     "text": [
      "Opening snapshot /Volumes/LaCie/halo_008508/nref11c_nref9f/DD1238/DD1238\n"
     ]
    },
    {
     "name": "stderr",
     "output_type": "stream",
     "text": [
      "yt : [INFO     ] 2023-08-01 16:46:57,818 Parameters: current_time              = 342.31652781829\n",
      "yt : [INFO     ] 2023-08-01 16:46:57,819 Parameters: domain_dimensions         = [256 256 256]\n",
      "yt : [INFO     ] 2023-08-01 16:46:57,820 Parameters: domain_left_edge          = [0. 0. 0.]\n",
      "yt : [INFO     ] 2023-08-01 16:46:57,821 Parameters: domain_right_edge         = [1. 1. 1.]\n",
      "yt : [INFO     ] 2023-08-01 16:46:57,822 Parameters: cosmological_simulation   = 1\n",
      "yt : [INFO     ] 2023-08-01 16:46:57,823 Parameters: current_redshift          = 0.70104740107777\n",
      "yt : [INFO     ] 2023-08-01 16:46:57,824 Parameters: omega_lambda              = 0.715\n",
      "yt : [INFO     ] 2023-08-01 16:46:57,824 Parameters: omega_matter              = 0.285\n",
      "yt : [INFO     ] 2023-08-01 16:46:57,825 Parameters: omega_radiation           = 0.0\n",
      "yt : [INFO     ] 2023-08-01 16:46:57,826 Parameters: hubble_constant           = 0.695\n"
     ]
    },
    {
     "name": "stdout",
     "output_type": "stream",
     "text": [
      "get_refine_box: using this location:       col1         col2    col3     col4     col5    col6     col7   col8\n",
      "---------------- ------- -------- -------- ------- -------- -------- ----\n",
      "0.70104740107777 0.49091 0.479176 0.504679 0.49291 0.481176 0.506679    9\n"
     ]
    },
    {
     "name": "stderr",
     "output_type": "stream",
     "text": [
      "Parsing Hierarchy : 100%|█████████████████| 6009/6009 [00:00<00:00, 8483.08it/s]\n",
      "yt : [INFO     ] 2023-08-01 16:46:58,840 Gathering a field list (this may take a moment.)\n"
     ]
    },
    {
     "name": "stdout",
     "output_type": "stream",
     "text": [
      "Pulling halo center from catalog file\n"
     ]
    }
   ],
   "source": [
    "ds, refine_box = foggie_load(snap_fullpath, track_name, halo_c_v_name=track_dir + 'halo_c_v',\n",
    "                                  disk_relative=False, do_filter_particles=False, masses_dir=track_dir)\n",
    "        \n",
    "z = ds.get_parameter(\"CosmologyCurrentRedshift\")\n",
    "current_time = ds.current_time.in_units('Gyr').value\n"
   ]
  },
  {
   "cell_type": "code",
   "execution_count": 12,
   "id": "ffefe893",
   "metadata": {},
   "outputs": [],
   "source": [
    "width = 40/(1+z) #[kpc]\n",
    "max_radius = width/2 #[kpc]\n",
    "binsize = 1/(z+1) #[kpc]"
   ]
  },
  {
   "cell_type": "code",
   "execution_count": 13,
   "id": "3462792d",
   "metadata": {},
   "outputs": [],
   "source": [
    "rho_cut = get_density_cut(current_time)\n",
    "new_refine_box = refine_box.cut_region(['obj[\"gas\", \"density\"] > %.1E' % rho_cut])"
   ]
  },
  {
   "cell_type": "code",
   "execution_count": 14,
   "id": "95dc24eb",
   "metadata": {},
   "outputs": [
    {
     "name": "stderr",
     "output_type": "stream",
     "text": [
      "yt : [INFO     ] 2023-08-01 16:48:58,969 Projection completed\n"
     ]
    }
   ],
   "source": [
    "frb_x = frb_projection(ds, field, axis_x, new_refine_box, width, resolution, weight_field = \"mass\")\n",
    "frb_y = frb_projection(ds, field, axis_y, new_refine_box, width, resolution, weight_field = \"mass\")\n",
    "frb_z = frb_projection(ds, field, axis_z, new_refine_box, width, resolution, weight_field = \"mass\")"
   ]
  },
  {
   "cell_type": "code",
   "execution_count": 15,
   "id": "17430c41",
   "metadata": {},
   "outputs": [
    {
     "name": "stderr",
     "output_type": "stream",
     "text": [
      "yt : [INFO     ] 2023-08-01 16:52:44,348 Making a fixed resolution buffer of (('gas', 'metallicity')) 70 by 70\n"
     ]
    }
   ],
   "source": [
    "OD_Rad_x, OD_Qua_x = radius_func(np.array(frb_x[\"gas\",field]), width, resolution)\n",
    "OD_Rad_y, OD_Qua_y = radius_func(np.array(frb_y[\"gas\",field]), width, resolution)\n",
    "OD_Rad_z, OD_Qua_z = radius_func(np.array(frb_z[\"gas\",field]), width, resolution)"
   ]
  },
  {
   "cell_type": "code",
   "execution_count": 16,
   "id": "129825d5",
   "metadata": {},
   "outputs": [],
   "source": [
    "radiuslist_x, quantitylist_x =  binning_func(OD_Rad_x, OD_Qua_x, max_radius, min_radius, binsize)\n",
    "radiuslist_y, quantitylist_y =  binning_func(OD_Rad_y, OD_Qua_y, max_radius, min_radius, binsize)\n",
    "radiuslist_z, quantitylist_z =  binning_func(OD_Rad_z, OD_Qua_z, max_radius, min_radius, binsize)"
   ]
  },
  {
   "cell_type": "code",
   "execution_count": 17,
   "id": "be6f7be8",
   "metadata": {},
   "outputs": [],
   "source": [
    "new_radius_x = np.ma.compressed(np.ma.masked_where(np.isnan(quantitylist_x), radiuslist_x))\n",
    "new_quantity_x  = np.ma.compressed(np.ma.masked_where(np.isnan(quantitylist_x), quantitylist_x))\n",
    "new_radius_y = np.ma.compressed(np.ma.masked_where(np.isnan(quantitylist_y), radiuslist_y))\n",
    "new_quantity_y  = np.ma.compressed(np.ma.masked_where(np.isnan(quantitylist_y), quantitylist_y))\n",
    "new_radius_z = np.ma.compressed(np.ma.masked_where(np.isnan(quantitylist_z), radiuslist_z))\n",
    "new_quantity_z  = np.ma.compressed(np.ma.masked_where(np.isnan(quantitylist_z), quantitylist_z))"
   ]
  },
  {
   "cell_type": "code",
   "execution_count": 18,
   "id": "d23da15e",
   "metadata": {
    "scrolled": false
   },
   "outputs": [],
   "source": [
    "p_x , e_x = optimize.curve_fit(piecewise_linear, new_radius_x, np.log10(new_quantity_x), p0 = [6,21,-0.1,-0.05])\n",
    "p_y , e_y = optimize.curve_fit(piecewise_linear, new_radius_y, np.log10(new_quantity_y), p0 = [6,21,-0.1,-0.05])\n",
    "p_z , e_z = optimize.curve_fit(piecewise_linear, new_radius_z, np.log10(new_quantity_z), p0 = [6,21,-0.1,-0.05])"
   ]
  },
  {
   "cell_type": "code",
   "execution_count": 19,
   "id": "728c598d",
   "metadata": {},
   "outputs": [
    {
     "data": {
      "text/plain": [
       "<Figure size 640x480 with 0 Axes>"
      ]
     },
     "metadata": {},
     "output_type": "display_data"
    }
   ],
   "source": [
    "fig = plt.figure()"
   ]
  },
  {
   "cell_type": "code",
   "execution_count": 41,
   "id": "789f9fc2",
   "metadata": {
    "scrolled": false
   },
   "outputs": [
    {
     "ename": "AttributeError",
     "evalue": "'NoneType' object has no attribute 'savefig'",
     "output_type": "error",
     "traceback": [
      "\u001b[0;31m---------------------------------------------------------------------------\u001b[0m",
      "\u001b[0;31mAttributeError\u001b[0m                            Traceback (most recent call last)",
      "Cell \u001b[0;32mIn[41], line 12\u001b[0m\n\u001b[1;32m      4\u001b[0m segment_plot_y \u001b[38;5;241m=\u001b[39m plotting(new_radius_y, np\u001b[38;5;241m.\u001b[39mlog10(new_quantity_y), piecewise_linear(new_radius_y, \u001b[38;5;241m*\u001b[39mp_y),\n\u001b[1;32m      5\u001b[0m                         \u001b[38;5;124m'\u001b[39m\u001b[38;5;124mgo-\u001b[39m\u001b[38;5;124m'\u001b[39m,\u001b[38;5;124m'\u001b[39m\u001b[38;5;124mg-\u001b[39m\u001b[38;5;124m'\u001b[39m, \u001b[38;5;124m\"\u001b[39m\u001b[38;5;124mFace-on\u001b[39m\u001b[38;5;124m\"\u001b[39m,fig)\n\u001b[1;32m      6\u001b[0m \u001b[38;5;66;03m#segment_plot_z = plotting(new_radius_z, np.log10(new_quantity_z), piecewise_linear(new_radius_z, *p_z),\u001b[39;00m\n\u001b[1;32m      7\u001b[0m \u001b[38;5;66;03m#                        'bo-','r-', plotlabel_linedot, \"Z axis projection\", fig)\u001b[39;00m\n\u001b[0;32m---> 12\u001b[0m \u001b[43msegment_plot_x\u001b[49m\u001b[38;5;241;43m.\u001b[39;49m\u001b[43msavefig\u001b[49m(output_dir \u001b[38;5;241m+\u001b[39m snap \u001b[38;5;241m+\u001b[39m \u001b[38;5;124m\"\u001b[39m\u001b[38;5;124mfor the slide.jpg\u001b[39m\u001b[38;5;124m\"\u001b[39m)\n",
      "\u001b[0;31mAttributeError\u001b[0m: 'NoneType' object has no attribute 'savefig'"
     ]
    },
    {
     "data": {
      "image/png": "[encoded data removed]",
      "text/plain": [
       "<Figure size 640x480 with 1 Axes>"
      ]
     },
     "metadata": {},
     "output_type": "display_data"
    }
   ],
   "source": [
    "#projection_plot_x = projection(frb, field, width, quantitylabel, axis, snap ,fontsize = 15)\n",
    "segment_plot_x = plotting(new_radius_x, np.log10(new_quantity_x), piecewise_linear(new_radius_x, *p_x),\n",
    "                        'ro-','r-', \"Edge-on\",fig)\n",
    "segment_plot_y = plotting(new_radius_y, np.log10(new_quantity_y), piecewise_linear(new_radius_y, *p_y),\n",
    "                        'go-','g-', \"Face-on\",fig)\n",
    "#segment_plot_z = plotting(new_radius_z, np.log10(new_quantity_z), piecewise_linear(new_radius_z, *p_z),\n",
    "#                        'bo-','r-', plotlabel_linedot, \"Z axis projection\", fig)\n",
    "\n",
    "\n",
    "\n",
    "\n",
    "segment_plot_x.savefig(output_dir + snap + \"for the slide.jpg\")"
   ]
  },
  {
   "cell_type": "code",
   "execution_count": 21,
   "id": "7da3084b",
   "metadata": {},
   "outputs": [],
   "source": [
    "segment_plot_x"
   ]
  },
  {
   "cell_type": "code",
   "execution_count": 22,
   "id": "7c00efed",
   "metadata": {},
   "outputs": [],
   "source": [
    "segment_plot_x"
   ]
  },
  {
   "cell_type": "code",
   "execution_count": 23,
   "id": "42a781c2",
   "metadata": {},
   "outputs": [
    {
     "ename": "NameError",
     "evalue": "name 'p' is not defined",
     "output_type": "error",
     "traceback": [
      "\u001b[0;31m---------------------------------------------------------------------------\u001b[0m",
      "\u001b[0;31mNameError\u001b[0m                                 Traceback (most recent call last)",
      "Cell \u001b[0;32mIn[23], line 1\u001b[0m\n\u001b[0;32m----> 1\u001b[0m \u001b[43mp\u001b[49m[\u001b[38;5;241m0\u001b[39m]\n",
      "\u001b[0;31mNameError\u001b[0m: name 'p' is not defined"
     ]
    }
   ],
   "source": [
    "p[0]"
   ]
  },
  {
   "cell_type": "code",
   "execution_count": null,
   "id": "63b40816",
   "metadata": {},
   "outputs": [],
   "source": []
  },
  {
   "cell_type": "code",
   "execution_count": null,
   "id": "52105474",
   "metadata": {},
   "outputs": [],
   "source": [
    "redpara = ds.get_parameter(\"CosmologyCurrentRedshift\")\n",
    "redshiftlist.append(redpara)\n",
    "cutofflist.append(p[0])\n"
   ]
  },
  {
   "cell_type": "code",
   "execution_count": null,
   "id": "d55696df",
   "metadata": {},
   "outputs": [],
   "source": [
    "redpara"
   ]
  },
  {
   "cell_type": "code",
   "execution_count": null,
   "id": "c38c016c",
   "metadata": {},
   "outputs": [],
   "source": []
  },
  {
   "cell_type": "code",
   "execution_count": null,
   "id": "c02ce764",
   "metadata": {},
   "outputs": [],
   "source": [
    "np.save('x_axis_timelist', timelist_x)\n",
    "np.save('x_axis_redshiftlist', redshiftlist_x)\n",
    "np.save('x_axis_cutofflist', cutofflist_x)"
   ]
  }
 ],
 "metadata": {
  "kernelspec": {
   "display_name": "Python 3 (ipykernel)",
   "language": "python",
   "name": "python3"
  },
  "language_info": {
   "codemirror_mode": {
    "name": "ipython",
    "version": 3
   },
   "file_extension": ".py",
   "mimetype": "text/x-python",
   "name": "python",
   "nbconvert_exporter": "python",
   "pygments_lexer": "ipython3",
   "version": "3.10.9"
  }
 },
 "nbformat": 4,
 "nbformat_minor": 5
}
