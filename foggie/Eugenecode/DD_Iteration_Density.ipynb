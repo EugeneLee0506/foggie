{
 "cells": [
  {
   "cell_type": "code",
   "execution_count": 1,
   "id": "4d941fce",
   "metadata": {},
   "outputs": [],
   "source": [
    "import numpy as np              # numpy is a general-purpose math package\n",
    "import yt                       # yt is the data vizualization package\n",
    "from yt.units import *          # this lets you get things like speed of light in proper units just by typing 'c'\n",
    "from astropy.table import Table # this is needed for reading in various foggie data byproducts\n",
    "from astropy.io import ascii    # this too\n",
    "import matplotlib.pyplot as plt # this is the standard python plotting package, very useful!\n",
    "from mpl_toolkits.axes_grid1 import make_axes_locatable\n",
    "import matplotlib\n",
    "import math\n",
    "from ipynb.fs.defs.FRB_and_Projection_functions import frb_projection, projection\n",
    "from scipy import optimize\n",
    "import pwlf # A library for fitting continuous piecewise linear functions to data (Returns cut-off radius)\n",
    "import os #for the lacie part \n",
    "\n",
    "# These imports are FOGGIE-specific files\n",
    "from foggie.utils.consistency import *\n",
    "from foggie.utils.foggie_load import *\n",
    "\n",
    "home_dir = '/Users/hylee/foggie/'\n",
    "laptop_root_dir = home_dir + 'foggie_sims/' # root directory where sims are stored on the laptop\n",
    "hd_root_dir = '/Volumes/LaCie/' # root directory where sims are stored on the hard drive\n",
    "\n",
    "root_dir = hd_root_dir # have this as either laptop_root_dir or hd_root_dir depending on where the simulation is stored\n",
    "code_path = '/Users/hylee/coding/foggie/foggie/' #path to the cloned github repo\n",
    "\n",
    "# everything above this is general path, and below this is specific to a given halo\n",
    "halo = '8508' # which halo\n",
    "simulation_dir = root_dir + 'halo_00' + halo + '/nref11c_nref9f/' # path where the foggie simulations are stored\n",
    "output_dir = home_dir + 'foggie_output/halo_00' + halo + '/nref11c_nref9f/' # path where all the outputs will be stored\n",
    "track_dir = code_path + 'halo_infos/00' + halo + '/nref11c_nref9f/'\n",
    "track_name = code_path + 'halo_tracks/00' + halo + '/nref11n_selfshield_15/halo_track_200kpc_nref9' #these need to be provided to foggie_load()"
   ]
  },
  {
   "cell_type": "code",
   "execution_count": 2,
   "id": "da2b6763",
   "metadata": {},
   "outputs": [],
   "source": [
    "def radius_func(od, size, res):\n",
    "    OD_Qua=[]\n",
    "    OD_Rad=[]  #OD_Rad & OD_Met HAVE to be defined specifically inside func1/before for loop\n",
    "    for i in range(70):\n",
    "        for j in range(70):\n",
    "            this_quantity_value = od[i][j]\n",
    "            xindex = i\n",
    "            yindex = j\n",
    "            radius = (math.sqrt(((yindex-34)**2+(xindex-34)**2)))*(size/res)\n",
    "            OD_Qua.append(this_quantity_value)\n",
    "            OD_Rad.append(radius)\n",
    "    return OD_Rad, OD_Qua"
   ]
  },
  {
   "cell_type": "code",
   "execution_count": 3,
   "id": "b1a3175f",
   "metadata": {},
   "outputs": [],
   "source": [
    "def binning_func(OD_Rad, OD_Qua, max_radius, min_radius, binsize):\n",
    "    index = 0 \n",
    "    quantitylist = []\n",
    "    sort = np.argsort(OD_Rad)\n",
    "    sorted_radius = np.array(OD_Rad)[sort]\n",
    "    sorted_quantity = np.array(OD_Qua)[sort]\n",
    "    radiuslist = np.arange(min_radius, max_radius, binsize) + binsize/2\n",
    "    while index < len(radiuslist):\n",
    "        left_edge = index*binsize\n",
    "        right_edge = left_edge + binsize \n",
    "        new_quantity = np.array(sorted_quantity)[(left_edge <= sorted_radius) & (sorted_radius < right_edge)]\n",
    "        quantitylist.append((np.mean(new_quantity)))\n",
    "        index +=1\n",
    "    return radiuslist, quantitylist"
   ]
  },
  {
   "cell_type": "code",
   "execution_count": 4,
   "id": "103df818",
   "metadata": {},
   "outputs": [],
   "source": [
    "def piecewise_linear(x, x0, y0, k1, k2):\n",
    "    return np.piecewise(x, [x < x0], [lambda x:k1*x + y0-k1*x0, lambda x:k2*x + y0-k2*x0])"
   ]
  },
  {
   "cell_type": "code",
   "execution_count": 20,
   "id": "5aa1a612",
   "metadata": {},
   "outputs": [],
   "source": [
    "def plotting(xvalue, yvalue_origdata, yvalue_cutoff, color_original, color_cutoff, plotlabel_linedot,\n",
    "            plotlabel_segment, fig):\n",
    "    #fig1 = plt.figure()\n",
    "    plt.plot(xvalue, yvalue_origdata, color_original, label=plotlabel_linedot)\n",
    "    plt.plot(xvalue, yvalue_cutoff, color_cutoff, label=plotlabel_segment)\n",
    "    #plt.plot(xvalue, piecewise_linear(new_radius, *p0), 'g')\n",
    "    plt.legend(loc=\"upper right\", fontsize = 15)\n",
    "    plt.xlabel(\"Radius from galactic center [kpc]\", fontsize = fontsize)\n",
    "    plt.ylabel(\"Density [log 10 g/cm^2]\", fontsize = fontsize)\n",
    "    plt.xticks(fontsize = fontsize/1.5)\n",
    "    plt.yticks(fontsize = fontsize/1.5)\n",
    "    #return fig1"
   ]
  },
  {
   "cell_type": "code",
   "execution_count": 6,
   "id": "0feacde5",
   "metadata": {},
   "outputs": [],
   "source": [
    "DDLIST = []\n",
    "for file in os.listdir(simulation_dir):\n",
    "    if file.startswith(\"DD\"):\n",
    "        DDLIST.append(file)\n",
    "sorted_dd_list = sorted(DDLIST, key=lambda x: int(x[2:]))"
   ]
  },
  {
   "cell_type": "code",
   "execution_count": 7,
   "id": "ed8cb05b",
   "metadata": {},
   "outputs": [
    {
     "data": {
      "text/plain": [
       "['DD0138',\n",
       " 'DD0238',\n",
       " 'DD0287',\n",
       " 'DD0293',\n",
       " 'DD0338',\n",
       " 'DD0438',\n",
       " 'DD0538',\n",
       " 'DD0638',\n",
       " 'DD0738',\n",
       " 'DD0838',\n",
       " 'DD0938',\n",
       " 'DD1038',\n",
       " 'DD1138',\n",
       " 'DD1238',\n",
       " 'DD1338',\n",
       " 'DD1438',\n",
       " 'DD1477',\n",
       " 'DD1478',\n",
       " 'DD1479',\n",
       " 'DD1538',\n",
       " 'DD1638',\n",
       " 'DD1738',\n",
       " 'DD1838',\n",
       " 'DD1938',\n",
       " 'DD2038',\n",
       " 'DD2138',\n",
       " 'DD2238',\n",
       " 'DD2288',\n",
       " 'DD2289',\n",
       " 'DD2338',\n",
       " 'DD2427']"
      ]
     },
     "execution_count": 7,
     "metadata": {},
     "output_type": "execute_result"
    }
   ],
   "source": [
    "sorted_dd_list"
   ]
  },
  {
   "cell_type": "code",
   "execution_count": 8,
   "id": "64b98204",
   "metadata": {},
   "outputs": [],
   "source": [
    "redshiftlist = []\n",
    "cutofflist = []\n",
    "timelist = []\n",
    "    \n",
    "snap = \"DD1238\" # name of the snapshot output\n",
    "snap_fullpath = simulation_dir + snap + '/' + snap # full path of where the snapshot output lives\n",
    "field = \"density\"\n",
    "axis_x = \"x\"\n",
    "axis_y = \"y\"\n",
    "axis_z = \"z\"\n",
    "resolution = 70 #[pixel]\n",
    "quantitylabel = 'Density [log 10 g/cm^2]'\n",
    "min_radius = 0  #[kpc]\n",
    "markersize = 10\n",
    "fontsize = 15 \n",
    "plotlabel_linedot = 'Binned mean density'\n",
    "plotlabel_segment = 'Fitted density of' + \" \" + snap"
   ]
  },
  {
   "cell_type": "code",
   "execution_count": 9,
   "id": "9e61f7ec",
   "metadata": {},
   "outputs": [
    {
     "name": "stdout",
     "output_type": "stream",
     "text": [
      "Opening snapshot /Volumes/LaCie/halo_008508/nref11c_nref9f/DD1238/DD1238\n"
     ]
    },
    {
     "name": "stderr",
     "output_type": "stream",
     "text": [
      "yt : [INFO     ] 2023-07-31 23:02:03,725 Parameters: current_time              = 342.31652781829\n",
      "yt : [INFO     ] 2023-07-31 23:02:03,726 Parameters: domain_dimensions         = [256 256 256]\n",
      "yt : [INFO     ] 2023-07-31 23:02:03,726 Parameters: domain_left_edge          = [0. 0. 0.]\n",
      "yt : [INFO     ] 2023-07-31 23:02:03,727 Parameters: domain_right_edge         = [1. 1. 1.]\n",
      "yt : [INFO     ] 2023-07-31 23:02:03,728 Parameters: cosmological_simulation   = 1\n",
      "yt : [INFO     ] 2023-07-31 23:02:03,729 Parameters: current_redshift          = 0.70104740107777\n",
      "yt : [INFO     ] 2023-07-31 23:02:03,730 Parameters: omega_lambda              = 0.715\n",
      "yt : [INFO     ] 2023-07-31 23:02:03,730 Parameters: omega_matter              = 0.285\n",
      "yt : [INFO     ] 2023-07-31 23:02:03,731 Parameters: omega_radiation           = 0.0\n",
      "yt : [INFO     ] 2023-07-31 23:02:03,732 Parameters: hubble_constant           = 0.695\n"
     ]
    },
    {
     "name": "stdout",
     "output_type": "stream",
     "text": [
      "get_refine_box: using this location:       col1         col2    col3     col4     col5    col6     col7   col8\n",
      "---------------- ------- -------- -------- ------- -------- -------- ----\n",
      "0.70104740107777 0.49091 0.479176 0.504679 0.49291 0.481176 0.506679    9\n"
     ]
    },
    {
     "name": "stderr",
     "output_type": "stream",
     "text": [
      "Parsing Hierarchy : 100%|█████████████████| 6009/6009 [00:00<00:00, 8184.16it/s]\n",
      "yt : [INFO     ] 2023-07-31 23:02:04,784 Gathering a field list (this may take a moment.)\n"
     ]
    },
    {
     "name": "stdout",
     "output_type": "stream",
     "text": [
      "Pulling halo center from catalog file\n"
     ]
    }
   ],
   "source": [
    "ds, refine_box = foggie_load(snap_fullpath, track_name, halo_c_v_name=track_dir + 'halo_c_v',\n",
    "                                  disk_relative=False, do_filter_particles=False, masses_dir=track_dir)\n",
    "        \n",
    "z = ds.get_parameter(\"CosmologyCurrentRedshift\")\n",
    "current_time = ds.current_time.in_units('Gyr').value\n"
   ]
  },
  {
   "cell_type": "code",
   "execution_count": 10,
   "id": "bbd186b0",
   "metadata": {},
   "outputs": [],
   "source": [
    "#variable = ds.all_data()"
   ]
  },
  {
   "cell_type": "code",
   "execution_count": 11,
   "id": "9daf9034",
   "metadata": {},
   "outputs": [],
   "source": [
    "#proj = yt.ProjectionPlot(ds, \"x\", \"density\", center=ds.halo_center_kpc, width=(20., 'kpc'), data_source=refine_box,\n",
    "                       #  weight_field=\"density\")"
   ]
  },
  {
   "cell_type": "code",
   "execution_count": 12,
   "id": "ffefe893",
   "metadata": {},
   "outputs": [],
   "source": [
    "width = 200/(1+z) #[kpc]\n",
    "max_radius = width/2 #[kpc]\n",
    "binsize = 3/(z+1) #[kpc]"
   ]
  },
  {
   "cell_type": "code",
   "execution_count": 13,
   "id": "95dc24eb",
   "metadata": {},
   "outputs": [
    {
     "name": "stderr",
     "output_type": "stream",
     "text": [
      "yt : [INFO     ] 2023-07-31 23:03:21,692 Projection completed\n"
     ]
    }
   ],
   "source": [
    "frb_x = frb_projection(ds, field, axis_x, refine_box, width, resolution, weight_field = None)\n",
    "frb_y = frb_projection(ds, field, axis_y, refine_box, width, resolution, weight_field = None)\n",
    "frb_z = frb_projection(ds, field, axis_z, refine_box, width, resolution, weight_field = None)"
   ]
  },
  {
   "cell_type": "code",
   "execution_count": 14,
   "id": "17430c41",
   "metadata": {},
   "outputs": [
    {
     "name": "stderr",
     "output_type": "stream",
     "text": [
      "yt : [INFO     ] 2023-07-31 23:03:28,111 Making a fixed resolution buffer of (('gas', 'density')) 70 by 70\n"
     ]
    }
   ],
   "source": [
    "OD_Rad_x, OD_Qua_x = radius_func(np.array(frb_x[\"gas\",field]), width, resolution)\n",
    "OD_Rad_y, OD_Qua_y = radius_func(np.array(frb_y[\"gas\",field]), width, resolution)\n",
    "OD_Rad_z, OD_Qua_z = radius_func(np.array(frb_z[\"gas\",field]), width, resolution)"
   ]
  },
  {
   "cell_type": "code",
   "execution_count": 15,
   "id": "129825d5",
   "metadata": {},
   "outputs": [],
   "source": [
    "radiuslist_x, quantitylist_x =  binning_func(OD_Rad_x, OD_Qua_x, max_radius, min_radius, binsize)\n",
    "radiuslist_y, quantitylist_y =  binning_func(OD_Rad_y, OD_Qua_y, max_radius, min_radius, binsize)\n",
    "radiuslist_z, quantitylist_z =  binning_func(OD_Rad_z, OD_Qua_z, max_radius, min_radius, binsize)"
   ]
  },
  {
   "cell_type": "code",
   "execution_count": 16,
   "id": "be6f7be8",
   "metadata": {},
   "outputs": [],
   "source": [
    "new_radius_x = np.ma.compressed(np.ma.masked_where(np.isnan(quantitylist_x), radiuslist_x))\n",
    "new_quantity_x  = np.ma.compressed(np.ma.masked_where(np.isnan(quantitylist_x), quantitylist_x))\n",
    "new_radius_y = np.ma.compressed(np.ma.masked_where(np.isnan(quantitylist_y), radiuslist_y))\n",
    "new_quantity_y  = np.ma.compressed(np.ma.masked_where(np.isnan(quantitylist_y), quantitylist_y))\n",
    "new_radius_z = np.ma.compressed(np.ma.masked_where(np.isnan(quantitylist_z), radiuslist_z))\n",
    "new_quantity_z  = np.ma.compressed(np.ma.masked_where(np.isnan(quantitylist_z), quantitylist_z))"
   ]
  },
  {
   "cell_type": "code",
   "execution_count": 17,
   "id": "d23da15e",
   "metadata": {
    "scrolled": false
   },
   "outputs": [],
   "source": [
    "p_x , e_x = optimize.curve_fit(piecewise_linear, new_radius_x, np.log10(new_quantity_x), p0 = [20,4,-0.1,-0.05])\n",
    "p_y , e_y = optimize.curve_fit(piecewise_linear, new_radius_y, np.log10(new_quantity_y), p0 = [20,4,-0.1,-0.05])\n",
    "p_z , e_z = optimize.curve_fit(piecewise_linear, new_radius_z, np.log10(new_quantity_z), p0 = [20,4,-0.1,-0.05])"
   ]
  },
  {
   "cell_type": "code",
   "execution_count": 18,
   "id": "c2dc4124",
   "metadata": {},
   "outputs": [
    {
     "data": {
      "text/plain": [
       "<Figure size 640x480 with 0 Axes>"
      ]
     },
     "metadata": {},
     "output_type": "display_data"
    }
   ],
   "source": [
    "fig = plt.figure()"
   ]
  },
  {
   "cell_type": "code",
   "execution_count": 22,
   "id": "789f9fc2",
   "metadata": {
    "scrolled": false
   },
   "outputs": [
    {
     "data": {
      "image/png": "[encoded data removed]",
      "text/plain": [
       "<Figure size 640x480 with 1 Axes>"
      ]
     },
     "metadata": {},
     "output_type": "display_data"
    }
   ],
   "source": [
    "segment_plot_x = plotting(new_radius_x, np.log10(new_quantity_x), piecewise_linear(new_radius_x, *p_x),\n",
    "                        'ro-','r-', plotlabel_linedot, \"X axis projection\", fig)\n",
    "segment_plot_y = plotting(new_radius_y, np.log10(new_quantity_y), piecewise_linear(new_radius_y, *p_y),\n",
    "                        'go-','g-', plotlabel_linedot, \"Y axis projection\", fig)\n",
    "segment_plot_z = plotting(new_radius_z, np.log10(new_quantity_z), piecewise_linear(new_radius_z, *p_z),\n",
    "                        'bo-','b-', plotlabel_linedot, \"Z axis projection\", fig)\n",
    "\n",
    "\n",
    "\n",
    "#projection_plot.savefig(output_dir + snap + \"_Density_Projection_Plot.jpg\")\n",
    "\n"
   ]
  },
  {
   "cell_type": "code",
   "execution_count": null,
   "id": "fb762867",
   "metadata": {},
   "outputs": [],
   "source": [
    "'''\n",
    "proj = yt.ProjectionPlot(ds, \"y\", ('gas', 'density'), center=ds.halo_center_kpc, width=(200., 'kpc'), data_source=refine_box)\n",
    "proj.set_unit('density', 'Msun/pc**2')           # change the units of the density to solar masses per square parsec\n",
    "proj.set_cmap('density', density_color_map)      # change the color map used\n",
    "proj.set_zlim('density', density_proj_min, density_proj_max)\n",
    "'''"
   ]
  },
  {
   "cell_type": "code",
   "execution_count": null,
   "id": "f99f097a",
   "metadata": {},
   "outputs": [],
   "source": [
    "ds.current_time.in_units('Gyr').value+0"
   ]
  },
  {
   "cell_type": "code",
   "execution_count": null,
   "id": "3f609749",
   "metadata": {},
   "outputs": [],
   "source": [
    "\n",
    "# We can plot the gas density in the simulation using yt's ProjectionPlot function:\n",
    "proj = yt.ProjectionPlot(ds, \"y\", ('gas', 'density'), center=ds.halo_center_kpc, width=(100., 'kpc'), data_source=refine_box)\n",
    "# This tells yt to make a projection of the field \"density\" in the x-direction, using the dataset 'ds',\n",
    "# centered on 'ds.halo_center_kpc', with a width of the view window of 200 kiloparsecs, and to restrict\n",
    "# what's plotted to only the subset of the dataset in 'refine_box'. 'ds.halo_center_kpc' is a variable\n",
    "# that gives the location of the center of the galaxy. The whole simulation dataset is enormous,\n",
    "# so you'll need that to find where the galaxy is to plot it! Try changing \"x\" to \"y\" or \"z\"\n",
    "# instead to see the galaxy from different angles. Try changing the width from 200 to 100 or 50 to zoom in.\n",
    "\n",
    "# With the projection plot made, we can now modify some things that will be useful to know.\n",
    "proj.set_unit('density', 'Msun/pc**2')           # change the units of the density to solar masses per square parsec\n",
    "proj.set_cmap('density', density_color_map)      # change the color map used\n",
    "proj.set_zlim('density', density_proj_min, density_proj_max)"
   ]
  },
  {
   "cell_type": "code",
   "execution_count": null,
   "id": "12deb09f",
   "metadata": {},
   "outputs": [],
   "source": [
    "proj.save(output_dir + snap + '/' +snap +'density_forslide.png')\n"
   ]
  },
  {
   "cell_type": "code",
   "execution_count": null,
   "id": "793f14a2",
   "metadata": {},
   "outputs": [],
   "source": []
  }
 ],
 "metadata": {
  "kernelspec": {
   "display_name": "Python 3 (ipykernel)",
   "language": "python",
   "name": "python3"
  },
  "language_info": {
   "codemirror_mode": {
    "name": "ipython",
    "version": 3
   },
   "file_extension": ".py",
   "mimetype": "text/x-python",
   "name": "python",
   "nbconvert_exporter": "python",
   "pygments_lexer": "ipython3",
   "version": "3.10.9"
  }
 },
 "nbformat": 4,
 "nbformat_minor": 5
}
