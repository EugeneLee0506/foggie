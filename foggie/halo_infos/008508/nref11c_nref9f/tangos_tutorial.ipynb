{
 "cells": [
  {
   "cell_type": "markdown",
   "id": "0d3f88ca",
   "metadata": {},
   "source": [
    "# **TANGOS: The Agile Numerical Galaxy Organisation System**\n"
   ]
  },
  {
   "cell_type": "markdown",
   "id": "d03abfb5",
   "metadata": {},
   "source": [
    "## Step 1: Installation\n",
    "To install: <br>\n",
    "\\>>git clone https://github.com/anchwr/tangos.git <br>\n",
    "\\>>cd tangos <br>\n",
    "\\>>python setup.py develop <br>\n",
    "This will install my fork of tangos, which works with Enzo outputs. You can install the public version of tangos by typing <br>\n",
    "\\>>pip install tangos <br>\n",
    "but you won't be able to use certain functions (e.g., calculate_all) that need access to the handler class that was used to create the database. <br>\n",
    "More detailed instructions can be found at: https://pynbody.github.io/tangos/index.html <br>"
   ]
  },
  {
   "cell_type": "markdown",
   "id": "1e36ce20",
   "metadata": {},
   "source": [
    "## Step 2: Download a database\n",
    "Basic database containing info for Tempest RDs can be found at: https://github.com/foggie-sims/foggie/blob/master/foggie/halo_infos/008508/nref11c_nref9f/Tempest.9f11c.RD.db <br>(Size as of 8/2/2021: ~10 MB) <br> <br>\n",
    "You'll also need to tell tangos where to find your database. Add the following lines to your .bashrc (.bash_profile, etc):<br>\n",
    "export TANGOS_SIMULATION_FOLDER = /path/to/folder/containing/tangos/database/ <br>\n",
    "export TANGOS_DB_CONNECTION = /path/to/folder/containing/tangos/database/Tempest.9f11c.RD.db <br>\n",
    "So, for me, this is:<br>\n",
    "export TANGOS_SIMULATION_FOLDER=/Users/Anna/Research/Outputs/tangostest/ <br>\n",
    "export TANGOS_DB_CONNECTION=/Users/Anna/Research/Outputs/tangostest/Tempest.9f11c.RD.db\n"
   ]
  },
  {
   "cell_type": "markdown",
   "id": "fe0e75ca",
   "metadata": {},
   "source": [
    "## Step 3: Check that you can load the database\n",
    "(Source your .bashrc and reload this notebook if necessary) <br>\n"
   ]
  },
  {
   "cell_type": "code",
   "execution_count": null,
   "id": "89a6541f",
   "metadata": {},
   "outputs": [],
   "source": [
    "import tangos as db"
   ]
  },
  {
   "cell_type": "markdown",
   "id": "87101147",
   "metadata": {},
   "source": [
    "Which simulations do we have access to? If all went well, you should see <Simulation(\"Tempest.9f11c.RD\")>"
   ]
  },
  {
   "cell_type": "code",
   "execution_count": null,
   "id": "c791c284",
   "metadata": {},
   "outputs": [],
   "source": [
    "db.all_simulations()"
   ]
  },
  {
   "cell_type": "markdown",
   "id": "7adac1de",
   "metadata": {},
   "source": [
    "Load the Tempest database:"
   ]
  },
  {
   "cell_type": "code",
   "execution_count": null,
   "id": "5e994f5c",
   "metadata": {},
   "outputs": [],
   "source": [
    "sim = db.get_simulation('Tempest.9f11c.RD')"
   ]
  },
  {
   "cell_type": "markdown",
   "id": "92c73edd",
   "metadata": {},
   "source": [
    "Check that you can see all of the timesteps (you should see a list showing RD0012-RD0042):"
   ]
  },
  {
   "cell_type": "code",
   "execution_count": null,
   "id": "261569cb",
   "metadata": {},
   "outputs": [],
   "source": [
    "sim.timesteps"
   ]
  },
  {
   "cell_type": "markdown",
   "id": "703d1a96",
   "metadata": {},
   "source": [
    "Let's look at RD0042. There are a couple of ways to select an individual timestep. My preferred way is just via indexing. There are 31 timesteps here total, so the most recent is:"
   ]
  },
  {
   "cell_type": "code",
   "execution_count": null,
   "id": "6ecfacfe",
   "metadata": {},
   "outputs": [],
   "source": [
    "sim[30]"
   ]
  },
  {
   "cell_type": "markdown",
   "id": "9e8db03a",
   "metadata": {},
   "source": [
    "However, if you know the name of the timestep, but not its index, you can also access it that way:"
   ]
  },
  {
   "cell_type": "code",
   "execution_count": null,
   "id": "ab14903f",
   "metadata": {},
   "outputs": [],
   "source": [
    "db.get_timestep('Tempest.9f11c.RD/%42')"
   ]
  },
  {
   "cell_type": "markdown",
   "id": "76cbccb7",
   "metadata": {},
   "source": [
    "We can access individual halos in much the same way:"
   ]
  },
  {
   "cell_type": "code",
   "execution_count": null,
   "id": "788ffbd2",
   "metadata": {},
   "outputs": [],
   "source": [
    "sim[30][1]"
   ]
  },
  {
   "cell_type": "markdown",
   "id": "1674badc",
   "metadata": {},
   "source": [
    "and"
   ]
  },
  {
   "cell_type": "code",
   "execution_count": null,
   "id": "473dd01d",
   "metadata": {},
   "outputs": [],
   "source": [
    "db.get_halo('Tempest.9f11c.RD/%42/halo_1')"
   ]
  },
  {
   "cell_type": "markdown",
   "id": "feb3e6c1",
   "metadata": {},
   "source": [
    "are equivalent. Tangos automatically sorts halos by the number of dark matter particles that they possess, so halo 1 is the most massive halo, halo 2 is the next most massive, and so on."
   ]
  },
  {
   "cell_type": "markdown",
   "id": "d4528e4a",
   "metadata": {},
   "source": [
    "## Step 4: Look at what properties are actually stored in the database"
   ]
  },
  {
   "cell_type": "markdown",
   "id": "064245d9",
   "metadata": {},
   "source": [
    "The utility of tangos comes from the fact that you can calculate the same properties for every halo once, store them, and then rapidly access those properties without having to load the simulation itself into yt (or pynbody). You can check which properties exist for a given halo:"
   ]
  },
  {
   "cell_type": "code",
   "execution_count": null,
   "id": "33f20c0e",
   "metadata": {},
   "outputs": [],
   "source": [
    "sim[30][1].keys()"
   ]
  },
  {
   "cell_type": "markdown",
   "id": "1dd637b8",
   "metadata": {},
   "source": [
    "These will vary depending on which halo finder was used on the original simulation and which custom properties your db creator has stored in the database. In this case, rockstar and consistent-trees have been used to find the halos and link them across timesteps. Many of the properties (e.g., Mvir, Center) come directly from the rockstar halo catalogs (albeit converted into physical units). Other properties (e.g., M_star, ContamFrac) are custom. Descriptions of each property and the relevant units are available at: https://github.com/foggie-sims/foggie/blob/master/foggie/halo_infos/008508/nref11c_nref9f/tangos.README.txt . I will do my best to keep this up to date!"
   ]
  },
  {
   "cell_type": "markdown",
   "id": "c171d84a",
   "metadata": {},
   "source": [
    "We can calculate a single property for a single halo:"
   ]
  },
  {
   "cell_type": "code",
   "execution_count": null,
   "id": "2d917873",
   "metadata": {},
   "outputs": [],
   "source": [
    "sim[30][1]['M_coldgas']"
   ]
  },
  {
   "cell_type": "markdown",
   "id": "b66828a7",
   "metadata": {},
   "source": [
    "Or we can calculate multiple properties for every halo in this timestep simultaneously:"
   ]
  },
  {
   "cell_type": "code",
   "execution_count": null,
   "id": "8ba8f93a",
   "metadata": {},
   "outputs": [],
   "source": [
    "import matplotlib.pyplot as plt\n",
    "import numpy as np\n",
    "plt.rcParams['xtick.labelsize'] = 20\n",
    "plt.rcParams['ytick.labelsize'] = 20\n",
    "plt.rcParams['axes.titlesize'] = 20\n",
    "\n",
    "Mh, Ms = sim[30].calculate_all('Mvir','M_star')\n",
    "\n",
    "plt.figure(figsize=(8,8))\n",
    "plt.plot(np.log10(Mh),np.log10(Ms),'k.',markersize=13)\n",
    "plt.xlabel('log$_{10}$(M$_\\mathrm{vir}$/M$_\\odot$)',fontsize=20)\n",
    "plt.ylabel('log$_{10}$(M$_\\star$/M$_\\odot$)',fontsize=20)\n",
    "plt.xlim(6,12)\n",
    "plt.ylim(2,11)\n",
    "plt.show()"
   ]
  },
  {
   "cell_type": "markdown",
   "id": "39cf8f02",
   "metadata": {},
   "source": [
    "Something to note: when we call \"calculate_all\", tangos processes the halos in the order they were read in from the halo catalog, NOT the order they are in the database. Each halo has a few different IDs. The important ones here are halo_number (the number of the halo in the database) and finder_id (the number of the halo in the rockstar halo catalog). You can see that these differ pretty drastically:"
   ]
  },
  {
   "cell_type": "code",
   "execution_count": null,
   "id": "f23c06c6",
   "metadata": {},
   "outputs": [],
   "source": [
    "print (sim[30][1].halo_number)\n",
    "print (sim[30][1].finder_id)"
   ]
  },
  {
   "cell_type": "markdown",
   "id": "d7471c4c",
   "metadata": {},
   "source": [
    "Because of this, it's a good idea to explicitly tell tangos to sort by halo_number if you decide to call calculate_all but still want to be able to associate the resultant quantities with individual halos:"
   ]
  },
  {
   "cell_type": "code",
   "execution_count": null,
   "id": "d9db887e",
   "metadata": {},
   "outputs": [],
   "source": [
    "sim[22].calculate_all('M_gas',order_by_halo_number=True)"
   ]
  },
  {
   "cell_type": "markdown",
   "id": "f1e51bd0",
   "metadata": {},
   "source": [
    "In addition to the properties listed via halo.keys(), there may be \"live calculations\" available. These are properties that the database doesn't explicitly store, but which can be calculated entirely from existent properties. There are a number that are available by default (a full list can be found at https://pynbody.github.io/tangos/live_calculation.html), but your db creator may also have made some custom live calculations. Because these can be called at any time (and therefore don't need to have been available at the time that the db was created), they should work on any database you have access to so long as the necessary properties are present. For instance, my branch of tangos includes live calculations to identify satellites and hosts:"
   ]
  },
  {
   "cell_type": "code",
   "execution_count": null,
   "id": "72490c75",
   "metadata": {},
   "outputs": [],
   "source": [
    "sats = sim[30][2].calculate('Satellites()')\n",
    "print (sats)"
   ]
  },
  {
   "cell_type": "markdown",
   "id": "18432062",
   "metadata": {},
   "source": [
    "This calculation requires only the 'Center', 'Rvir', and 'Mvir' properties. Note that what's been returned is actually an array of halo objects. The properties of the halos are directly accessible through these, so the following two lines are equivalent:"
   ]
  },
  {
   "cell_type": "code",
   "execution_count": null,
   "id": "87038879",
   "metadata": {},
   "outputs": [],
   "source": [
    "sats[1].calculate('Hosts()')"
   ]
  },
  {
   "cell_type": "code",
   "execution_count": null,
   "id": "d9729848",
   "metadata": {},
   "outputs": [],
   "source": [
    "sim[30][5].calculate('Hosts()')"
   ]
  },
  {
   "cell_type": "markdown",
   "id": "96cd2ea4",
   "metadata": {},
   "source": [
    "## Step 5: Travel through time"
   ]
  },
  {
   "cell_type": "markdown",
   "id": "4d99ffc6",
   "metadata": {},
   "source": [
    "Tangos links halos across time either through its own bridging program or by reading in output from a merger tree. This allows us to calculate properties for halos at multiple points in time. We can go just one timestep back:"
   ]
  },
  {
   "cell_type": "code",
   "execution_count": null,
   "id": "ac7e799f",
   "metadata": {},
   "outputs": [],
   "source": [
    "sim[30][3].calculate('earlier(1).Mvir')"
   ]
  },
  {
   "cell_type": "markdown",
   "id": "0712ebc6",
   "metadata": {},
   "source": [
    "Or we can look at the evolution of this property over every available timestep:"
   ]
  },
  {
   "cell_type": "code",
   "execution_count": null,
   "id": "291d7cfb",
   "metadata": {},
   "outputs": [],
   "source": [
    "sim[30][3].calculate_for_progenitors('Mvir')"
   ]
  },
  {
   "cell_type": "markdown",
   "id": "fde42e0d",
   "metadata": {},
   "source": [
    "Note: the value for the timestep you started with (RD0042) is the first entry while the value for the earliest timestep this halo is traced to (RD0021) is the last entry."
   ]
  },
  {
   "cell_type": "markdown",
   "id": "a9ef1b69",
   "metadata": {},
   "source": [
    "We can also go forwards in time:"
   ]
  },
  {
   "cell_type": "code",
   "execution_count": null,
   "id": "bf3a3158",
   "metadata": {},
   "outputs": [],
   "source": [
    "mv, t = sim[1][18].calculate_for_descendants('Mvir','t()')\n",
    "plt.figure(figsize=(8,8))\n",
    "plt.plot(t,np.log10(mv),'k-')\n",
    "plt.xlim(0,14)\n",
    "plt.ylim(8.4,9.6)\n",
    "plt.xlabel('Time (Gyr)',fontsize=20)\n",
    "plt.ylabel('log$_{10}$(M$_\\mathrm{vir}$/M$_\\odot$)',fontsize=20)"
   ]
  },
  {
   "cell_type": "markdown",
   "id": "83144e52",
   "metadata": {},
   "source": [
    "We can also look at how mass grows by directly looking at mergers. There are a number of ways to do this. If you just want to know if a halo experienced a merger between one timestep and the previous one, you can just look at the halo keys. If you see more than one 'consistent_trees_link' entry, there's been a recent merger!"
   ]
  },
  {
   "cell_type": "code",
   "execution_count": null,
   "id": "d8b91cf9",
   "metadata": {},
   "outputs": [],
   "source": [
    "sim[30][4].keys()"
   ]
  },
  {
   "cell_type": "markdown",
   "id": "9e5d98cd",
   "metadata": {},
   "source": [
    "Consistent_trees_link returns halo objects from the previous timestep that are part of the halo in the current timestep, so you can use it directly to access the properties of the merging halos. "
   ]
  },
  {
   "cell_type": "code",
   "execution_count": null,
   "id": "b72d64af",
   "metadata": {},
   "outputs": [],
   "source": [
    "sim[30][4]['consistent_trees_link']"
   ]
  },
  {
   "cell_type": "markdown",
   "id": "29fbda7e",
   "metadata": {},
   "source": [
    "For instance, we can find out the mass ratio of the merging halos:"
   ]
  },
  {
   "cell_type": "code",
   "execution_count": null,
   "id": "182c9996",
   "metadata": {},
   "outputs": [],
   "source": [
    "sim[30][4]['consistent_trees_link'][0]['Mvir']/sim[30][4]['consistent_trees_link'][1]['Mvir']"
   ]
  },
  {
   "cell_type": "markdown",
   "id": "fc0a65e2",
   "metadata": {},
   "source": [
    "You can also grab the entire merger history of a halo at once"
   ]
  },
  {
   "cell_type": "code",
   "execution_count": null,
   "id": "aa55c5f3",
   "metadata": {},
   "outputs": [],
   "source": [
    "import tangos.examples.mergers as tmer\n",
    "\n",
    "z,rat,hobj = tmer.get_mergers_of_major_progenitor(sim[30][1])\n",
    "print ('Redshifts of mergers:\\n',z)\n",
    "print ('Mass ratios of mergers:\\n',rat)\n",
    "print ('Halos involved in mergers:\\n',hobj)"
   ]
  },
  {
   "cell_type": "markdown",
   "id": "1d3bdb76",
   "metadata": {},
   "source": [
    "This is a fairly complex merger history and likely better processed visually. We can do that by launching tangos' web server:<br>\n",
    "\\>>tangos serve <br>\n",
    "You should see something like \"Serving on http://555.5.5.5:6543\". Enter the address into your web browser and click on the simulation you want, followed by the timestep and the halo. Clicking on the circle next to \"merger tree\" will give you a visual representation of your halo's merger history. You can also plot just about every other quantity in the database against time (or any other quantity), too!"
   ]
  },
  {
   "cell_type": "markdown",
   "id": "a1ea2080",
   "metadata": {},
   "source": [
    "## Step 6: Use tangos and yt together"
   ]
  },
  {
   "cell_type": "markdown",
   "id": "2f17001f",
   "metadata": {},
   "source": [
    "Let's go back to the halo that we traced forwards in time a few steps ago. We can see that this halo loses mass, presumably through tidal stripping. Thus far, we've done all of our analysis without accessing the actual simulation data or loading in yt. However, if we want to visualize the tidal debris, we'll need to use both tangos and yt. Using tangos, we can identify when the halo was at its maximum mass, where it was located at that time, and how large it was."
   ]
  },
  {
   "cell_type": "code",
   "execution_count": null,
   "id": "86ff49ea",
   "metadata": {},
   "outputs": [],
   "source": [
    "hn,rvir,cen,mv = sim[1][18].calculate_for_descendants('halo_number()','Rvir','Center_cu','Mvir')\n",
    "maxm = np.argmax(mv)\n",
    "print (sim[int(1+maxm)][int(hn[maxm])])\n",
    "r = rvir[maxm]\n",
    "c = cen[maxm]"
   ]
  },
  {
   "cell_type": "markdown",
   "id": "2acee05c",
   "metadata": {},
   "source": [
    "Using yt, we can read in all of the particles that belonged to the halo at this time by creating a sphere of radius r at point c."
   ]
  },
  {
   "cell_type": "code",
   "execution_count": null,
   "id": "37bb3fc1",
   "metadata": {},
   "outputs": [],
   "source": [
    "import yt\n",
    "from yt.units.yt_array import YTQuantity\n",
    "from yt.data_objects.particle_filters import add_particle_filter\n",
    "\n",
    "ds = yt.load('/Volumes/Rapid/Tempest/nref9f_nref11c/RD0034/RD0034')\n",
    "ad = ds.all_data()\n",
    "\n",
    "halo = ds.sphere(center=c,radius=YTQuantity(r,'kpc'))\n",
    "\n",
    "h_stars = halo['nbody','particle_index'][halo['nbody','particle_type']==2]\n",
    "h_dm = halo['nbody','particle_index'][halo['nbody','particle_type']==4]"
   ]
  },
  {
   "cell_type": "markdown",
   "id": "43495524",
   "metadata": {},
   "source": [
    "Now let's see where they are at z=0 with respect to Tempest:"
   ]
  },
  {
   "cell_type": "code",
   "execution_count": null,
   "id": "86234c03",
   "metadata": {},
   "outputs": [],
   "source": [
    "def HaloStars(pfilter, data):\n",
    "    filter = np.isin(data['nbody','particle_index'],h_stars)\n",
    "    return filter\n",
    "\n",
    "add_particle_filter(\"halo_stars\", function=HaloStars, filtered_type='nbody', \\\n",
    "                    requires=[\"particle_index\"])\n",
    "\n",
    "def HaloDM(pfilter, data):\n",
    "    filter = np.isin(data['nbody','particle_index'],h_dm) \n",
    "    return filter\n",
    "\n",
    "add_particle_filter(\"halo_dm\", function=HaloDM, filtered_type='nbody', \\\n",
    "                    requires=[\"particle_index\"])"
   ]
  },
  {
   "cell_type": "code",
   "execution_count": null,
   "id": "57360a0c",
   "metadata": {},
   "outputs": [],
   "source": [
    "ds = yt.load('/Volumes/Rapid/Tempest/nref9f_nref11c/RD0042/RD0042')\n",
    "ad = ds.all_data()\n",
    "\n",
    "ds.add_particle_filter('halo_stars')\n",
    "ds.add_particle_filter('halo_dm')\n",
    "\n",
    "TempestCenter = sim[30][1]['Center_cu']\n",
    "TempestRadius = sim[30][1]['Rvir']\n",
    "\n",
    "GuessReg = ds.sphere(TempestCenter,radius=(500,'kpc'))\n",
    "\n",
    "xpos_dm = YTQuantity(sim[30][1]['X']*1000,'kpc')-GuessReg['halo_dm','particle_position_x'].in_units('kpc')\n",
    "ypos_dm = YTQuantity(sim[30][1]['Y']*1000,'kpc')-GuessReg['halo_dm','particle_position_y'].in_units('kpc')\n",
    "zpos_dm = YTQuantity(sim[30][1]['Z']*1000,'kpc')-GuessReg['halo_dm','particle_position_z'].in_units('kpc')\n",
    "xpos_stars = YTQuantity(sim[30][1]['X']*1000,'kpc')-GuessReg['halo_stars','particle_position_x'].in_units('kpc')\n",
    "ypos_stars = YTQuantity(sim[30][1]['Y']*1000,'kpc')-GuessReg['halo_stars','particle_position_y'].in_units('kpc')\n",
    "zpos_stars = YTQuantity(sim[30][1]['Z']*1000,'kpc')-GuessReg['halo_stars','particle_position_z'].in_units('kpc')"
   ]
  },
  {
   "cell_type": "code",
   "execution_count": null,
   "id": "fe9dc40a",
   "metadata": {},
   "outputs": [],
   "source": [
    "f1 = plt.figure(figsize=(8,8))\n",
    "plt.plot(xpos_dm,ypos_dm,'k.',markersize=10)\n",
    "plt.plot(xpos_stars,ypos_stars,'r.',markersize=8)\n",
    "Tempcir = plt.Circle((0,0),TempestRadius,color='b',fill=False)\n",
    "f1.gca().add_artist(Tempcir)\n",
    "plt.xlabel('x/kpc', fontsize=20)\n",
    "plt.ylabel('y/kpc', fontsize=20)\n",
    "plt.show()\n",
    "\n",
    "f2 = plt.figure(figsize=(8,8))\n",
    "plt.plot(ypos_dm,zpos_dm,'k.',markersize=10)\n",
    "plt.plot(ypos_stars,zpos_stars,'r.',markersize=8)\n",
    "Tempcir = plt.Circle((0,0),TempestRadius,color='b',fill=False)\n",
    "f2.gca().add_artist(Tempcir)\n",
    "plt.xlabel('y/kpc', fontsize=20)\n",
    "plt.ylabel('z/kpc', fontsize=20)\n",
    "plt.show()\n",
    "\n",
    "f2 = plt.figure(figsize=(8,8))\n",
    "plt.plot(xpos_dm,zpos_dm,'k.',markersize=10)\n",
    "plt.plot(xpos_stars,zpos_stars,'r.',markersize=8)\n",
    "Tempcir = plt.Circle((0,0),TempestRadius,color='b',fill=False)\n",
    "f2.gca().add_artist(Tempcir)\n",
    "plt.xlabel('x/kpc', fontsize=20)\n",
    "plt.ylabel('z/kpc', fontsize=20)\n",
    "plt.show()"
   ]
  },
  {
   "cell_type": "markdown",
   "id": "7850fa65",
   "metadata": {},
   "source": [
    "**There are also plenty of other ways to use tangos! A more complete set of tutorials can be found at** https://pynbody.github.io/tangos/data_exploration.html"
   ]
  }
 ],
 "metadata": {
  "kernelspec": {
   "display_name": "Python 3",
   "language": "python",
   "name": "python3"
  },
  "language_info": {
   "codemirror_mode": {
    "name": "ipython",
    "version": 3
   },
   "file_extension": ".py",
   "mimetype": "text/x-python",
   "name": "python",
   "nbconvert_exporter": "python",
   "pygments_lexer": "ipython3",
   "version": "3.7.7"
  }
 },
 "nbformat": 4,
 "nbformat_minor": 5
}
