{
 "cells": [
  {
   "cell_type": "code",
   "execution_count": 9,
   "metadata": {},
   "outputs": [],
   "source": [
    "import numpy as np\n",
    "import sys\n",
    "from astropy.io import fits\n",
    "from astropy.table import Table\n",
    "import matplotlib.pyplot as plt\n",
    "import matplotlib as mpl\n",
    "mpl.rcParams['font.family'] = 'stixgeneral'\n",
    "\n",
    "fs=14\n",
    "\n",
    "\n",
    "from foggie.utils import consistency\n",
    "cmap = consistency.temperature_discrete_cmap\n",
    "c_all = plt.cm.Greys(0.7)\n",
    "c_cold = cmap(0.05)\n",
    "c_cool = cmap(0.25)\n",
    "c_warm = cmap(0.6)\n",
    "c_hot = cmap(0.9)\n",
    "\n",
    "gc_ls = '-'\n",
    "gc_lw = 3\n",
    "\n",
    "sun_ls = ':'\n",
    "sun_lw = 3\n",
    "\n",
    "vmin = -400\n",
    "vmax = 400\n",
    "\n",
    "ymin1 = 2e3 #2e3, 2e3 # 2e3\n",
    "ymax1 = 3e8 #3e7, 1e7 # 3e8\n",
    "\n",
    "ymin2 = 0.001\n",
    "ymax2 = 4 # 0.6, 0.4, 4 "
   ]
  },
  {
   "cell_type": "code",
   "execution_count": 10,
   "metadata": {},
   "outputs": [],
   "source": [
    "sim_name = 'nref11n_nref10f'\n",
    "dd_name = 'DD2175'\n",
    "obj_tag = 'cgm-15kpc'\n",
    "b_tag = 'highb'\n",
    "b_lim = 20"
   ]
  },
  {
   "cell_type": "code",
   "execution_count": 2,
   "metadata": {},
   "outputs": [],
   "source": [
    "def which_phase_to_plot(tag='cold'):\n",
    "    \n",
    "    if tag == 'all': \n",
    "        color = 'k' \n",
    "        dMdv_sun = dM_all_sun \n",
    "        dMdv_gc = dM_all_gc \n",
    "        dMdt_sun = dMdt_all_sun\n",
    "        dMdt_gc = dMdt_all_gc\n",
    "    elif tag == 'cold': \n",
    "        color = c_cold \n",
    "        dMdv_sun = dM_cold_sun \n",
    "        dMdv_gc = dM_cold_gc \n",
    "        dMdt_sun = dMdt_cold_sun\n",
    "        dMdt_gc = dMdt_cold_gc\n",
    "    elif tag == 'cool': \n",
    "        color = c_cool\n",
    "        dMdv_sun = dM_cool_sun \n",
    "        dMdv_gc = dM_cool_gc \n",
    "        dMdt_sun = dMdt_cool_sun\n",
    "        dMdt_gc = dMdt_cool_gc\n",
    "    elif tag == 'warm': \n",
    "        color = c_warm \n",
    "        dMdv_sun = dM_warm_sun \n",
    "        dMdv_gc = dM_warm_gc \n",
    "        dMdt_sun = dMdt_warm_sun\n",
    "        dMdt_gc = dMdt_warm_gc\n",
    "    elif tag == 'hot': \n",
    "        color = c_hot\n",
    "        dMdv_sun = dM_hot_sun \n",
    "        dMdv_gc = dM_hot_gc \n",
    "        dMdt_sun = dMdt_hot_sun\n",
    "        dMdt_gc = dMdt_hot_gc\n",
    "        \n",
    "    return color, dMdv_sun, dMdv_gc, dMdt_sun, dMdt_gc \n",
    "\n",
    "def read_dMdv_file(filename, b_tag='allb'):\n",
    "    if b_tag not in ['allb', 'lowb', 'highb']: \n",
    "        print(\"b_tag has to be all, lowb, or highb\")\n",
    "        sys.exit()\n",
    "    # b_tag: all, lowb, highb\n",
    "    \n",
    "    # file_gc = 'figs/dM_dv/fits/nref11n_nref10f_DD2175_dMdv_%s_halo_center_%s.fits'%(obj_tag, shift)\n",
    "    data = Table.read(filename, format='fits')\n",
    "    dv_bins = data['v (km/s)']\n",
    "    \n",
    "    # print(data.keys())\n",
    "    dM_all = data['dM_%s (Msun/km/s)'%(b_tag)]\n",
    "    dM_cold = data['dM_cold_%s (Msun/km/s)'%(b_tag)]\n",
    "    dM_cool = data['dM_cool_%s (Msun/km/s)'%(b_tag)]\n",
    "    dM_warm = data['dM_warm_%s (Msun/km/s)'%(b_tag)]\n",
    "    dM_hot = data['dM_hot_%s (Msun/km/s)'%(b_tag)]\n",
    "        \n",
    "    return dv_bins, dM_all, dM_cold, dM_cool, dM_warm, dM_hot \n",
    "\n",
    "def read_dMdt_file(filename, b_tag='allb'): \n",
    "    if b_tag not in ['allb', 'lowb', 'highb']: \n",
    "        print(\"b_tag has to be all, lowb, or highb\")\n",
    "        sys.exit()\n",
    "    # b_tag: all, lowb, highb\n",
    "    \n",
    "    # file = 'figs/dM_dt/fits/nref11n_nref10f_DD2175_dMdt_%s_halo_center.fits'%(obj_tag)\n",
    "    data = Table.read(filename, format='fits')\n",
    "    dv_bins = data['v (km/s)']\n",
    "    dMdt_all = data['dMdt_%s (Msun/yr)'%(b_tag)]\n",
    "    dMdt_cold = data['dMdt_cold_%s (Msun/yr)'%(b_tag)]\n",
    "    dMdt_cool = data['dMdt_cool_%s (Msun/yr)'%(b_tag)]\n",
    "    dMdt_warm = data['dMdt_warm_%s (Msun/yr)'%(b_tag)]\n",
    "    dMdt_hot = data['dMdt_hot_%s (Msun/yr)'%(b_tag)]\n",
    "    \n",
    "    # let's do a little tweak to the dMdt to make them all positive for better illustration \n",
    "    dMdt_all[dv_bins<=0] = np.abs(dMdt_all[dv_bins<=0])\n",
    "    dMdt_cold[dv_bins<=0] = np.abs(dMdt_cold[dv_bins<=0])\n",
    "    dMdt_cool[dv_bins<=0] = np.abs(dMdt_cool[dv_bins<=0])\n",
    "    dMdt_warm[dv_bins<=0] = np.abs(dMdt_warm[dv_bins<=0])\n",
    "    dMdt_hot[dv_bins<=0] = np.abs(dMdt_hot[dv_bins<=0])\n",
    "    \n",
    "    return dv_bins, dMdt_all, dMdt_cold, dMdt_cool, dMdt_warm, dMdt_hot"
   ]
  },
  {
   "cell_type": "markdown",
   "metadata": {},
   "source": [
    "dMdv from halo center and from off center "
   ]
  },
  {
   "cell_type": "code",
   "execution_count": 15,
   "metadata": {},
   "outputs": [],
   "source": [
    "####################### get dM/dv from halo center ##########################\n",
    "file_gc = 'figs/dM_dv/fits/nref11n_nref10f_DD2175_dMdv_%s_halo_center_b%d.fits'%(obj_tag, b_lim)\n",
    "dMdv_gc = read_dMdv_file(file_gc, b_tag=b_tag)\n",
    "dv_bins = dMdv_gc[0]\n",
    "dMdv_all_gc = dMdv_gc[1]\n",
    "dMdv_cold_gc = dMdv_gc[2]\n",
    "dMdv_vcool_gc = dMdv_gc[3]\n",
    "dMdv_warm_gc = dMdv_gc[4]\n",
    "dMdv_hot_gc = dMdv_gc[5]\n",
    "\n",
    "#### dM/dv from off center ###### \n",
    "dMdv_all_sun = np.zeros((8, dv_bins.size))\n",
    "dMdv_cold_sun = np.zeros(dMdv_all_sun.shape)\n",
    "dMdv_cool_sun = np.zeros(dMdv_all_sun.shape)\n",
    "dMdv_warm_sun = np.zeros(dMdv_all_sun.shape)\n",
    "dMdv_hot_sun = np.zeros(dMdv_all_sun.shape)\n",
    "\n",
    "shifts = ['0', '45', '90', '135', '180', '225', '270', '315']\n",
    "data_dir = 'figs/dM_dv/fits/'\n",
    "for i, ideg in enumerate(shifts): \n",
    "    if i == 0: \n",
    "        file_sun = '%s/nref11n_nref10f_DD2175_dMdv_%s_offcenter_location_b%d.fits'%(data_dir, obj_tag, b_lim)\n",
    "    else: \n",
    "        file_sun = '%s/nref11n_nref10f_DD2175_dMdv_%s_offcenter_location_b%d_%s.fits'%(data_dir, obj_tag, b_lim, ideg)\n",
    "    dMdv_sun = read_dMdv_file(file_sun, b_tag=b_tag)\n",
    "    # dv_bins_sun = dMdv_sun[0]\n",
    "    dMdv_all_sun[i] = dMdv_sun[1]\n",
    "    dMdv_cold_sun[i] = dMdv_sun[2]\n",
    "    dMdv_cool_sun[i] = dMdv_sun[3]\n",
    "    dMdv_warm_sun[i] = dMdv_sun[4]\n",
    "    dMdv_hot_sun[i] = dMdv_sun[5]"
   ]
  },
  {
   "cell_type": "markdown",
   "metadata": {},
   "source": [
    "dMdt from halo center and from off centers "
   ]
  },
  {
   "cell_type": "code",
   "execution_count": 6,
   "metadata": {},
   "outputs": [
    {
     "ename": "KeyError",
     "evalue": "'dMdt_highb (Msun/yr)'",
     "output_type": "error",
     "traceback": [
      "\u001b[0;31m---------------------------------------------------------------------------\u001b[0m",
      "\u001b[0;31mKeyError\u001b[0m                                  Traceback (most recent call last)",
      "\u001b[0;32m<ipython-input-6-97a49fae8214>\u001b[0m in \u001b[0;36m<module>\u001b[0;34m\u001b[0m\n\u001b[1;32m      1\u001b[0m \u001b[0;31m####################### get dM/dt ##########################\u001b[0m\u001b[0;34m\u001b[0m\u001b[0;34m\u001b[0m\u001b[0;34m\u001b[0m\u001b[0m\n\u001b[1;32m      2\u001b[0m \u001b[0mfile_gc\u001b[0m \u001b[0;34m=\u001b[0m \u001b[0;34m'figs/dM_dt/fits/nref11n_nref10f_DD2175_dMdt_%s_halo_center.fits'\u001b[0m\u001b[0;34m%\u001b[0m\u001b[0;34m(\u001b[0m\u001b[0mobj_tag\u001b[0m\u001b[0;34m)\u001b[0m\u001b[0;34m\u001b[0m\u001b[0;34m\u001b[0m\u001b[0m\n\u001b[0;32m----> 3\u001b[0;31m \u001b[0mdMdt_gc\u001b[0m \u001b[0;34m=\u001b[0m \u001b[0mread_dMdt_file\u001b[0m\u001b[0;34m(\u001b[0m\u001b[0mfile_gc\u001b[0m\u001b[0;34m,\u001b[0m \u001b[0mb_tag\u001b[0m\u001b[0;34m=\u001b[0m\u001b[0mb_tag\u001b[0m\u001b[0;34m)\u001b[0m\u001b[0;34m\u001b[0m\u001b[0;34m\u001b[0m\u001b[0m\n\u001b[0m\u001b[1;32m      4\u001b[0m \u001b[0mdv_bins_gc\u001b[0m \u001b[0;34m=\u001b[0m \u001b[0mdMdt_gc\u001b[0m\u001b[0;34m[\u001b[0m\u001b[0;36m0\u001b[0m\u001b[0;34m]\u001b[0m\u001b[0;34m\u001b[0m\u001b[0;34m\u001b[0m\u001b[0m\n\u001b[1;32m      5\u001b[0m \u001b[0mdMdt_all_gc\u001b[0m\u001b[0;34m.\u001b[0m\u001b[0mappend\u001b[0m\u001b[0;34m(\u001b[0m\u001b[0mdMdt_gc\u001b[0m\u001b[0;34m[\u001b[0m\u001b[0;36m1\u001b[0m\u001b[0;34m]\u001b[0m\u001b[0;34m)\u001b[0m\u001b[0;34m\u001b[0m\u001b[0;34m\u001b[0m\u001b[0m\n",
      "\u001b[0;32m<ipython-input-2-d5dd244c06ed>\u001b[0m in \u001b[0;36mread_dMdt_file\u001b[0;34m(filename, b_tag)\u001b[0m\n\u001b[1;32m     62\u001b[0m     \u001b[0mdata\u001b[0m \u001b[0;34m=\u001b[0m \u001b[0mTable\u001b[0m\u001b[0;34m.\u001b[0m\u001b[0mread\u001b[0m\u001b[0;34m(\u001b[0m\u001b[0mfilename\u001b[0m\u001b[0;34m,\u001b[0m \u001b[0mformat\u001b[0m\u001b[0;34m=\u001b[0m\u001b[0;34m'fits'\u001b[0m\u001b[0;34m)\u001b[0m\u001b[0;34m\u001b[0m\u001b[0;34m\u001b[0m\u001b[0m\n\u001b[1;32m     63\u001b[0m     \u001b[0mdv_bins\u001b[0m \u001b[0;34m=\u001b[0m \u001b[0mdata\u001b[0m\u001b[0;34m[\u001b[0m\u001b[0;34m'v (km/s)'\u001b[0m\u001b[0;34m]\u001b[0m\u001b[0;34m\u001b[0m\u001b[0;34m\u001b[0m\u001b[0m\n\u001b[0;32m---> 64\u001b[0;31m     \u001b[0mdMdt_all\u001b[0m \u001b[0;34m=\u001b[0m \u001b[0mdata\u001b[0m\u001b[0;34m[\u001b[0m\u001b[0;34m'dMdt_%s (Msun/yr)'\u001b[0m\u001b[0;34m%\u001b[0m\u001b[0;34m(\u001b[0m\u001b[0mb_tag\u001b[0m\u001b[0;34m)\u001b[0m\u001b[0;34m]\u001b[0m\u001b[0;34m\u001b[0m\u001b[0;34m\u001b[0m\u001b[0m\n\u001b[0m\u001b[1;32m     65\u001b[0m     \u001b[0mdMdt_cold\u001b[0m \u001b[0;34m=\u001b[0m \u001b[0mdata\u001b[0m\u001b[0;34m[\u001b[0m\u001b[0;34m'dMdt_cold_%s (Msun/yr)'\u001b[0m\u001b[0;34m%\u001b[0m\u001b[0;34m(\u001b[0m\u001b[0mb_tag\u001b[0m\u001b[0;34m)\u001b[0m\u001b[0;34m]\u001b[0m\u001b[0;34m\u001b[0m\u001b[0;34m\u001b[0m\u001b[0m\n\u001b[1;32m     66\u001b[0m     \u001b[0mdMdt_cool\u001b[0m \u001b[0;34m=\u001b[0m \u001b[0mdata\u001b[0m\u001b[0;34m[\u001b[0m\u001b[0;34m'dMdt_cool_%s (Msun/yr)'\u001b[0m\u001b[0;34m%\u001b[0m\u001b[0;34m(\u001b[0m\u001b[0mb_tag\u001b[0m\u001b[0;34m)\u001b[0m\u001b[0;34m]\u001b[0m\u001b[0;34m\u001b[0m\u001b[0;34m\u001b[0m\u001b[0m\n",
      "\u001b[0;32m/anaconda3/lib/python3.6/site-packages/astropy/table/table.py\u001b[0m in \u001b[0;36m__getitem__\u001b[0;34m(self, item)\u001b[0m\n\u001b[1;32m   1223\u001b[0m     \u001b[0;32mdef\u001b[0m \u001b[0m__getitem__\u001b[0m\u001b[0;34m(\u001b[0m\u001b[0mself\u001b[0m\u001b[0;34m,\u001b[0m \u001b[0mitem\u001b[0m\u001b[0;34m)\u001b[0m\u001b[0;34m:\u001b[0m\u001b[0;34m\u001b[0m\u001b[0;34m\u001b[0m\u001b[0m\n\u001b[1;32m   1224\u001b[0m         \u001b[0;32mif\u001b[0m \u001b[0misinstance\u001b[0m\u001b[0;34m(\u001b[0m\u001b[0mitem\u001b[0m\u001b[0;34m,\u001b[0m \u001b[0mstr\u001b[0m\u001b[0;34m)\u001b[0m\u001b[0;34m:\u001b[0m\u001b[0;34m\u001b[0m\u001b[0;34m\u001b[0m\u001b[0m\n\u001b[0;32m-> 1225\u001b[0;31m             \u001b[0;32mreturn\u001b[0m \u001b[0mself\u001b[0m\u001b[0;34m.\u001b[0m\u001b[0mcolumns\u001b[0m\u001b[0;34m[\u001b[0m\u001b[0mitem\u001b[0m\u001b[0;34m]\u001b[0m\u001b[0;34m\u001b[0m\u001b[0;34m\u001b[0m\u001b[0m\n\u001b[0m\u001b[1;32m   1226\u001b[0m         \u001b[0;32melif\u001b[0m \u001b[0misinstance\u001b[0m\u001b[0;34m(\u001b[0m\u001b[0mitem\u001b[0m\u001b[0;34m,\u001b[0m \u001b[0;34m(\u001b[0m\u001b[0mint\u001b[0m\u001b[0;34m,\u001b[0m \u001b[0mnp\u001b[0m\u001b[0;34m.\u001b[0m\u001b[0minteger\u001b[0m\u001b[0;34m)\u001b[0m\u001b[0;34m)\u001b[0m\u001b[0;34m:\u001b[0m\u001b[0;34m\u001b[0m\u001b[0;34m\u001b[0m\u001b[0m\n\u001b[1;32m   1227\u001b[0m             \u001b[0;32mreturn\u001b[0m \u001b[0mself\u001b[0m\u001b[0;34m.\u001b[0m\u001b[0mRow\u001b[0m\u001b[0;34m(\u001b[0m\u001b[0mself\u001b[0m\u001b[0;34m,\u001b[0m \u001b[0mitem\u001b[0m\u001b[0;34m)\u001b[0m\u001b[0;34m\u001b[0m\u001b[0;34m\u001b[0m\u001b[0m\n",
      "\u001b[0;32m/anaconda3/lib/python3.6/site-packages/astropy/table/table.py\u001b[0m in \u001b[0;36m__getitem__\u001b[0;34m(self, item)\u001b[0m\n\u001b[1;32m    105\u001b[0m         \"\"\"\n\u001b[1;32m    106\u001b[0m         \u001b[0;32mif\u001b[0m \u001b[0misinstance\u001b[0m\u001b[0;34m(\u001b[0m\u001b[0mitem\u001b[0m\u001b[0;34m,\u001b[0m \u001b[0mstr\u001b[0m\u001b[0;34m)\u001b[0m\u001b[0;34m:\u001b[0m\u001b[0;34m\u001b[0m\u001b[0;34m\u001b[0m\u001b[0m\n\u001b[0;32m--> 107\u001b[0;31m             \u001b[0;32mreturn\u001b[0m \u001b[0mOrderedDict\u001b[0m\u001b[0;34m.\u001b[0m\u001b[0m__getitem__\u001b[0m\u001b[0;34m(\u001b[0m\u001b[0mself\u001b[0m\u001b[0;34m,\u001b[0m \u001b[0mitem\u001b[0m\u001b[0;34m)\u001b[0m\u001b[0;34m\u001b[0m\u001b[0;34m\u001b[0m\u001b[0m\n\u001b[0m\u001b[1;32m    108\u001b[0m         \u001b[0;32melif\u001b[0m \u001b[0misinstance\u001b[0m\u001b[0;34m(\u001b[0m\u001b[0mitem\u001b[0m\u001b[0;34m,\u001b[0m \u001b[0;34m(\u001b[0m\u001b[0mint\u001b[0m\u001b[0;34m,\u001b[0m \u001b[0mnp\u001b[0m\u001b[0;34m.\u001b[0m\u001b[0minteger\u001b[0m\u001b[0;34m)\u001b[0m\u001b[0;34m)\u001b[0m\u001b[0;34m:\u001b[0m\u001b[0;34m\u001b[0m\u001b[0;34m\u001b[0m\u001b[0m\n\u001b[1;32m    109\u001b[0m             \u001b[0;32mreturn\u001b[0m \u001b[0mself\u001b[0m\u001b[0;34m.\u001b[0m\u001b[0mvalues\u001b[0m\u001b[0;34m(\u001b[0m\u001b[0;34m)\u001b[0m\u001b[0;34m[\u001b[0m\u001b[0mitem\u001b[0m\u001b[0;34m]\u001b[0m\u001b[0;34m\u001b[0m\u001b[0;34m\u001b[0m\u001b[0m\n",
      "\u001b[0;31mKeyError\u001b[0m: 'dMdt_highb (Msun/yr)'"
     ]
    }
   ],
   "source": [
    "####################### get dM/dt ########################## \n",
    "file_gc = 'figs/dM_dt/fits/nref11n_nref10f_DD2175_dMdt_%s_halo_center.fits'%(obj_tag)\n",
    "dMdt_gc = read_dMdt_file(file_gc, b_tag=b_tag)\n",
    "dv_bins = dMdt_gc[0]\n",
    "dMdt_all_gc = dMdt_gc[1]\n",
    "dMdt_cold_gc = dMdt_gc[2]\n",
    "dMdt_cool_gc = dMdt_gc[3]\n",
    "dMdt_warm_gc = dMdt_gc[4]\n",
    "dMdt_hot_gc = dMdt_gc[5]\n",
    "\n",
    "##### get dM/dt wrt to observer ##### \n",
    "dMdt_all_sun = np.zeros((8, dv_bins.size))\n",
    "dMdt_cold_sun = np.zeros(dMdt_all_sun.shape)\n",
    "dMdt_cool_sun = np.zeros(dMdt_all_sun.shape)\n",
    "dMdt_warm_sun = np.zeros(dMdt_all_sun.shape)\n",
    "dMdt_hot_sun = np.zeros(dMdt_all_sun.shape)\n",
    "\n",
    "shifts = ['0', '45', '90', '135', '180', '225', '270', '315']\n",
    "data_dir = 'figs/dM_dt/fits'\n",
    "for i, ideg in enumerate(shifts): \n",
    "    if i == 0: \n",
    "        file_sun = '%s/nref11n_nref10f_DD2175_dMdt_%s_offcenter_location.fits'%(data_dir, obj_tag)\n",
    "    else: \n",
    "        file_sun = '%s/nref11n_nref10f_DD2175_dMdt_%s_offcenter_location_%s.fits'%(data_dir, obj_tag, ideg)\n",
    "    dMdt_sun = read_dMdt_file(file_sun, b_tag=b_tag)\n",
    "    # dv_bins_sun = dMdt_sun[0]\n",
    "    dMdt_all_sun[i] = dMdt_sun[1]\n",
    "    dMdt_cold_sun[i] = dMdt_sun[2]\n",
    "    dMdt_cool_sun[i] = dMdt_sun[3]\n",
    "    dMdt_warm_sun[i] = dMdt_sun[4]\n",
    "    dMdt_hot_sun[i] = dMdt_sun[5]"
   ]
  },
  {
   "cell_type": "markdown",
   "metadata": {},
   "source": [
    "Calculate the flux rate dM/dt for low/high velocity inflowing and outflowing gases "
   ]
  },
  {
   "cell_type": "code",
   "execution_count": 17,
   "metadata": {},
   "outputs": [
    {
     "ename": "NameError",
     "evalue": "name 'dM_all_sun' is not defined",
     "output_type": "error",
     "traceback": [
      "\u001b[0;31m---------------------------------------------------------------------------\u001b[0m",
      "\u001b[0;31mNameError\u001b[0m                                 Traceback (most recent call last)",
      "\u001b[0;32m<ipython-input-17-2e3d15b7478e>\u001b[0m in \u001b[0;36m<module>\u001b[0;34m\u001b[0m\n\u001b[1;32m      1\u001b[0m \u001b[0;32mfor\u001b[0m \u001b[0mi\u001b[0m\u001b[0;34m,\u001b[0m \u001b[0mphase_tag\u001b[0m \u001b[0;32min\u001b[0m \u001b[0menumerate\u001b[0m\u001b[0;34m(\u001b[0m\u001b[0;34m[\u001b[0m\u001b[0;34m'all'\u001b[0m\u001b[0;34m,\u001b[0m \u001b[0;34m'cold'\u001b[0m\u001b[0;34m,\u001b[0m \u001b[0;34m'cool'\u001b[0m\u001b[0;34m,\u001b[0m \u001b[0;34m'warm'\u001b[0m\u001b[0;34m,\u001b[0m \u001b[0;34m'hot'\u001b[0m\u001b[0;34m]\u001b[0m\u001b[0;34m)\u001b[0m\u001b[0;34m:\u001b[0m\u001b[0;34m\u001b[0m\u001b[0;34m\u001b[0m\u001b[0m\n\u001b[1;32m      2\u001b[0m     \u001b[0;31m# color, dMdv_sun, dMdv_gc, dMdt_sun, dMdt_gc\u001b[0m\u001b[0;34m\u001b[0m\u001b[0;34m\u001b[0m\u001b[0;34m\u001b[0m\u001b[0m\n\u001b[0;32m----> 3\u001b[0;31m     \u001b[0mthis_phase\u001b[0m \u001b[0;34m=\u001b[0m \u001b[0mwhich_phase_to_plot\u001b[0m\u001b[0;34m(\u001b[0m\u001b[0mtag\u001b[0m\u001b[0;34m=\u001b[0m\u001b[0mphase_tag\u001b[0m\u001b[0;34m)\u001b[0m\u001b[0;34m\u001b[0m\u001b[0;34m\u001b[0m\u001b[0m\n\u001b[0m\u001b[1;32m      4\u001b[0m     \u001b[0mdMdt_sun\u001b[0m \u001b[0;34m=\u001b[0m \u001b[0mthis_phase\u001b[0m\u001b[0;34m[\u001b[0m\u001b[0;36m3\u001b[0m\u001b[0;34m]\u001b[0m\u001b[0;34m\u001b[0m\u001b[0;34m\u001b[0m\u001b[0m\n\u001b[1;32m      5\u001b[0m     \u001b[0mdMdt_gc\u001b[0m \u001b[0;34m=\u001b[0m \u001b[0mthis_phase\u001b[0m\u001b[0;34m[\u001b[0m\u001b[0;36m4\u001b[0m\u001b[0;34m]\u001b[0m\u001b[0;34m\u001b[0m\u001b[0;34m\u001b[0m\u001b[0m\n",
      "\u001b[0;32m<ipython-input-2-d5dd244c06ed>\u001b[0m in \u001b[0;36mwhich_phase_to_plot\u001b[0;34m(tag)\u001b[0m\n\u001b[1;32m      3\u001b[0m     \u001b[0;32mif\u001b[0m \u001b[0mtag\u001b[0m \u001b[0;34m==\u001b[0m \u001b[0;34m'all'\u001b[0m\u001b[0;34m:\u001b[0m\u001b[0;34m\u001b[0m\u001b[0;34m\u001b[0m\u001b[0m\n\u001b[1;32m      4\u001b[0m         \u001b[0mcolor\u001b[0m \u001b[0;34m=\u001b[0m \u001b[0;34m'k'\u001b[0m\u001b[0;34m\u001b[0m\u001b[0;34m\u001b[0m\u001b[0m\n\u001b[0;32m----> 5\u001b[0;31m         \u001b[0mdMdv_sun\u001b[0m \u001b[0;34m=\u001b[0m \u001b[0mdM_all_sun\u001b[0m\u001b[0;34m\u001b[0m\u001b[0;34m\u001b[0m\u001b[0m\n\u001b[0m\u001b[1;32m      6\u001b[0m         \u001b[0mdMdv_gc\u001b[0m \u001b[0;34m=\u001b[0m \u001b[0mdM_all_gc\u001b[0m\u001b[0;34m\u001b[0m\u001b[0;34m\u001b[0m\u001b[0m\n\u001b[1;32m      7\u001b[0m         \u001b[0mdMdt_sun\u001b[0m \u001b[0;34m=\u001b[0m \u001b[0mdMdt_all_sun\u001b[0m\u001b[0;34m\u001b[0m\u001b[0;34m\u001b[0m\u001b[0m\n",
      "\u001b[0;31mNameError\u001b[0m: name 'dM_all_sun' is not defined"
     ]
    }
   ],
   "source": [
    "for i, phase_tag in enumerate(['all', 'cold', 'cool', 'warm', 'hot']): \n",
    "    # color, dMdv_sun, dMdv_gc, dMdt_sun, dMdt_gc \n",
    "    this_phase = which_phase_to_plot(tag=phase_tag)\n",
    "    dMdt_sun = this_phase[3]\n",
    "    dMdt_gc = this_phase[4]\n",
    "    vel = dv_bins\n",
    "    \n",
    "    ############################################################################ \n",
    "    dMdt_sun_mean = np.mean(dMdt_sun, axis=0)\n",
    "    dMdt_sun_min = np.min(dMdt_sun, axis=0)\n",
    "    dMdt_sun_max = np.max(dMdt_sun, axis=0)\n",
    "    \n",
    "    in_high = vel<-100\n",
    "    in_low = np.all([vel>=-100, vel<=0], axis=0)\n",
    "    out_high = vel>100 \n",
    "    out_low = np.all([vel>0, vel<=100], axis=0)\n",
    "\n",
    "    f_in_high = dMdt_sun_mean[in_high].sum()\n",
    "    f_in_low = dMdt_sun_mean[in_low].sum()\n",
    "    f_out_high = dMdt_sun_mean[out_high].sum()\n",
    "    f_out_low = dMdt_sun_mean[out_low].sum()\n",
    "    \n",
    "    print('dM/dt', phase_tag)\n",
    "    print('in_high: %.2f, in_low: %.2f, out_high: %.2f, out_low: %.2f'%(f_in_high, f_in_low, f_out_high, f_out_low))"
   ]
  },
  {
   "cell_type": "markdown",
   "metadata": {},
   "source": [
    "plot the dMdv and dMdt for different phases together "
   ]
  },
  {
   "cell_type": "code",
   "execution_count": 13,
   "metadata": {},
   "outputs": [
    {
     "data": {
      "image/png": "[encoded data removed]",
      "text/plain": [
       "<Figure size 720x324 with 10 Axes>"
      ]
     },
     "metadata": {
      "needs_background": "light"
     },
     "output_type": "display_data"
    }
   ],
   "source": [
    "fig = plt.figure(figsize=(10, 4.5))\n",
    "width = 0.17\n",
    "gap = 0.01\n",
    "\n",
    "for i, phase_tag in enumerate(['all', 'cold', 'cool', 'warm', 'hot']): \n",
    "    ##### get data #### \n",
    "    # now decide which phase to plot things on ### \n",
    "    # phase_tag = 'cold'\n",
    "    this_phase = which_phase_to_plot(tag=phase_tag)\n",
    "    color = this_phase[0]\n",
    "    dMdv_sun = this_phase[1]\n",
    "    dMdv_gc = this_phase[2]\n",
    "    dMdt_sun = this_phase[3]\n",
    "    dMdt_gc = this_phase[4]\n",
    "    vel = dv_bins\n",
    "\n",
    "    # find the range of the variation and the median value of the total eight location \n",
    "    dMdv_sun_mean = np.mean(dMdv_sun, axis=0)\n",
    "    dMdv_sun_min = np.min(dMdv_sun, axis=0)\n",
    "    dMdv_sun_max = np.max(dMdv_sun, axis=0)\n",
    "    \n",
    "    ############################################################################ \n",
    "    dMdt_sun_mean = np.mean(dMdt_sun, axis=0)\n",
    "    dMdt_sun_min = np.min(dMdt_sun, axis=0)\n",
    "    dMdt_sun_max = np.max(dMdt_sun, axis=0)\n",
    "    \n",
    "    ###################################################################\n",
    "    #ax1 = fig.add_axes([0.08+width*i, 0.5, width, 0.45])\n",
    "    #ax2 = fig.add_axes([0.08+width*i, 0.1, width, 0.38])\n",
    "    ax1 = fig.add_axes([0.09+i*(width+gap), 0.46, width, 0.48])\n",
    "    ax2 = fig.add_axes([0.09+i*(width+gap), 0.13, width, 0.30])\n",
    "    # fig_tag = all_tags[i]\n",
    "    \n",
    "    ### plot \n",
    "    ax1.step(vel, dMdv_gc, color=color, linestyle=gc_ls, linewidth=gc_lw, label='GFR')\n",
    "    ax1.step(vel, dMdv_sun_mean, color=color, linestyle=sun_ls, linewidth=sun_lw, label='LSR')\n",
    "    ax1.fill_between(vel, dMdv_sun_min, dMdv_sun_max, step=\"pre\", alpha=0.5, color=color)\n",
    "\n",
    "    ax1.set_yscale('log')\n",
    "    ax1.set_xlim(vmin, vmax)\n",
    "    ax1.set_xticklabels([])\n",
    "    ax1.set_ylim(ymin1, ymax1)\n",
    "    ax1.minorticks_on()\n",
    "    if i == 0: \n",
    "        ax1.legend(fontsize=fs-2, loc='lower right')\n",
    "    ax1.fill_between([-100, 100], ymin1, ymax1, color=plt.cm.Greys(0.6), alpha=0.4)\n",
    "    # ax1.text(200, 1e8, fig_tag, fontsize=fs-2)\n",
    "    ax1.set_title(r'%s CGM'%(phase_tag), fontsize=fs)\n",
    "\n",
    "    # for the infall rate test \n",
    "    ax2.step(vel, dMdt_gc, color=color, linestyle=gc_ls, linewidth=gc_lw, label='wrt gc')\n",
    "    ax2.step(vel, dMdt_sun_mean, color=color, linestyle=sun_ls, linewidth=sun_lw, label='wrt sun')\n",
    "    ax2.fill_between(vel, dMdt_sun_min, dMdt_sun_max, color=color, linestyle=sun_ls, step=\"pre\", alpha=0.5)\n",
    "    # ax2.legend(fontsize=fs-2, loc='upper right')\n",
    "\n",
    "    ax2.set_ylim(ymin2, ymax2)\n",
    "    ax2.set_yscale('log')\n",
    "    ax2.set_xlabel(r'Velocity (km s$^{-1}$)', fontsize=fs)\n",
    "    ax2.fill_between([-100, 100], ymin2, ymax2, color=plt.cm.Greys(0.6), alpha=0.4)\n",
    "    \n",
    "    for ax in [ax1, ax2]: \n",
    "        ax.minorticks_on()\n",
    "        ax.set_xlim(vmin, vmax)\n",
    "        ax.grid(linestyle=':', alpha=0.7, color=plt.cm.Greys(0.8))\n",
    "        ax.set_xticks([-200, 0, 200])\n",
    "        for tick in ax.xaxis.get_major_ticks(): \n",
    "            tick.label.set_fontsize(fs)\n",
    "        for tick in ax.yaxis.get_major_ticks():\n",
    "            tick.label.set_fontsize(fs)\n",
    "        \n",
    "    # only need this for the first column \n",
    "    if phase_tag == 'all': \n",
    "        ax1.set_ylabel(r'dM/dv  [M$_\\odot$/(km s$^{-1}$)]', fontsize=fs)\n",
    "        ax2.set_ylabel(r'$\\dot{M}$ (M$_\\odot$ yr$^{-1}$)', fontsize=fs)\n",
    "    else: \n",
    "        ax1.set_yticklabels([])\n",
    "        ax2.set_yticklabels([])\n",
    "\n",
    "# fig.savefig('figs/dM_dt/nref11n_nref10f_DD2175_dMdv_dMdt_%s_allphases_%s.pdf'%(obj_tag, b_tag))\n",
    "# fig.savefig('/Users/Yong/Desktop/save.pdf')"
   ]
  },
  {
   "cell_type": "markdown",
   "metadata": {},
   "source": [
    "Only plot the dMdv for different phases "
   ]
  },
  {
   "cell_type": "code",
   "execution_count": 35,
   "metadata": {},
   "outputs": [
    {
     "data": {
      "image/png": "[encoded data removed]",
      "text/plain": [
       "<Figure size 720x216 with 5 Axes>"
      ]
     },
     "metadata": {
      "needs_background": "light"
     },
     "output_type": "display_data"
    }
   ],
   "source": [
    "fig = plt.figure(figsize=(10, 3.))\n",
    "width = 0.17\n",
    "gap = 0.015\n",
    "\n",
    "for i, phase_tag in enumerate(['all', 'cold', 'cool', 'warm', 'hot']): \n",
    "    ##### get data #### \n",
    "    # now decide which phase to plot things on ### \n",
    "    # phase_tag = 'cold'\n",
    "    this_phase = which_phase_to_plot(tag=phase_tag)\n",
    "    color = this_phase[0]\n",
    "    dMdv_sun = this_phase[1]\n",
    "    dMdv_gc = this_phase[2]\n",
    "    dMdt_sun = this_phase[3]\n",
    "    dMdt_gc = this_phase[4]\n",
    "    vel = dv_bins\n",
    "\n",
    "    # find the range of the variation and the median value of the total eight location \n",
    "    dMdv_sun_mean = np.mean(dMdv_sun, axis=0)\n",
    "    dMdv_sun_min = np.min(dMdv_sun, axis=0)\n",
    "    dMdv_sun_max = np.max(dMdv_sun, axis=0)\n",
    "    \n",
    "    ###################################################################\n",
    "    #ax1 = fig.add_axes([0.08+width*i, 0.5, width, 0.45])\n",
    "    #ax2 = fig.add_axes([0.08+width*i, 0.1, width, 0.38])\n",
    "    ax1 = fig.add_axes([0.07+i*(width+gap), 0.2, width, 0.7])\n",
    "    # fig_tag = all_tags[i]\n",
    "    \n",
    "    ### plot \n",
    "    ax1.step(vel, dMdv_gc, color=color, linestyle=gc_ls, linewidth=gc_lw, label='GRF')\n",
    "    ax1.step(vel, dMdv_sun_mean, color=color, linestyle=sun_ls, linewidth=sun_lw, label='LSR')\n",
    "    ax1.fill_between(vel, dMdv_sun_min, dMdv_sun_max, step=\"pre\", alpha=0.5, color=color)\n",
    "\n",
    "    ax1.set_yscale('log')\n",
    "    ax1.set_xlim(vmin, vmax)\n",
    "    ax1.set_ylim(ymin1, ymax1)\n",
    "    ax1.minorticks_on()\n",
    "    if i == 0: \n",
    "        ax1.legend(fontsize=fs-2, loc='lower right')\n",
    "    ax1.fill_between([-100, 100], ymin1, ymax1, color=plt.cm.Greys(0.6), alpha=0.4)\n",
    "    ax1.set_title(r'%s CGM'%(phase_tag), fontsize=fs)\n",
    "\n",
    "    ax1.minorticks_on()\n",
    "    ax1.set_xlim(vmin, vmax)\n",
    "    ax1.grid(linestyle=':', alpha=0.7, color=plt.cm.Greys(0.8))\n",
    "    ax1.set_xticks([-200, 0, 200])\n",
    "    for tick in ax1.xaxis.get_major_ticks(): \n",
    "        tick.label.set_fontsize(fs)\n",
    "    for tick in ax1.yaxis.get_major_ticks():\n",
    "        tick.label.set_fontsize(fs)\n",
    "    ax1.set_xlabel(r'Velocity (km s$^{-1}$)', fontsize=fs)\n",
    "    \n",
    "    ax1.tick_params(direction='in', which='both') \n",
    "        \n",
    "    # only need this for the first column \n",
    "    if phase_tag == 'all': \n",
    "        ax1.set_ylabel(r'dM/dv  [M$_\\odot$/(km s$^{-1}$)]', fontsize=fs)\n",
    "    else: \n",
    "        ax1.set_yticklabels([])\n",
    "\n",
    "# fig.savefig('figs/dM_dt/nref11n_nref10f_DD2175_dMdv_%s_allphases_%s.pdf'%(obj_tag, b_tag))\n",
    "# fig.savefig('/Users/Yong/Desktop/save.pdf')"
   ]
  },
  {
   "cell_type": "markdown",
   "metadata": {},
   "source": [
    "### II: Find masses at the high velocity regimes, and here high-velocity is defined as |vlsr|>100 km/s"
   ]
  },
  {
   "cell_type": "code",
   "execution_count": 15,
   "metadata": {},
   "outputs": [],
   "source": [
    "from astropy.table import Table \n",
    "import numpy as np\n",
    "\n",
    "sim_name = 'nref11n_nref10f'\n",
    "dd_name = 'DD2175'\n",
    "obj_tag = 'cgm-rvir'# 'cgm-rvir'# 'cgm-15kpc'"
   ]
  },
  {
   "cell_type": "code",
   "execution_count": 16,
   "metadata": {},
   "outputs": [
    {
     "name": "stdout",
     "output_type": "stream",
     "text": [
      "cold, cool, warm, hot HVC: 1.2e+09, 1.2e+09, 2.1e+09, 7.1e+07\n",
      "cold, cool, warm, hot LVC: 3.5e+09, 9.0e+08, 2.4e+09, 5.4e+07\n",
      "high/all frac: 0.25, 0.56, 0.46, 0.57, 0.39\n",
      "\n",
      "cold, cool, warm, hot HVC: 1.5e+07, 9.8e+08, 1.9e+09, 7.9e+07\n",
      "cold, cool, warm, hot LVC: 4.7e+09, 1.1e+09, 2.6e+09, 4.6e+07\n",
      "high/all frac: 0.00, 0.48, 0.42, 0.63, 0.26\n",
      "\n",
      "cold, cool, warm, hot HVC: 2.4e+07, 1.2e+09, 1.4e+09, 6.7e+07\n",
      "cold, cool, warm, hot LVC: 4.7e+09, 8.8e+08, 3.1e+09, 5.8e+07\n",
      "high/all frac: 0.01, 0.57, 0.32, 0.54, 0.24\n",
      "\n",
      "cold, cool, warm, hot HVC: 1.2e+09, 1.2e+09, 2.2e+09, 8.9e+07\n",
      "cold, cool, warm, hot LVC: 3.5e+09, 8.3e+08, 2.3e+09, 3.7e+07\n",
      "high/all frac: 0.25, 0.60, 0.48, 0.71, 0.41\n",
      "\n",
      "cold, cool, warm, hot HVC: 1.9e+08, 1.4e+09, 2.0e+09, 7.7e+07\n",
      "cold, cool, warm, hot LVC: 4.5e+09, 7.0e+08, 2.5e+09, 4.8e+07\n",
      "high/all frac: 0.04, 0.66, 0.44, 0.62, 0.31\n",
      "\n",
      "cold, cool, warm, hot HVC: 4.7e+08, 1.2e+09, 2.4e+09, 7.1e+07\n",
      "cold, cool, warm, hot LVC: 4.2e+09, 8.6e+08, 2.1e+09, 5.4e+07\n",
      "high/all frac: 0.10, 0.58, 0.54, 0.57, 0.37\n",
      "\n",
      "cold, cool, warm, hot HVC: 2.0e+09, 1.3e+09, 2.6e+09, 7.3e+07\n",
      "cold, cool, warm, hot LVC: 2.7e+09, 7.3e+08, 1.9e+09, 5.2e+07\n",
      "high/all frac: 0.42, 0.64, 0.58, 0.58, 0.53\n",
      "\n",
      "cold, cool, warm, hot HVC: 8.0e+08, 1.2e+09, 2.1e+09, 6.8e+07\n",
      "cold, cool, warm, hot LVC: 3.9e+09, 8.2e+08, 2.4e+09, 5.7e+07\n",
      "high/all frac: 0.17, 0.60, 0.47, 0.54, 0.37\n",
      "\n"
     ]
    }
   ],
   "source": [
    "for i in range(8): \n",
    "    if i == 0:\n",
    "        # get dM/dv wrt to observer \n",
    "        file_sun = 'figs/dM_dv/fits/nref11n_nref10f_DD2175_dMdv_%s_offcenter_location.fits'%(obj_tag)\n",
    "    else: \n",
    "        file_sun = 'figs/dM_dv/fits/nref11n_nref10f_DD2175_dMdv_%s_offcenter_location_%d.fits'%(obj_tag, i*45)\n",
    "    data_sun = Table.read(file_sun, format='fits')\n",
    "    dv_bins_sun = data_sun['v (km/s)']\n",
    "    dM_all_sun = data_sun['dM (Msun/km/s)']\n",
    "    dM_cold_sun = data_sun['dM_cold (Msun/km/s)']\n",
    "    dM_cool_sun = data_sun['dM_cool (Msun/km/s)']\n",
    "    dM_warm_sun = data_sun['dM_warm (Msun/km/s)']\n",
    "    dM_hot_sun = data_sun['dM_hot (Msun/km/s)']\n",
    "\n",
    "    # cold, cool, warm, hot gas components at the high-velocity ranges \n",
    "    ind_high = np.any([dv_bins_sun<=-100, dv_bins_sun>=100], axis=0)\n",
    "    cold_high_mass = (dM_cold_sun[ind_high]*20).sum()\n",
    "    cool_high_mass = (dM_cool_sun[ind_high]*20).sum()\n",
    "    warm_high_mass = (dM_warm_sun[ind_high]*20).sum()\n",
    "    hot_high_mass = (dM_hot_sun[ind_high]*20).sum()\n",
    "\n",
    "    # cold, cool, warm, hot gas at the low-velocity ranges \n",
    "    ind_low = np.all([dv_bins_sun>-100, dv_bins_sun<100], axis=0)\n",
    "    cold_low_mass = (dM_cold_sun[ind_low]*20).sum()\n",
    "    cool_low_mass = (dM_cool_sun[ind_low]*20).sum()\n",
    "    warm_low_mass = (dM_warm_sun[ind_low]*20).sum()\n",
    "    hot_low_mass = (dM_hot_sun[ind_low]*20).sum()\n",
    "\n",
    "    cold_all_mass = (dM_cold_sun*20).sum()\n",
    "    cool_all_mass = (dM_cool_sun*20).sum()\n",
    "    warm_all_mass = (dM_warm_sun*20).sum()\n",
    "    hot_all_mass = (dM_hot_sun*20).sum()\n",
    "    \n",
    "    all_high_mass = cold_high_mass + cool_high_mass + warm_high_mass + hot_high_mass\n",
    "    all_all_mass = (dM_all_sun*20).sum()\n",
    "\n",
    "    print('cold, cool, warm, hot HVC: %.1e, %.1e, %.1e, %.1e'%(cold_high_mass, cool_high_mass, \n",
    "                                                               warm_high_mass, hot_high_mass))\n",
    "    print('cold, cool, warm, hot LVC: %.1e, %.1e, %.1e, %.1e'%(cold_low_mass, cool_low_mass, \n",
    "                                                               warm_low_mass, hot_low_mass))\n",
    "    print('high/all frac: %.2f, %.2f, %.2f, %.2f, %.2f\\n'%(cold_high_mass/cold_all_mass, \n",
    "                                                         cool_high_mass/cool_all_mass, \n",
    "                                                         warm_high_mass/warm_all_mass, \n",
    "                                                         hot_high_mass/hot_all_mass, \n",
    "                                                         all_high_mass/all_all_mass))"
   ]
  },
  {
   "cell_type": "code",
   "execution_count": 3,
   "metadata": {},
   "outputs": [],
   "source": [
    "cold_hvc_frac = [0.25, 0, 0.01, 0.25, 0.04, 0.10, 0.42, 0.17]\n",
    "cool_hvc_frac = [0.56, 0.48, 0.57, 0.60, 0.66, 0.58, 0.64, 0.60]\n",
    "warm_hvc_frac = [0.46, 0.42, 0.32, 0.48, 0.44, 0.54, 0.58, 0.47]\n",
    "hot_hvc_frac = [0.57, 0.63, 0.54, 0.71, 0.62, 0.57, 0.58, 0.54]\n",
    "all_hvc_frac = [0.39, 0.26, 0.24, 0.41, 0.31, 0.37, 0.53, 0.37]"
   ]
  },
  {
   "cell_type": "code",
   "execution_count": 4,
   "metadata": {},
   "outputs": [
    {
     "data": {
      "text/plain": [
       "(0.155, 0.5862499999999999, 0.46375, 0.595, 0.36)"
      ]
     },
     "execution_count": 4,
     "metadata": {},
     "output_type": "execute_result"
    }
   ],
   "source": [
    "np.mean(cold_hvc_frac), np.mean(cool_hvc_frac), np.mean(warm_hvc_frac), np.mean(hot_hvc_frac), np.mean(all_hvc_frac)"
   ]
  },
  {
   "cell_type": "markdown",
   "metadata": {},
   "source": [
    "### III: calculate the mass flux rate dMdt for gas in different phases, and averaged over 8 locations "
   ]
  },
  {
   "cell_type": "code",
   "execution_count": 40,
   "metadata": {},
   "outputs": [],
   "source": [
    "sim_name = 'nref11n_nref10f'\n",
    "dd_name = 'DD2175'\n",
    "obj_tag = 'cgm-15kpc' # 'cgm-15kpc'# 'cgm-rvir'"
   ]
  },
  {
   "cell_type": "code",
   "execution_count": 41,
   "metadata": {},
   "outputs": [],
   "source": [
    "## for gc values \n",
    "file_gc = 'figs/dM_dt/fits/nref11n_nref10f_DD2175_dMdt_%s_halo_center.fits'%(obj_tag)\n",
    "vel, dMdt_all_gc, dMdt_cold_gc, dMdt_cool_gc, dMdt_warm_gc, dMdt_hot_gc = read_dMdt_file(file_gc)\n",
    "\n",
    "# first, do inflow velocity rate \n",
    "indv_in = vel < 0\n",
    "cold_in_gc = -dMdt_cold_gc[indv_in].sum()\n",
    "cool_in_gc = -dMdt_cool_gc[indv_in].sum()\n",
    "warm_in_gc = -dMdt_warm_gc[indv_in].sum()\n",
    "hot_in_gc = -dMdt_hot_gc[indv_in].sum()\n",
    "\n",
    "# then do outflow velocity rate \n",
    "indv_out = vel>0 \n",
    "cold_out_gc = dMdt_cold_gc[indv_out].sum()\n",
    "cool_out_gc = dMdt_cool_gc[indv_out].sum()\n",
    "warm_out_gc = dMdt_warm_gc[indv_out].sum()\n",
    "hot_out_gc = dMdt_hot_gc[indv_out].sum()"
   ]
  },
  {
   "cell_type": "code",
   "execution_count": 42,
   "metadata": {},
   "outputs": [],
   "source": [
    "## for value wrt sun \n",
    "cold_in_sun, cool_in_sun, warm_in_sun, hot_in_sun = [], [], [], []\n",
    "cold_out_sun, cool_out_sun, warm_out_sun, hot_out_sun = [], [], [], []\n",
    "\n",
    "for i in range(8): \n",
    "    # get dM/dt, wrt gc \n",
    "    if i == 0: \n",
    "        file_sun = 'figs/dM_dt/fits/nref11n_nref10f_DD2175_dMdt_%s_offcenter_location.fits'%(obj_tag)\n",
    "    else: \n",
    "        file_sun = 'figs/dM_dt/fits/nref11n_nref10f_DD2175_dMdt_%s_offcenter_location_%d.fits'%(obj_tag, i*45)\n",
    "        \n",
    "    vel, dMdt_all_sun, dMdt_cold_sun, dMdt_cool_sun, dMdt_warm_sun, dMdt_hot_sun = read_dMdt_file(file_sun)\n",
    "    \n",
    "    # first, do inflow velocity rate \n",
    "    indv_in = vel < 0\n",
    "    cold_in_sun.append(-dMdt_cold_sun[indv_in].sum())\n",
    "    cool_in_sun.append(-dMdt_cool_sun[indv_in].sum())\n",
    "    warm_in_sun.append(-dMdt_warm_sun[indv_in].sum())\n",
    "    hot_in_sun.append(-dMdt_hot_sun[indv_in].sum())\n",
    "\n",
    "    # then do outflow velocity rate \n",
    "    indv_out = vel>0 \n",
    "    cold_out_sun.append(dMdt_cold_sun[indv_out].sum())\n",
    "    cool_out_sun.append(dMdt_cool_sun[indv_out].sum())\n",
    "    warm_out_sun.append(dMdt_warm_sun[indv_out].sum())\n",
    "    hot_out_sun.append(dMdt_hot_sun[indv_out].sum())"
   ]
  },
  {
   "cell_type": "code",
   "execution_count": 43,
   "metadata": {},
   "outputs": [],
   "source": [
    "from foggie.utils import consistency\n",
    "cmap = consistency.temperature_discrete_cmap\n",
    "c_cold = cmap(0.05)\n",
    "c_cool = cmap(0.25)\n",
    "c_warm = cmap(0.6)\n",
    "c_hot = cmap(0.9)\n",
    "colors=[c_cold, c_cool, c_warm, c_hot]\n",
    "gray = plt.cm.Greys(0.8)"
   ]
  },
  {
   "cell_type": "code",
   "execution_count": 44,
   "metadata": {},
   "outputs": [],
   "source": [
    "gc_color = plt.cm.Greys(0.6)\n",
    "sun_color = plt.cm.Oranges(0.5)\n",
    "fs = 12"
   ]
  },
  {
   "cell_type": "code",
   "execution_count": 45,
   "metadata": {},
   "outputs": [],
   "source": [
    "labels = ['cold', 'cool', 'warm', 'hot']\n",
    "in_gc = [cold_in_gc, cool_in_gc, warm_in_gc, hot_in_gc]\n",
    "in_sun = [np.mean(cold_in_sun), np.mean(cool_in_sun), np.mean(warm_in_sun), np.mean(hot_in_sun)]\n",
    "in_sun_min = [np.min(cold_in_sun), np.min(cool_in_sun), np.min(warm_in_sun), np.min(hot_in_sun)]\n",
    "in_sun_max = [np.max(cold_in_sun), np.max(cool_in_sun), np.max(warm_in_sun), np.max(hot_in_sun)]\n",
    "in_sun_std = [np.std(cold_in_sun), np.std(cool_in_sun), np.std(warm_in_sun), np.std(hot_in_sun)]\n",
    "\n",
    "out_gc = [cold_out_gc, cool_out_gc, warm_out_gc, hot_out_gc]\n",
    "out_sun = [np.mean(cold_out_sun), np.mean(cool_out_sun), np.mean(warm_out_sun), np.mean(hot_out_sun)]\n",
    "out_sun_min = [np.min(cold_out_sun), np.min(cool_out_sun), np.min(warm_out_sun), np.min(hot_out_sun)]\n",
    "out_sun_max = [np.max(cold_out_sun), np.max(cool_out_sun), np.max(warm_out_sun), np.max(hot_out_sun)]\n",
    "out_sun_std = [np.std(cold_out_sun), np.std(cool_out_sun), np.std(warm_out_sun), np.std(hot_out_sun)]"
   ]
  },
  {
   "cell_type": "code",
   "execution_count": 46,
   "metadata": {},
   "outputs": [
    {
     "name": "stdout",
     "output_type": "stream",
     "text": [
      "cgm-15kpc\n",
      "cold: -0.03, -0.00, ratio=0.1 (all), 4.9 (in), 10.1 (in)\n",
      "cool: -0.06, -0.05, ratio=0.9 (all), 1.2 (in), 7.6 (in)\n",
      "warm: -0.27, -0.25, ratio=0.9 (all), 0.9 (in), 0.8 (in)\n",
      " hot: -0.01, -0.03, ratio=2.0 (all), 0.9 (in), 0.6 (in)\n"
     ]
    }
   ],
   "source": [
    "print(obj_tag)\n",
    "for i in range(4):\n",
    "    a = in_gc[i]+out_gc[i]\n",
    "    b = in_sun[i]+out_sun[i]\n",
    "    c = b/a\n",
    "    d = in_sun[i]/in_gc[i]\n",
    "    e = out_sun[i]/out_gc[i]\n",
    "    print('%4s: %.2f, %.2f, ratio=%.1f (all), %.1f (in), %.1f (in)'%(labels[i], a, b, c, d, e))"
   ]
  },
  {
   "cell_type": "code",
   "execution_count": 49,
   "metadata": {},
   "outputs": [
    {
     "data": {
      "text/plain": [
       "(-0.061566451101893405, -0.07284871649084987)"
      ]
     },
     "execution_count": 49,
     "metadata": {},
     "output_type": "execute_result"
    }
   ],
   "source": [
    "in_gc[1], in_sun[1]"
   ]
  },
  {
   "cell_type": "code",
   "execution_count": 47,
   "metadata": {},
   "outputs": [
    {
     "name": "stdout",
     "output_type": "stream",
     "text": [
      "cgm-15kpc\n",
      "cold: -0.03, -0.00, ratio=0.1 (all), 4.9 (in), 10.1 (in)\n",
      "cool: -0.06, -0.05, ratio=0.9 (all), 1.2 (in), 7.6 (in)\n",
      "warm: -0.27, -0.25, ratio=0.9 (all), 0.9 (in), 0.8 (in)\n",
      " hot: -0.01, -0.03, ratio=2.0 (all), 0.9 (in), 0.6 (in)\n"
     ]
    }
   ],
   "source": [
    "print(obj_tag)\n",
    "for i in range(4):\n",
    "    a = in_gc[i]+out_gc[i]\n",
    "    b = in_sun[i]+out_sun[i]\n",
    "    c = b/a\n",
    "    d = in_sun[i]/in_gc[i]\n",
    "    e = out_sun[i]/out_gc[i]\n",
    "    print('%4s: %.2f, %.2f, ratio=%.1f (all), %.1f (in), %.1f (in)'%(labels[i], a, b, c, d, e))"
   ]
  },
  {
   "cell_type": "code",
   "execution_count": null,
   "metadata": {},
   "outputs": [],
   "source": [
    "print(obj_tag)\n",
    "for i in range(4):\n",
    "    a = in_sun[i]/in_gc[i]\n",
    "    b = out_sun[i]/\n",
    "    print('%4s: %.2f, %.2f, ratio=%.1f'%(labels[i], a, b, c))"
   ]
  },
  {
   "cell_type": "code",
   "execution_count": 29,
   "metadata": {},
   "outputs": [
    {
     "data": {
      "image/png": "[encoded data removed]",
      "text/plain": [
       "<Figure size 288x194.4 with 1 Axes>"
      ]
     },
     "metadata": {
      "needs_background": "light"
     },
     "output_type": "display_data"
    }
   ],
   "source": [
    "x = np.arange(len(labels))  # the label locations\n",
    "width = 0.4  # the width of the bars\n",
    "\n",
    "fig, ax = plt.subplots(figsize=(4, 2.7))\n",
    "barlist1 = ax.bar(x - width/2, in_gc, width, label='GRF', \n",
    "                  color=colors, hatch='//', edgecolor=gray)\n",
    "barlist2 = ax.bar(x - width/2, out_gc, width, label=None, \n",
    "                  color=colors, hatch='//', edgecolor=gray)\n",
    "\n",
    "barlist3 = ax.bar(x + width/2, in_sun, width, label='LSR', \n",
    "                  color=colors, edgecolor=gray, yerr=in_sun_std, ecolor='black', capsize=5)\n",
    "barlist4 = ax.bar(x + width/2, out_sun, width, label=None, \n",
    "                  color=colors, edgecolor=gray, yerr=out_sun_std, ecolor='black', capsize=5)\n",
    "\n",
    "# Add some text for labels, title and custom x-axis tick labels, etc.\n",
    "ax.set_ylabel(r'$\\dot{M}$ (M$_\\odot$/yr)', fontsize=fs)\n",
    "ax.set_title(obj_tag, fontsize=fs)\n",
    "ax.set_xticks(x)\n",
    "ax.set_xticklabels(labels)\n",
    "ax.legend(fontsize=fs-2)\n",
    "\n",
    "xmin = -0.5\n",
    "xmax = len(labels)-0.5\n",
    "ax.set_xlim(xmin, xmax)\n",
    "# ax.set_yscale('symlog')\n",
    "ax.hlines(0, xmin, xmax, linestyle='-', lw=1)\n",
    "# ax.minorticks_on()\n",
    "for tick in ax.xaxis.get_major_ticks():\n",
    "    tick.label.set_fontsize(fs)\n",
    "for tick in ax.yaxis.get_major_ticks():\n",
    "    tick.label.set_fontsize(fs-2)\n",
    "fig.tight_layout()\n",
    "\n",
    "plt.show()\n",
    "fig.savefig('figs/dM_dt/flux_grf_lsr_hist_%s.pdf'%(obj_tag))"
   ]
  },
  {
   "cell_type": "code",
   "execution_count": null,
   "metadata": {},
   "outputs": [],
   "source": []
  }
 ],
 "metadata": {
  "kernelspec": {
   "display_name": "Python 3",
   "language": "python",
   "name": "python3"
  },
  "language_info": {
   "codemirror_mode": {
    "name": "ipython",
    "version": 3
   },
   "file_extension": ".py",
   "mimetype": "text/x-python",
   "name": "python",
   "nbconvert_exporter": "python",
   "pygments_lexer": "ipython3",
   "version": "3.6.8"
  }
 },
 "nbformat": 4,
 "nbformat_minor": 2
}
