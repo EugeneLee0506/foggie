{
 "cells": [
  {
   "cell_type": "code",
   "execution_count": 12,
   "metadata": {},
   "outputs": [],
   "source": [
    "import numpy as np\n",
    "import sys\n",
    "from astropy.io import fits\n",
    "from astropy.table import Table\n",
    "import matplotlib.pyplot as plt\n",
    "import matplotlib as mpl\n",
    "mpl.rcParams['font.family'] = 'stixgeneral'\n",
    "\n",
    "sim_name = 'nref11n_nref10f'\n",
    "dd_name = 'DD2175'\n",
    "\n",
    "# get dM/dv\n",
    "file_gc = 'figs/dM_dv/fits/nref11n_nref10f_DD2175_dMdv_cgm_halo_center.fits'\n",
    "data_gc = Table.read(file_gc, format='fits')\n",
    "dv_bins_gc = data_gc['v (km/s)']\n",
    "dM_all_gc = data_gc['dM (Msun/km/s)']\n",
    "dM_cold_gc = data_gc['dM_cold (Msun/km/s)']\n",
    "dM_cool_gc = data_gc['dM_cool (Msun/km/s)']\n",
    "dM_warm_gc = data_gc['dM_warm (Msun/km/s)']\n",
    "dM_hot_gc = data_gc['dM_hot (Msun/km/s)']\n",
    "\n",
    "# get dM/dv wrt to observer \n",
    "file_sun = 'figs/dM_dv/fits/nref11n_nref10f_DD2175_dMdv_cgm_offcenter_location.fits'\n",
    "data_sun = Table.read(file_sun, format='fits')\n",
    "dv_bins_sun = data_sun['v (km/s)']\n",
    "dM_all_sun = data_sun['dM (Msun/km/s)']\n",
    "dM_cold_sun = data_sun['dM_cold (Msun/km/s)']\n",
    "dM_cool_sun = data_sun['dM_cool (Msun/km/s)']\n",
    "dM_warm_sun = data_sun['dM_warm (Msun/km/s)']\n",
    "dM_hot_sun = data_sun['dM_hot (Msun/km/s)']\n",
    "\n",
    "# figure out the offset per phase \n",
    "offset_cold = dM_cold_sun - dM_cold_gc\n",
    "offset_cool = dM_cool_sun - dM_cool_gc \n",
    "offset_warm = dM_warm_sun - dM_warm_gc \n",
    "offset_hot = dM_hot_sun - dM_hot_gc"
   ]
  },
  {
   "cell_type": "code",
   "execution_count": 91,
   "metadata": {},
   "outputs": [],
   "source": [
    "fs=14\n",
    "from foggie.utils import consistency\n",
    "cmap = consistency.temperature_discrete_cmap\n",
    "c_all = plt.cm.Greys(0.7)\n",
    "c_cold = cmap(0.05)\n",
    "c_cool = cmap(0.25)\n",
    "c_warm = cmap(0.6)\n",
    "c_hot = cmap(0.9)\n",
    "\n",
    "sun_ls = '-'\n",
    "sun_lw = 3\n",
    "\n",
    "gc_ls = '--'\n",
    "gc_lw = 2\n",
    "\n",
    "vmin = -400\n",
    "vmax = 400\n",
    "\n",
    "fs = 14 \n",
    "\n",
    "ymin1 = 2e3\n",
    "ymax1 = 8e8\n",
    "\n",
    "ymin2 = -8e8 \n",
    "ymax2 = 8e8 "
   ]
  },
  {
   "cell_type": "code",
   "execution_count": 123,
   "metadata": {},
   "outputs": [
    {
     "data": {
      "text/plain": [
       "\"\\nvel = dv_bins_sun \\nsun_flux = dM_hot_sun \\ngc_flux = dM_hot_gc \\ncolor = c_hot\\noffset_flux = offset_hot\\ntag = 'hot'\\n\""
      ]
     },
     "execution_count": 123,
     "metadata": {},
     "output_type": "execute_result"
    }
   ],
   "source": [
    "'''\n",
    "vel = dv_bins_sun \n",
    "sun_flux = dM_cold_sun \n",
    "gc_flux = dM_cold_gc \n",
    "color = c_cold \n",
    "offset_flux = offset_cold\n",
    "tag = 'cold'\n",
    "'''\n",
    "\n",
    "'''\n",
    "vel = dv_bins_sun \n",
    "sun_flux = dM_cool_sun \n",
    "gc_flux = dM_cool_gc \n",
    "color = c_cool \n",
    "offset_flux = offset_cool\n",
    "tag = 'cool'\n",
    "'''\n",
    "\n",
    "vel = dv_bins_sun \n",
    "sun_flux = dM_warm_sun \n",
    "gc_flux = dM_warm_gc \n",
    "color = c_warm \n",
    "offset_flux = offset_warm\n",
    "tag = 'warm'\n",
    "\n",
    "'''\n",
    "vel = dv_bins_sun \n",
    "sun_flux = dM_hot_sun \n",
    "gc_flux = dM_hot_gc \n",
    "color = c_hot\n",
    "offset_flux = offset_hot\n",
    "tag = 'hot'\n",
    "'''"
   ]
  },
  {
   "cell_type": "code",
   "execution_count": 124,
   "metadata": {},
   "outputs": [
    {
     "data": {
      "image/png": "[encoded data removed]",
      "text/plain": [
       "<Figure size 288x432 with 2 Axes>"
      ]
     },
     "metadata": {
      "needs_background": "light"
     },
     "output_type": "display_data"
    }
   ],
   "source": [
    "fig = plt.figure(figsize=(4, 6))\n",
    "ax1 = fig.add_axes([0.2, 0.57, 0.7, 0.4])\n",
    "ax2 = fig.add_axes([0.2, 0.12, 0.7, 0.43])\n",
    "\n",
    "ax1.step(vel, sun_flux, color=color, linestyle=sun_ls, linewidth=sun_lw, label='wrt gc')\n",
    "ax1.step(vel, gc_flux, color=color, linestyle=gc_ls, linewidth=gc_lw, label='wrt sun')\n",
    "ax1.set_yscale('log')\n",
    "ax1.set_xlim(vmin, vmax)\n",
    "ax1.set_xticklabels([])\n",
    "ax1.set_ylim(ymin1, ymax1)\n",
    "ax1.minorticks_on()\n",
    "ax1.set_ylabel(r'dM/dv  [M$_\\odot$/(km s$^{-1}$)]', fontsize=fs)\n",
    "ax1.legend(fontsize=fs-2)\n",
    "ax1.fill_between([-100, 100], ymin1, ymax1, color=plt.cm.Greys(0.6), alpha=0.4)\n",
    "\n",
    "ax2.step(vel, offset_flux, color=color)\n",
    "# ax2.set_ylim(ymin, ymax)\n",
    "ax2.set_yscale('symlog')\n",
    "ax2.set_yticks([-1e8, -1e7, -1e6, -1e5, -1e4, -1e3, -1e2, \n",
    "                0, 1e2, 1e3, 1e4, 1e5, 1e6, 1e7, 1e8])\n",
    "ax2.set_yticklabels([r'-10$^8$', '', r'-10$^6$', '', r'-10$^4$', '', r'-10$^2$', 0, \n",
    "                     r'10$^2$', '', r'10$^4$', '', r'10$^6$', '',  r'10$^8$'])\n",
    "ax2.set_ylim(ymin2, ymax2)\n",
    "ax2.set_xlabel(r'Velocity (km s$^{-1}$)', fontsize=fs)\n",
    "ax2.set_ylabel(r'Flux Offset (sun - gc)', fontsize=fs)\n",
    "ax2.fill_between([-100, 100], ymin2, ymax2, color=plt.cm.Greys(0.6), alpha=0.4)\n",
    "\n",
    "for ax in [ax1, ax2]: \n",
    "    ax.minorticks_on()\n",
    "    ax.set_xlim(vmin, vmax)\n",
    "    ax.grid(linestyle=':', alpha=0.7, color=plt.cm.Greys(0.8))\n",
    "    for tick in ax.xaxis.get_major_ticks(): \n",
    "        tick.label.set_fontsize(fs)\n",
    "    for tick in ax.yaxis.get_major_ticks():\n",
    "        tick.label.set_fontsize(fs)\n",
    "        \n",
    "fig.savefig('figs/dM_dv/nref11n_nref10f_DD2175_dMdv_cgm_offset_%s.pdf'%(tag))"
   ]
  },
  {
   "cell_type": "code",
   "execution_count": null,
   "metadata": {},
   "outputs": [],
   "source": []
  }
 ],
 "metadata": {
  "kernelspec": {
   "display_name": "Python 3",
   "language": "python",
   "name": "python3"
  },
  "language_info": {
   "codemirror_mode": {
    "name": "ipython",
    "version": 3
   },
   "file_extension": ".py",
   "mimetype": "text/x-python",
   "name": "python",
   "nbconvert_exporter": "python",
   "pygments_lexer": "ipython3",
   "version": "3.6.8"
  }
 },
 "nbformat": 4,
 "nbformat_minor": 2
}
