{
 "cells": [
  {
   "cell_type": "code",
   "execution_count": 1,
   "metadata": {},
   "outputs": [],
   "source": [
    "def plt_allsky_healpix_img(img, ion_to_proj, xsize, dd_name, zsnap,\n",
    "                           save_to_pdf, plt_coord_labels=False):\n",
    "    \"\"\"\n",
    "    Plot the allsky healpix projection, img is result returned by\n",
    "    healpix_projection(), see how to use in allsky_proj_GCview.py\n",
    "\n",
    "    History:\n",
    "    08/21/2019, YZ, UCB\n",
    "    10/08/2019, YZ, Change the consistency input to match new foggie\n",
    "    \"\"\"\n",
    "\n",
    "    from foggie.utils import consistency # for plotting\n",
    "    import healpy as hp\n",
    "    import numpy as np\n",
    "\n",
    "    field_to_proj = consistency.species_dict[ion_to_proj]\n",
    "    img_cmap = consistency.colormap_dict[field_to_proj]\n",
    "    img_min = 13 # np.log10(consistency.proj_min_dict[field_to_proj])\n",
    "    img_max = 23 # np.log10(consistency.proj_max_dict[field_to_proj])\n",
    "    # img_label = consistency.axes_label_dict[field_to_proj]\n",
    "    img_label = r'log [%s Column Density (cm$^{-2}$)]'%(ion_to_proj)\n",
    "\n",
    "    #img_cmap = consistency.all_ion_cmaps[ion_to_proj]\n",
    "    #img_min = np.log10(consistency.all_ion_cmap_min[ion_to_proj])\n",
    "    #img_max = np.log10(consistency.all_ion_cmap_max[ion_to_proj])\n",
    "    fig = plt.figure(figsize=(8, 4))\n",
    "    hp.mollview(np.log10(img), cbar=None, cmap=img_cmap, xsize=xsize,\n",
    "                min=img_min, max=img_max,\n",
    "                title='%s (z=%.2f)'%(dd_name, zsnap))\n",
    "    gc = plt.cm.Greys(0.8) # gc = gridcolor\n",
    "    hp.graticule(color=gc)\n",
    "    fs = 14\n",
    "\n",
    "    if plt_coord_labels == True:\n",
    "        hp.projtext(270, 2, r'$270\\degree$', lonlat=True, fontsize=fs, color=gc)\n",
    "        hp.projtext(0, 2, r'$0\\degree$', lonlat=True, fontsize=fs, color=gc)\n",
    "        hp.projtext(90, 2, r'$90\\degree$', lonlat=True, fontsize=fs, color=gc)\n",
    "        hp.projtext(30, 32, r'$30\\degree$', lonlat=True, fontsize=fs, color=gc)\n",
    "        hp.projtext(26, 62, r'$60\\degree$', lonlat=True, fontsize=fs, color=gc)\n",
    "        hp.projtext(30, -28, r'$-30\\degree$', lonlat=True, fontsize=fs, color=gc)\n",
    "        hp.projtext(30, -58, r'$-60\\degree$', lonlat=True, fontsize=fs, color=gc)\n",
    "    fig = plt.gcf()\n",
    "    ax = plt.gca()\n",
    "    image = ax.get_images()[0]\n",
    "    # field_to_proj = consistency.species_dict[ion_to_proj]\n",
    "    # img_label = 'log [%s Column Density (cm-2)]'%(ion_to_proj)\n",
    "    fig.colorbar(image, ax=ax, pad=0.02, orientation='horizontal',\n",
    "                 shrink=0.6, label=img_label)\n",
    "    plt.savefig(save_to_pdf)\n",
    "    plt.close()\n",
    "    print(\"Saving to \", save_to_pdf)\n"
   ]
  },
  {
   "cell_type": "code",
   "execution_count": 2,
   "metadata": {},
   "outputs": [],
   "source": [
    "%matplotlib inline \n",
    "import matplotlib.pyplot as plt\n",
    "import astropy.io.fits as fits\n",
    "import numpy as np\n",
    "import healpy as hp\n",
    "from astropy.coordinates import SkyCoord\n",
    "import astropy.units as u\n",
    "from foggie.utils import consistency"
   ]
  },
  {
   "cell_type": "code",
   "execution_count": 4,
   "metadata": {},
   "outputs": [
    {
     "name": "stdout",
     "output_type": "stream",
     "text": [
      "NSIDE = 1024\n",
      "ORDERING = RING in fits file\n",
      "INDXSCHM = IMPLICIT\n"
     ]
    },
    {
     "name": "stderr",
     "output_type": "stream",
     "text": [
      "/anaconda3/lib/python3.6/site-packages/ipykernel_launcher.py:27: RuntimeWarning: invalid value encountered in log10\n",
      "/anaconda3/lib/python3.6/site-packages/healpy/projaxes.py:1153: MatplotlibDeprecationWarning: \n",
      "The iterable function was deprecated in Matplotlib 3.1 and will be removed in 3.3. Use np.iterable instead.\n",
      "  if matplotlib.cbook.iterable(value):\n"
     ]
    },
    {
     "name": "stdout",
     "output_type": "stream",
     "text": [
      "0.0 180.0 -180.0 180.0\n",
      "The interval between parallels is 30 deg -0.00'.\n",
      "The interval between meridians is 30 deg -0.00'.\n",
      "Saving to  figs/allsky_diff_ions/all/allsky_HI4PI_-600_+600_NHI.pdf\n"
     ]
    },
    {
     "name": "stderr",
     "output_type": "stream",
     "text": [
      "/anaconda3/lib/python3.6/site-packages/healpy/projaxes.py:1194: MatplotlibDeprecationWarning: \n",
      "The iterable function was deprecated in Matplotlib 3.1 and will be removed in 3.3. Use np.iterable instead.\n",
      "  if matplotlib.cbook.iterable(value):\n",
      "/anaconda3/lib/python3.6/site-packages/healpy/projaxes.py:1153: MatplotlibDeprecationWarning: \n",
      "The iterable function was deprecated in Matplotlib 3.1 and will be removed in 3.3. Use np.iterable instead.\n",
      "  if matplotlib.cbook.iterable(value):\n"
     ]
    },
    {
     "data": {
      "text/plain": [
       "<Figure size 576x288 with 0 Axes>"
      ]
     },
     "metadata": {},
     "output_type": "display_data"
    }
   ],
   "source": [
    "datafile = '/Users/Yong/Dropbox/databucket/HI4PI/NHI_maps/nhi_-600.0_600.0.hpx.fits'\n",
    "nhi = hp.read_map(datafile) \n",
    "tag = 'NHI [-600, +600] km/s'\n",
    "\n",
    "nside = hp.get_nside(nhi) # nhi or whatever readout from hp.read_map\n",
    "lon, lat = hp.pix2ang(nside, np.arange(len(nhi)), lonlat=True)\n",
    "# np.save('hp_glon_glat.npy', [lon lat])\n",
    "# coords = SkyCoord(lon, lat, frame='galactic', unit=(u.deg, u.deg))\n",
    "#ra = coords.icrs.ra.deg\n",
    "#dec = coords.icrs.dec.deg\n",
    "\n",
    "ion_to_proj = 'HI'\n",
    "xsize = 800\n",
    "dd_name = 'HI4PI'\n",
    "zsnap = 0.0\n",
    "save_to_pdf = 'figs/allsky_diff_ions/all/allsky_HI4PI_-600_+600_NHI.pdf'\n",
    "img = nhi \n",
    "\n",
    "plt_allsky_healpix_img(img, ion_to_proj, xsize, dd_name, zsnap,\n",
    "                           save_to_pdf, plt_coord_labels=True)"
   ]
  },
  {
   "cell_type": "code",
   "execution_count": 5,
   "metadata": {},
   "outputs": [
    {
     "name": "stdout",
     "output_type": "stream",
     "text": [
      "NSIDE = 256\n",
      "ORDERING = RING in fits file\n",
      "INDXSCHM = IMPLICIT\n",
      "0.0 180.0 -180.0 180.0\n",
      "The interval between parallels is 30 deg -0.00'.\n",
      "The interval between meridians is 30 deg -0.00'.\n",
      "Saving to  figs/allsky_diff_ions/all/allsky_offcenter_location_NHI.pdf\n"
     ]
    },
    {
     "name": "stderr",
     "output_type": "stream",
     "text": [
      "/anaconda3/lib/python3.6/site-packages/healpy/projaxes.py:1194: MatplotlibDeprecationWarning: \n",
      "The iterable function was deprecated in Matplotlib 3.1 and will be removed in 3.3. Use np.iterable instead.\n",
      "  if matplotlib.cbook.iterable(value):\n",
      "/anaconda3/lib/python3.6/site-packages/healpy/projaxes.py:1153: MatplotlibDeprecationWarning: \n",
      "The iterable function was deprecated in Matplotlib 3.1 and will be removed in 3.3. Use np.iterable instead.\n",
      "  if matplotlib.cbook.iterable(value):\n"
     ]
    },
    {
     "data": {
      "text/plain": [
       "<Figure size 576x288 with 0 Axes>"
      ]
     },
     "metadata": {},
     "output_type": "display_data"
    }
   ],
   "source": [
    "foggie_dir = '/Users/Yong/ForkedRepo/foggie/foggie/mocky_way/figs/allsky_diff_ions/all/fits'\n",
    "sun_file = 'nref11n_nref10f_DD2175_all_offcenter_location_HI.fits'\n",
    "\n",
    "datafile = '%s/%s'%(foggie_dir, sun_file)\n",
    "nhi = hp.read_map(datafile) \n",
    "tag = 'offcenter_location'\n",
    "\n",
    "nside = hp.get_nside(nhi) # nhi or whatever readout from hp.read_map\n",
    "lon, lat = hp.pix2ang(nside, np.arange(len(nhi)), lonlat=True)\n",
    "\n",
    "ion_to_proj = 'HI'\n",
    "xsize = 800\n",
    "dd_name = 'DD2175'\n",
    "zsnap = 0.10 \n",
    "save_to_pdf = 'figs/allsky_diff_ions/all/allsky_%s_NHI.pdf'%(tag)\n",
    "img = nhi \n",
    "\n",
    "plt_allsky_healpix_img(img, ion_to_proj, xsize, dd_name, zsnap,\n",
    "                           save_to_pdf, plt_coord_labels=True)"
   ]
  },
  {
   "cell_type": "code",
   "execution_count": 6,
   "metadata": {},
   "outputs": [
    {
     "name": "stdout",
     "output_type": "stream",
     "text": [
      "NSIDE = 256\n",
      "ORDERING = RING in fits file\n",
      "INDXSCHM = IMPLICIT\n",
      "0.0 180.0 -180.0 180.0\n",
      "The interval between parallels is 30 deg -0.00'.\n",
      "The interval between meridians is 30 deg -0.00'.\n",
      "Saving to  figs/allsky_diff_ions/all/allsky_halo_center_NHI.pdf\n"
     ]
    },
    {
     "name": "stderr",
     "output_type": "stream",
     "text": [
      "/anaconda3/lib/python3.6/site-packages/healpy/projaxes.py:1194: MatplotlibDeprecationWarning: \n",
      "The iterable function was deprecated in Matplotlib 3.1 and will be removed in 3.3. Use np.iterable instead.\n",
      "  if matplotlib.cbook.iterable(value):\n",
      "/anaconda3/lib/python3.6/site-packages/healpy/projaxes.py:1153: MatplotlibDeprecationWarning: \n",
      "The iterable function was deprecated in Matplotlib 3.1 and will be removed in 3.3. Use np.iterable instead.\n",
      "  if matplotlib.cbook.iterable(value):\n"
     ]
    },
    {
     "data": {
      "text/plain": [
       "<Figure size 576x288 with 0 Axes>"
      ]
     },
     "metadata": {},
     "output_type": "display_data"
    }
   ],
   "source": [
    "gc_file = 'nref11n_nref10f_DD2175_all_halo_center_HI.fits'\n",
    "\n",
    "datafile = '%s/%s'%(foggie_dir, gc_file)\n",
    "nhi = hp.read_map(datafile) \n",
    "tag = 'halo_center'\n",
    "\n",
    "nside = hp.get_nside(nhi) # nhi or whatever readout from hp.read_map\n",
    "lon, lat = hp.pix2ang(nside, np.arange(len(nhi)), lonlat=True)\n",
    "\n",
    "ion_to_proj = 'HI'\n",
    "xsize = 800\n",
    "dd_name = 'DD2175'\n",
    "zsnap = 0.10 \n",
    "save_to_pdf = 'figs/allsky_diff_ions/all/allsky_%s_NHI.pdf'%(tag)\n",
    "img = nhi \n",
    "\n",
    "plt_allsky_healpix_img(img, ion_to_proj, xsize, dd_name, zsnap,\n",
    "                           save_to_pdf, plt_coord_labels=False)"
   ]
  },
  {
   "cell_type": "code",
   "execution_count": null,
   "metadata": {},
   "outputs": [],
   "source": []
  },
  {
   "cell_type": "code",
   "execution_count": null,
   "metadata": {},
   "outputs": [],
   "source": []
  }
 ],
 "metadata": {
  "kernelspec": {
   "display_name": "Python 3",
   "language": "python",
   "name": "python3"
  },
  "language_info": {
   "codemirror_mode": {
    "name": "ipython",
    "version": 3
   },
   "file_extension": ".py",
   "mimetype": "text/x-python",
   "name": "python",
   "nbconvert_exporter": "python",
   "pygments_lexer": "ipython3",
   "version": "3.6.8"
  }
 },
 "nbformat": 4,
 "nbformat_minor": 2
}
