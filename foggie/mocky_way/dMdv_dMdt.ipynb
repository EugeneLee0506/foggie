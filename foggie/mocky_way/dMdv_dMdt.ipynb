{
 "cells": [
  {
   "cell_type": "code",
   "execution_count": 1,
   "metadata": {},
   "outputs": [],
   "source": [
    "import numpy as np\n",
    "import sys\n",
    "from astropy.io import fits\n",
    "from astropy.table import Table\n",
    "import matplotlib.pyplot as plt\n",
    "import matplotlib as mpl\n",
    "mpl.rcParams['font.family'] = 'stixgeneral'\n",
    "\n",
    "fs=14\n",
    "\n",
    "\n",
    "from foggie.utils import consistency\n",
    "cmap = consistency.temperature_discrete_cmap\n",
    "c_all = plt.cm.Greys(0.7)\n",
    "c_cold = cmap(0.05)\n",
    "c_cool = cmap(0.25)\n",
    "c_warm = cmap(0.6)\n",
    "c_hot = cmap(0.9)"
   ]
  },
  {
   "cell_type": "code",
   "execution_count": 2,
   "metadata": {},
   "outputs": [],
   "source": [
    "def which_phase_to_plot(tag='cold'):\n",
    "    \n",
    "    if tag == 'all': \n",
    "        color = 'k' \n",
    "        dMdv_sun = dM_all_sun \n",
    "        dMdv_gc = dM_all_gc \n",
    "        dMdt_sun = dMdt_all_sun\n",
    "        dMdt_gc = dMdt_all_gc\n",
    "    elif tag == 'cold': \n",
    "        color = c_cold \n",
    "        dMdv_sun = dM_cold_sun \n",
    "        dMdv_gc = dM_cold_gc \n",
    "        dMdt_sun = dMdt_cold_sun\n",
    "        dMdt_gc = dMdt_cold_gc\n",
    "    elif tag == 'cool': \n",
    "        color = c_cool\n",
    "        dMdv_sun = dM_cool_sun \n",
    "        dMdv_gc = dM_cool_gc \n",
    "        dMdt_sun = dMdt_cool_sun\n",
    "        dMdt_gc = dMdt_cool_gc\n",
    "    elif tag == 'warm': \n",
    "        color = c_warm \n",
    "        dMdv_sun = dM_warm_sun \n",
    "        dMdv_gc = dM_warm_gc \n",
    "        dMdt_sun = dMdt_warm_sun\n",
    "        dMdt_gc = dMdt_warm_gc\n",
    "    elif tag == 'hot': \n",
    "        color = c_hot\n",
    "        dMdv_sun = dM_hot_sun \n",
    "        dMdv_gc = dM_hot_gc \n",
    "        dMdt_sun = dMdt_hot_sun\n",
    "        dMdt_gc = dMdt_hot_gc\n",
    "        \n",
    "    return color, dMdv_sun, dMdv_gc, dMdt_sun, dMdt_gc \n",
    "\n",
    "def read_dMdv_file(filename):\n",
    "    # file_gc = 'figs/dM_dv/fits/nref11n_nref10f_DD2175_dMdv_%s_halo_center_%s.fits'%(obj_tag, shift)\n",
    "    data = Table.read(filename, format='fits')\n",
    "    dv_bins = data['v (km/s)']\n",
    "    dM_all = data['dM (Msun/km/s)']\n",
    "    dM_cold = data['dM_cold (Msun/km/s)']\n",
    "    dM_cool = data['dM_cool (Msun/km/s)']\n",
    "    dM_warm = data['dM_warm (Msun/km/s)']\n",
    "    dM_hot = data['dM_hot (Msun/km/s)']\n",
    "    return dv_bins, dM_all, dM_cold, dM_cool, dM_warm, dM_hot \n",
    "\n",
    "def read_dMdt_file(filename): \n",
    "    # file = 'figs/dM_dt/fits/nref11n_nref10f_DD2175_dMdt_%s_halo_center.fits'%(obj_tag)\n",
    "    data = Table.read(filename, format='fits')\n",
    "    dv_bins = data['v (km/s)']\n",
    "    dMdt_all = data['dMdt (Msun/yr)']\n",
    "    dMdt_cold = data['dMdt_cold (Msun/yr)']\n",
    "    dMdt_cool = data['dMdt_cool (Msun/yr)']\n",
    "    dMdt_warm = data['dMdt_warm (Msun/yr)']\n",
    "    dMdt_hot = data['dMdt_hot (Msun/yr)']\n",
    "    \n",
    "    # let's do a little tweak to the dMdt to make them all positive for better illustration \n",
    "    dMdt_all[dv_bins<=0] = np.abs(dMdt_all[dv_bins<=0])\n",
    "    dMdt_cold[dv_bins<=0] = np.abs(dMdt_cold[dv_bins<=0])\n",
    "    dMdt_cool[dv_bins<=0] = np.abs(dMdt_cool[dv_bins<=0])\n",
    "    dMdt_warm[dv_bins<=0] = np.abs(dMdt_warm[dv_bins<=0])\n",
    "    dMdt_hot[dv_bins<=0] = np.abs(dMdt_hot[dv_bins<=0])\n",
    "    \n",
    "    return dv_bins, dMdt_all, dMdt_cold, dMdt_cool, dMdt_warm, dMdt_hot"
   ]
  },
  {
   "cell_type": "markdown",
   "metadata": {},
   "source": [
    "### I: plot the CGM phases in dMdv and dMdt frames "
   ]
  },
  {
   "cell_type": "code",
   "execution_count": 3,
   "metadata": {},
   "outputs": [],
   "source": [
    "gc_ls = '-'\n",
    "gc_lw = 3\n",
    "\n",
    "sun_ls = ':'\n",
    "sun_lw = 3\n",
    "\n",
    "vmin = -400\n",
    "vmax = 400\n",
    "\n",
    "ymin1 = 2e3 #2e3, 2e3 # 2e3\n",
    "ymax1 = 3e8 #3e7, 1e7 # 3e8\n",
    "\n",
    "ymin2 = 0.001\n",
    "ymax2 = 4 # 0.6, 0.4, 4 "
   ]
  },
  {
   "cell_type": "code",
   "execution_count": 4,
   "metadata": {},
   "outputs": [],
   "source": [
    "sim_name = 'nref11n_nref10f'\n",
    "dd_name = 'DD2175'\n",
    "obj_tag = 'cgm-rvir'"
   ]
  },
  {
   "cell_type": "code",
   "execution_count": 5,
   "metadata": {},
   "outputs": [],
   "source": [
    "dM_all_gc, dM_cold_gc, dM_cool_gc, dM_warm_gc, dM_hot_gc = [], [], [], [], []\n",
    "dM_all_sun, dM_cold_sun, dM_cool_sun, dM_warm_sun, dM_hot_sun = [], [], [], [], []\n",
    "\n",
    "dMdt_all_gc, dMdt_cold_gc, dMdt_cool_gc, dMdt_warm_gc, dMdt_hot_gc = [], [], [], [], []\n",
    "dMdt_all_sun, dMdt_cold_sun, dMdt_cool_sun, dMdt_warm_sun, dMdt_hot_sun = [], [], [], [], []"
   ]
  },
  {
   "cell_type": "code",
   "execution_count": 6,
   "metadata": {},
   "outputs": [],
   "source": [
    "shifts = ['0', '45', '90', '135', '180', '225', '270', '315']\n",
    "\n",
    "dM_all_gc = []\n",
    "for i, ideg in enumerate(shifts): \n",
    "    ####################### get dM/dv ##########################\n",
    "    if i == 0:\n",
    "        file_gc = 'figs/dM_dv/fits/nref11n_nref10f_DD2175_dMdv_%s_halo_center.fits'%(obj_tag)\n",
    "    else: \n",
    "        file_gc = 'figs/dM_dv/fits/nref11n_nref10f_DD2175_dMdv_%s_halo_center_%s.fits'%(obj_tag, ideg)\n",
    "    dMdv_gc = read_dMdv_file(file_gc)\n",
    "    dv_bins_gc = dMdv_gc[0]\n",
    "    dM_all_gc.append(dMdv_gc[1])\n",
    "    dM_cold_gc.append(dMdv_gc[2])\n",
    "    dM_cool_gc.append(dMdv_gc[3])\n",
    "    dM_warm_gc.append(dMdv_gc[4])\n",
    "    dM_hot_gc.append(dMdv_gc[5])\n",
    "\n",
    "    # get dM/dv wrt to observer \n",
    "    if i == 0: \n",
    "        file_sun = 'figs/dM_dv/fits/nref11n_nref10f_DD2175_dMdv_%s_offcenter_location.fits'%(obj_tag)\n",
    "    else: \n",
    "        file_sun = 'figs/dM_dv/fits/nref11n_nref10f_DD2175_dMdv_%s_offcenter_location_%s.fits'%(obj_tag, ideg)\n",
    "    dMdv_sun = read_dMdv_file(file_sun)\n",
    "    dv_bins_sun = dMdv_sun[0]\n",
    "    dM_all_sun.append(dMdv_sun[1])\n",
    "    dM_cold_sun.append(dMdv_sun[2])\n",
    "    dM_cool_sun.append(dMdv_sun[3])\n",
    "    dM_warm_sun.append(dMdv_sun[4])\n",
    "    dM_hot_sun.append(dMdv_sun[5])\n",
    "    \n",
    "    ####################### get dM/dt ########################## \n",
    "    if i == 0:\n",
    "        file_gc = 'figs/dM_dt/fits/nref11n_nref10f_DD2175_dMdt_%s_halo_center.fits'%(obj_tag)\n",
    "    else: \n",
    "        file_gc = 'figs/dM_dt/fits/nref11n_nref10f_DD2175_dMdt_%s_halo_center_%s.fits'%(obj_tag, ideg)\n",
    "    dMdt_gc = read_dMdt_file(file_gc)\n",
    "    dv_bins_gc = dMdt_gc[0]\n",
    "    dMdt_all_gc.append(dMdt_gc[1])\n",
    "    dMdt_cold_gc.append(dMdt_gc[2])\n",
    "    dMdt_cool_gc.append(dMdt_gc[3])\n",
    "    dMdt_warm_gc.append(dMdt_gc[4])\n",
    "    dMdt_hot_gc.append(dMdt_gc[5])\n",
    "\n",
    "    # get dM/dv wrt to observer\n",
    "    if i == 0: \n",
    "        file_sun = 'figs/dM_dt/fits/nref11n_nref10f_DD2175_dMdt_%s_offcenter_location.fits'%(obj_tag)\n",
    "    else: \n",
    "        file_sun = 'figs/dM_dt/fits/nref11n_nref10f_DD2175_dMdt_%s_offcenter_location_%s.fits'%(obj_tag, ideg)\n",
    "    dMdt_sun = read_dMdt_file(file_sun)\n",
    "    dv_bins_sun = dMdt_sun[0]\n",
    "    dMdt_all_sun.append(dMdt_sun[1])\n",
    "    dMdt_cold_sun.append(dMdt_sun[2])\n",
    "    dMdt_cool_sun.append(dMdt_sun[3])\n",
    "    dMdt_warm_sun.append(dMdt_sun[4])\n",
    "    dMdt_hot_sun.append(dMdt_sun[5])"
   ]
  },
  {
   "cell_type": "code",
   "execution_count": 7,
   "metadata": {},
   "outputs": [],
   "source": [
    "dv_bins = dv_bins_gc\n",
    "dM_all_gc = np.asarray(dM_all_gc)\n",
    "dM_cold_gc = np.asarray(dM_cold_gc)\n",
    "dM_cool_gc = np.asarray(dM_cool_gc)\n",
    "dM_warm_gc = np.asarray(dM_warm_gc)\n",
    "dM_hot_gc = np.asarray(dM_hot_gc)\n",
    "\n",
    "dM_all_sun = np.asarray(dM_all_sun)\n",
    "dM_cold_sun = np.asarray(dM_cold_sun)\n",
    "dM_cool_sun = np.asarray(dM_cool_sun)\n",
    "dM_warm_sun = np.asarray(dM_warm_sun)\n",
    "dM_hot_sun = np.asarray(dM_hot_sun)\n",
    "\n",
    "dMdt_all_gc = np.asarray(dMdt_all_gc)\n",
    "dMdt_cold_gc = np.asarray(dMdt_cold_gc)\n",
    "dMdt_cool_gc = np.asarray(dMdt_cool_gc)\n",
    "dMdt_warm_gc = np.asarray(dMdt_warm_gc)\n",
    "dMdt_hot_gc = np.asarray(dMdt_hot_gc)\n",
    "\n",
    "dMdt_all_sun = np.asarray(dMdt_all_sun)\n",
    "dMdt_cold_sun = np.asarray(dMdt_cold_sun)\n",
    "dMdt_cool_sun = np.asarray(dMdt_cool_sun)\n",
    "dMdt_warm_sun = np.asarray(dMdt_warm_sun)\n",
    "dMdt_hot_sun = np.asarray(dMdt_hot_sun)"
   ]
  },
  {
   "cell_type": "code",
   "execution_count": 8,
   "metadata": {},
   "outputs": [],
   "source": [
    "# now decide which phase to plot things on ### \n",
    "phase_tag = 'cold'\n",
    "this_phase = which_phase_to_plot(tag=phase_tag)\n",
    "color = this_phase[0]\n",
    "dMdv_sun = this_phase[1]\n",
    "dMdv_gc = this_phase[2]\n",
    "dMdt_sun = this_phase[3]\n",
    "dMdt_gc = this_phase[4]\n",
    "vel = dv_bins\n",
    "\n",
    "# find the range of the variation and the median value of the total eight location \n",
    "dMdv_sun_mean = np.mean(dMdv_sun, axis=0)\n",
    "dMdv_sun_min = np.min(dMdv_sun, axis=0)\n",
    "dMdv_sun_max = np.max(dMdv_sun, axis=0)\n",
    "\n",
    "dMdv_gc_mean = np.mean(dMdv_gc, axis=0)\n",
    "dMdv_gc_min = np.min(dMdv_gc, axis=0)\n",
    "dMdv_gc_max = np.max(dMdv_gc, axis=0)\n",
    "\n",
    "dMdt_sun_mean = np.mean(dMdt_sun, axis=0)\n",
    "dMdt_sun_min = np.min(dMdt_sun, axis=0)\n",
    "dMdt_sun_max = np.max(dMdt_sun, axis=0)\n",
    "\n",
    "dMdt_gc_mean = np.mean(dMdt_gc, axis=0)\n",
    "dMdt_gc_min = np.min(dMdt_gc, axis=0)\n",
    "dMdt_gc_max = np.max(dMdt_gc, axis=0)"
   ]
  },
  {
   "cell_type": "code",
   "execution_count": 9,
   "metadata": {},
   "outputs": [],
   "source": [
    "# cut the values within vmin,vmax range, and ymin, ymax ranges \n",
    "indx = np.all([vel>vmin, vel<vmax], axis=0)\n",
    "vel = vel[indx]\n",
    "\n",
    "dMdv_sun_mean = dMdv_sun_mean[indx]\n",
    "#dMdv_sun_mean[dMdv_sun_mean<ymin1/2.] = np.nan\n",
    "\n",
    "dMdv_sun_min = dMdv_sun_min[indx]\n",
    "#dMdv_sun_min[dMdv_sun_min<ymin1/2.] = np.nan \n",
    "\n",
    "dMdv_sun_max = dMdv_sun_max[indx]\n",
    "#dMdv_sun_max[dMdv_sun_max<ymin1/2.] = np.nan\n",
    "\n",
    "dMdv_gc_mean = dMdv_gc_mean[indx]\n",
    "#dMdv_gc_mean[dMdv_gc_mean<ymin1/2.] = np.nan \n",
    "\n",
    "\n",
    "################################################################### \n",
    "dMdt_sun_mean = dMdt_sun_mean[indx]\n",
    "#dMdt_sun_mean[dMdt_sun_mean<ymin2/2.] = np.nan \n",
    "\n",
    "dMdt_sun_min = dMdt_sun_min[indx]\n",
    "#dMdt_sun_min[dMdt_sun_min<ymin2/2.] = np.nan \n",
    "\n",
    "dMdt_sun_max = dMdt_sun_max[indx]\n",
    "#dMdt_sun_max[dMdt_sun_max<ymin2/2.] = np.nan \n",
    "\n",
    "dMdt_gc_mean = dMdt_gc_mean[indx]\n",
    "#dMdt_gc_mean[dMdt_gc_mean<ymin2/2.] = np.nan "
   ]
  },
  {
   "cell_type": "code",
   "execution_count": 10,
   "metadata": {},
   "outputs": [
    {
     "name": "stdout",
     "output_type": "stream",
     "text": [
      "all\n",
      "6.948624499564746 7.130982753843629 1.686374233273671 6.691489765871974\n",
      "cold\n",
      "0.9092881099407081 5.163368232324593 0.3883369979927108 5.508287076969187\n",
      "cool\n",
      "2.5211952837831033 0.7777099164334729 0.0596884803854233 0.34344487235373083\n",
      "warm\n",
      "3.3913158171453595 1.1448754894014679 0.9639788696624404 0.7994304110914241\n",
      "hot\n",
      "0.12682528869557563 0.045670317597298976 0.27436988523309636 0.04032740545763389\n"
     ]
    }
   ],
   "source": [
    "for i, phase_tag in enumerate(['all', 'cold', 'cool', 'warm', 'hot']): \n",
    "    ##### get data #### \n",
    "    # now decide which phase to plot things on ### \n",
    "    # phase_tag = 'cold'\n",
    "    this_phase = which_phase_to_plot(tag=phase_tag)\n",
    "    dMdt_sun = this_phase[3]\n",
    "    dMdt_gc = this_phase[4]\n",
    "    vel = dv_bins\n",
    "\n",
    "    \n",
    "    ############################################################################ \n",
    "    dMdt_sun_mean = np.mean(dMdt_sun, axis=0)\n",
    "    dMdt_sun_min = np.min(dMdt_sun, axis=0)\n",
    "    dMdt_sun_max = np.max(dMdt_sun, axis=0)\n",
    "    \n",
    "    in_high = vel<-100\n",
    "    in_low = np.all([vel>=-100, vel<=0], axis=0)\n",
    "    out_high = vel>100 \n",
    "    out_low = np.all([vel>0, vel<=100], axis=0)\n",
    "\n",
    "    f_in_high = dMdt_sun_mean[in_high].sum()\n",
    "    f_in_low = dMdt_sun_mean[in_low].sum()\n",
    "    f_out_high = dMdt_sun_mean[out_high].sum()\n",
    "    f_out_low = dMdt_sun_mean[out_low].sum()\n",
    "    \n",
    "    print(phase_tag)\n",
    "    print(f_in_high, f_in_low, f_out_high, f_out_low)"
   ]
  },
  {
   "cell_type": "code",
   "execution_count": 13,
   "metadata": {},
   "outputs": [
    {
     "data": {
      "text/plain": [
       "(0.8500823723228995,\n",
       " 0.06462585034013606,\n",
       " 0.23404255319148937,\n",
       " 0.14676616915422883)"
      ]
     },
     "execution_count": 13,
     "metadata": {},
     "output_type": "execute_result"
    }
   ],
   "source": [
    "5.16/(5.16+0.91), 0.38/(0.38+5.5), 0.77/(0.77+2.52), 0.059/(0.059+0.343)"
   ]
  },
  {
   "cell_type": "code",
   "execution_count": 16,
   "metadata": {},
   "outputs": [
    {
     "data": {
      "text/plain": [
       "(0.2516556291390728,\n",
       " 0.5485714285714286,\n",
       " 0.2777777777777778,\n",
       " 0.12903225806451613)"
      ]
     },
     "execution_count": 16,
     "metadata": {},
     "output_type": "execute_result"
    }
   ],
   "source": [
    "1.14/(1.14+3.39), 0.96/(0.96+0.79), 0.05/(0.05+0.13), 0.04/(0.04+0.27), "
   ]
  },
  {
   "cell_type": "code",
   "execution_count": null,
   "metadata": {},
   "outputs": [],
   "source": []
  },
  {
   "cell_type": "code",
   "execution_count": 17,
   "metadata": {},
   "outputs": [
    {
     "data": {
      "image/png": "[encoded data removed]",
      "text/plain": [
       "<Figure size 720x324 with 10 Axes>"
      ]
     },
     "metadata": {
      "needs_background": "light"
     },
     "output_type": "display_data"
    }
   ],
   "source": [
    "fig = plt.figure(figsize=(10, 4.5))\n",
    "width = 0.17\n",
    "gap = 0.01\n",
    "\n",
    "for i, phase_tag in enumerate(['all', 'cold', 'cool', 'warm', 'hot']): \n",
    "    ##### get data #### \n",
    "    # now decide which phase to plot things on ### \n",
    "    # phase_tag = 'cold'\n",
    "    this_phase = which_phase_to_plot(tag=phase_tag)\n",
    "    color = this_phase[0]\n",
    "    dMdv_sun = this_phase[1]\n",
    "    dMdv_gc = this_phase[2]\n",
    "    dMdt_sun = this_phase[3]\n",
    "    dMdt_gc = this_phase[4]\n",
    "    vel = dv_bins\n",
    "\n",
    "    # find the range of the variation and the median value of the total eight location \n",
    "    dMdv_sun_mean = np.mean(dMdv_sun, axis=0)\n",
    "    dMdv_sun_min = np.min(dMdv_sun, axis=0)\n",
    "    dMdv_sun_max = np.max(dMdv_sun, axis=0)\n",
    "\n",
    "    dMdv_gc_mean = np.mean(dMdv_gc, axis=0)\n",
    "    dMdv_gc_min = np.min(dMdv_gc, axis=0)\n",
    "    dMdv_gc_max = np.max(dMdv_gc, axis=0)\n",
    "\n",
    "    \n",
    "    ############################################################################ \n",
    "    dMdt_sun_mean = np.mean(dMdt_sun, axis=0)\n",
    "    dMdt_sun_min = np.min(dMdt_sun, axis=0)\n",
    "    dMdt_sun_max = np.max(dMdt_sun, axis=0)\n",
    "\n",
    "    dMdt_gc_mean = np.mean(dMdt_gc, axis=0)\n",
    "    dMdt_gc_min = np.min(dMdt_gc, axis=0)\n",
    "    dMdt_gc_max = np.max(dMdt_gc, axis=0)\n",
    "    \n",
    "    ###################################################################\n",
    "    #ax1 = fig.add_axes([0.08+width*i, 0.5, width, 0.45])\n",
    "    #ax2 = fig.add_axes([0.08+width*i, 0.1, width, 0.38])\n",
    "    ax1 = fig.add_axes([0.09+i*(width+gap), 0.46, width, 0.48])\n",
    "    ax2 = fig.add_axes([0.09+i*(width+gap), 0.13, width, 0.30])\n",
    "    # fig_tag = all_tags[i]\n",
    "    \n",
    "    ### plot \n",
    "    ax1.step(vel, dMdv_gc_mean, color=color, linestyle=gc_ls, linewidth=gc_lw, label='GFR')\n",
    "    ax1.step(vel, dMdv_sun_mean, color=color, linestyle=sun_ls, linewidth=sun_lw, label='LSR')\n",
    "    ax1.fill_between(vel, dMdv_sun_min, dMdv_sun_max, step=\"pre\", alpha=0.5, color=color)\n",
    "\n",
    "    ax1.set_yscale('log')\n",
    "    ax1.set_xlim(vmin, vmax)\n",
    "    ax1.set_xticklabels([])\n",
    "    ax1.set_ylim(ymin1, ymax1)\n",
    "    ax1.minorticks_on()\n",
    "    if i == 0: \n",
    "        ax1.legend(fontsize=fs-2, loc='lower right')\n",
    "    ax1.fill_between([-100, 100], ymin1, ymax1, color=plt.cm.Greys(0.6), alpha=0.4)\n",
    "    # ax1.text(200, 1e8, fig_tag, fontsize=fs-2)\n",
    "    ax1.set_title(r'%s CGM'%(phase_tag), fontsize=fs)\n",
    "\n",
    "    # for the infall rate test \n",
    "    ax2.step(vel, dMdt_gc_mean, color=color, linestyle=gc_ls, linewidth=gc_lw, label='wrt gc')\n",
    "    ax2.step(vel, dMdt_sun_mean, color=color, linestyle=sun_ls, linewidth=sun_lw, label='wrt sun')\n",
    "    ax2.fill_between(vel, dMdt_sun_min, dMdt_sun_max, color=color, linestyle=sun_ls, step=\"pre\", alpha=0.5)\n",
    "    # ax2.legend(fontsize=fs-2, loc='upper right')\n",
    "\n",
    "    ax2.set_ylim(ymin2, ymax2)\n",
    "    ax2.set_yscale('log')\n",
    "    ax2.set_xlabel(r'Velocity (km s$^{-1}$)', fontsize=fs)\n",
    "    ax2.fill_between([-100, 100], ymin2, ymax2, color=plt.cm.Greys(0.6), alpha=0.4)\n",
    "    \n",
    "    for ax in [ax1, ax2]: \n",
    "        ax.minorticks_on()\n",
    "        ax.set_xlim(vmin, vmax)\n",
    "        ax.grid(linestyle=':', alpha=0.7, color=plt.cm.Greys(0.8))\n",
    "        ax.set_xticks([-200, 0, 200])\n",
    "        for tick in ax.xaxis.get_major_ticks(): \n",
    "            tick.label.set_fontsize(fs)\n",
    "        for tick in ax.yaxis.get_major_ticks():\n",
    "            tick.label.set_fontsize(fs)\n",
    "        \n",
    "    # only need this for the first column \n",
    "    if phase_tag == 'all': \n",
    "        ax1.set_ylabel(r'dM/dv  [M$_\\odot$/(km s$^{-1}$)]', fontsize=fs)\n",
    "        ax2.set_ylabel(r'$\\dot{M}$ (M$_\\odot$ yr$^{-1}$)', fontsize=fs)\n",
    "    else: \n",
    "        ax1.set_yticklabels([])\n",
    "        ax2.set_yticklabels([])\n",
    "\n",
    "fig.savefig('figs/dM_dt/nref11n_nref10f_DD2175_dMdv_dMdt_%s_allphases.pdf'%(obj_tag))\n",
    "# fig.savefig('/Users/Yong/Desktop/save.pdf')"
   ]
  },
  {
   "cell_type": "code",
   "execution_count": 18,
   "metadata": {},
   "outputs": [
    {
     "data": {
      "image/png": "[encoded data removed]",
      "text/plain": [
       "<Figure size 720x216 with 5 Axes>"
      ]
     },
     "metadata": {
      "needs_background": "light"
     },
     "output_type": "display_data"
    }
   ],
   "source": [
    "fig = plt.figure(figsize=(10, 3.))\n",
    "width = 0.17\n",
    "gap = 0.015\n",
    "\n",
    "for i, phase_tag in enumerate(['all', 'cold', 'cool', 'warm', 'hot']): \n",
    "    ##### get data #### \n",
    "    # now decide which phase to plot things on ### \n",
    "    # phase_tag = 'cold'\n",
    "    this_phase = which_phase_to_plot(tag=phase_tag)\n",
    "    color = this_phase[0]\n",
    "    dMdv_sun = this_phase[1]\n",
    "    dMdv_gc = this_phase[2]\n",
    "    dMdt_sun = this_phase[3]\n",
    "    dMdt_gc = this_phase[4]\n",
    "    vel = dv_bins\n",
    "\n",
    "    # find the range of the variation and the median value of the total eight location \n",
    "    dMdv_sun_mean = np.mean(dMdv_sun, axis=0)\n",
    "    dMdv_sun_min = np.min(dMdv_sun, axis=0)\n",
    "    dMdv_sun_max = np.max(dMdv_sun, axis=0)\n",
    "\n",
    "    dMdv_gc_mean = np.mean(dMdv_gc, axis=0)\n",
    "    dMdv_gc_min = np.min(dMdv_gc, axis=0)\n",
    "    dMdv_gc_max = np.max(dMdv_gc, axis=0)\n",
    "\n",
    "    dMdt_sun_mean = np.mean(dMdt_sun, axis=0)\n",
    "    dMdt_sun_min = np.min(dMdt_sun, axis=0)\n",
    "    dMdt_sun_max = np.max(dMdt_sun, axis=0)\n",
    "\n",
    "    dMdt_gc_mean = np.mean(dMdt_gc, axis=0)\n",
    "    dMdt_gc_min = np.min(dMdt_gc, axis=0)\n",
    "    dMdt_gc_max = np.max(dMdt_gc, axis=0)\n",
    "    \n",
    "    ###################################################################\n",
    "    #ax1 = fig.add_axes([0.08+width*i, 0.5, width, 0.45])\n",
    "    #ax2 = fig.add_axes([0.08+width*i, 0.1, width, 0.38])\n",
    "    ax1 = fig.add_axes([0.07+i*(width+gap), 0.2, width, 0.7])\n",
    "    # fig_tag = all_tags[i]\n",
    "    \n",
    "    ### plot \n",
    "    ax1.step(vel, dMdv_gc_mean, color=color, linestyle=gc_ls, linewidth=gc_lw, label='GRF')\n",
    "    ax1.step(vel, dMdv_sun_mean, color=color, linestyle=sun_ls, linewidth=sun_lw, label='LSR')\n",
    "    ax1.fill_between(vel, dMdv_sun_min, dMdv_sun_max, step=\"pre\", alpha=0.5, color=color)\n",
    "\n",
    "    ax1.set_yscale('log')\n",
    "    ax1.set_xlim(vmin, vmax)\n",
    "    ax1.set_ylim(ymin1, ymax1)\n",
    "    ax1.minorticks_on()\n",
    "    if i == 0: \n",
    "        ax1.legend(fontsize=fs-2, loc='lower right')\n",
    "    ax1.fill_between([-100, 100], ymin1, ymax1, color=plt.cm.Greys(0.6), alpha=0.4)\n",
    "    ax1.set_title(r'%s CGM'%(phase_tag), fontsize=fs)\n",
    "\n",
    "    ax1.minorticks_on()\n",
    "    ax1.set_xlim(vmin, vmax)\n",
    "    ax1.grid(linestyle=':', alpha=0.7, color=plt.cm.Greys(0.8))\n",
    "    ax1.set_xticks([-200, 0, 200])\n",
    "    for tick in ax1.xaxis.get_major_ticks(): \n",
    "        tick.label.set_fontsize(fs)\n",
    "    for tick in ax1.yaxis.get_major_ticks():\n",
    "        tick.label.set_fontsize(fs)\n",
    "    ax1.set_xlabel(r'Velocity (km s$^{-1}$)', fontsize=fs)\n",
    "    \n",
    "    ax1.tick_params(direction='in', which='both') \n",
    "        \n",
    "    # only need this for the first column \n",
    "    if phase_tag == 'all': \n",
    "        ax1.set_ylabel(r'dM/dv  [M$_\\odot$/(km s$^{-1}$)]', fontsize=fs)\n",
    "    else: \n",
    "        ax1.set_yticklabels([])\n",
    "\n",
    "fig.savefig('figs/dM_dt/nref11n_nref10f_DD2175_dMdv_%s_allphases.pdf'%(obj_tag))\n",
    "# fig.savefig('/Users/Yong/Desktop/save.pdf')"
   ]
  },
  {
   "cell_type": "markdown",
   "metadata": {},
   "source": [
    "### II: Find masses at the high velocity regimes, and here high-velocity is defined as |vlsr|>100 km/s"
   ]
  },
  {
   "cell_type": "code",
   "execution_count": 15,
   "metadata": {},
   "outputs": [],
   "source": [
    "from astropy.table import Table \n",
    "import numpy as np\n",
    "\n",
    "sim_name = 'nref11n_nref10f'\n",
    "dd_name = 'DD2175'\n",
    "obj_tag = 'cgm-rvir'# 'cgm-rvir'# 'cgm-15kpc'"
   ]
  },
  {
   "cell_type": "code",
   "execution_count": 16,
   "metadata": {},
   "outputs": [
    {
     "name": "stdout",
     "output_type": "stream",
     "text": [
      "cold, cool, warm, hot HVC: 1.2e+09, 1.2e+09, 2.1e+09, 7.1e+07\n",
      "cold, cool, warm, hot LVC: 3.5e+09, 9.0e+08, 2.4e+09, 5.4e+07\n",
      "high/all frac: 0.25, 0.56, 0.46, 0.57, 0.39\n",
      "\n",
      "cold, cool, warm, hot HVC: 1.5e+07, 9.8e+08, 1.9e+09, 7.9e+07\n",
      "cold, cool, warm, hot LVC: 4.7e+09, 1.1e+09, 2.6e+09, 4.6e+07\n",
      "high/all frac: 0.00, 0.48, 0.42, 0.63, 0.26\n",
      "\n",
      "cold, cool, warm, hot HVC: 2.4e+07, 1.2e+09, 1.4e+09, 6.7e+07\n",
      "cold, cool, warm, hot LVC: 4.7e+09, 8.8e+08, 3.1e+09, 5.8e+07\n",
      "high/all frac: 0.01, 0.57, 0.32, 0.54, 0.24\n",
      "\n",
      "cold, cool, warm, hot HVC: 1.2e+09, 1.2e+09, 2.2e+09, 8.9e+07\n",
      "cold, cool, warm, hot LVC: 3.5e+09, 8.3e+08, 2.3e+09, 3.7e+07\n",
      "high/all frac: 0.25, 0.60, 0.48, 0.71, 0.41\n",
      "\n",
      "cold, cool, warm, hot HVC: 1.9e+08, 1.4e+09, 2.0e+09, 7.7e+07\n",
      "cold, cool, warm, hot LVC: 4.5e+09, 7.0e+08, 2.5e+09, 4.8e+07\n",
      "high/all frac: 0.04, 0.66, 0.44, 0.62, 0.31\n",
      "\n",
      "cold, cool, warm, hot HVC: 4.7e+08, 1.2e+09, 2.4e+09, 7.1e+07\n",
      "cold, cool, warm, hot LVC: 4.2e+09, 8.6e+08, 2.1e+09, 5.4e+07\n",
      "high/all frac: 0.10, 0.58, 0.54, 0.57, 0.37\n",
      "\n",
      "cold, cool, warm, hot HVC: 2.0e+09, 1.3e+09, 2.6e+09, 7.3e+07\n",
      "cold, cool, warm, hot LVC: 2.7e+09, 7.3e+08, 1.9e+09, 5.2e+07\n",
      "high/all frac: 0.42, 0.64, 0.58, 0.58, 0.53\n",
      "\n",
      "cold, cool, warm, hot HVC: 8.0e+08, 1.2e+09, 2.1e+09, 6.8e+07\n",
      "cold, cool, warm, hot LVC: 3.9e+09, 8.2e+08, 2.4e+09, 5.7e+07\n",
      "high/all frac: 0.17, 0.60, 0.47, 0.54, 0.37\n",
      "\n"
     ]
    }
   ],
   "source": [
    "for i in range(8): \n",
    "    if i == 0:\n",
    "        # get dM/dv wrt to observer \n",
    "        file_sun = 'figs/dM_dv/fits/nref11n_nref10f_DD2175_dMdv_%s_offcenter_location.fits'%(obj_tag)\n",
    "    else: \n",
    "        file_sun = 'figs/dM_dv/fits/nref11n_nref10f_DD2175_dMdv_%s_offcenter_location_%d.fits'%(obj_tag, i*45)\n",
    "    data_sun = Table.read(file_sun, format='fits')\n",
    "    dv_bins_sun = data_sun['v (km/s)']\n",
    "    dM_all_sun = data_sun['dM (Msun/km/s)']\n",
    "    dM_cold_sun = data_sun['dM_cold (Msun/km/s)']\n",
    "    dM_cool_sun = data_sun['dM_cool (Msun/km/s)']\n",
    "    dM_warm_sun = data_sun['dM_warm (Msun/km/s)']\n",
    "    dM_hot_sun = data_sun['dM_hot (Msun/km/s)']\n",
    "\n",
    "    # cold, cool, warm, hot gas components at the high-velocity ranges \n",
    "    ind_high = np.any([dv_bins_sun<=-100, dv_bins_sun>=100], axis=0)\n",
    "    cold_high_mass = (dM_cold_sun[ind_high]*20).sum()\n",
    "    cool_high_mass = (dM_cool_sun[ind_high]*20).sum()\n",
    "    warm_high_mass = (dM_warm_sun[ind_high]*20).sum()\n",
    "    hot_high_mass = (dM_hot_sun[ind_high]*20).sum()\n",
    "\n",
    "    # cold, cool, warm, hot gas at the low-velocity ranges \n",
    "    ind_low = np.all([dv_bins_sun>-100, dv_bins_sun<100], axis=0)\n",
    "    cold_low_mass = (dM_cold_sun[ind_low]*20).sum()\n",
    "    cool_low_mass = (dM_cool_sun[ind_low]*20).sum()\n",
    "    warm_low_mass = (dM_warm_sun[ind_low]*20).sum()\n",
    "    hot_low_mass = (dM_hot_sun[ind_low]*20).sum()\n",
    "\n",
    "    cold_all_mass = (dM_cold_sun*20).sum()\n",
    "    cool_all_mass = (dM_cool_sun*20).sum()\n",
    "    warm_all_mass = (dM_warm_sun*20).sum()\n",
    "    hot_all_mass = (dM_hot_sun*20).sum()\n",
    "    \n",
    "    all_high_mass = cold_high_mass + cool_high_mass + warm_high_mass + hot_high_mass\n",
    "    all_all_mass = (dM_all_sun*20).sum()\n",
    "\n",
    "    print('cold, cool, warm, hot HVC: %.1e, %.1e, %.1e, %.1e'%(cold_high_mass, cool_high_mass, \n",
    "                                                               warm_high_mass, hot_high_mass))\n",
    "    print('cold, cool, warm, hot LVC: %.1e, %.1e, %.1e, %.1e'%(cold_low_mass, cool_low_mass, \n",
    "                                                               warm_low_mass, hot_low_mass))\n",
    "    print('high/all frac: %.2f, %.2f, %.2f, %.2f, %.2f\\n'%(cold_high_mass/cold_all_mass, \n",
    "                                                         cool_high_mass/cool_all_mass, \n",
    "                                                         warm_high_mass/warm_all_mass, \n",
    "                                                         hot_high_mass/hot_all_mass, \n",
    "                                                         all_high_mass/all_all_mass))"
   ]
  },
  {
   "cell_type": "code",
   "execution_count": 3,
   "metadata": {},
   "outputs": [],
   "source": [
    "cold_hvc_frac = [0.25, 0, 0.01, 0.25, 0.04, 0.10, 0.42, 0.17]\n",
    "cool_hvc_frac = [0.56, 0.48, 0.57, 0.60, 0.66, 0.58, 0.64, 0.60]\n",
    "warm_hvc_frac = [0.46, 0.42, 0.32, 0.48, 0.44, 0.54, 0.58, 0.47]\n",
    "hot_hvc_frac = [0.57, 0.63, 0.54, 0.71, 0.62, 0.57, 0.58, 0.54]\n",
    "all_hvc_frac = [0.39, 0.26, 0.24, 0.41, 0.31, 0.37, 0.53, 0.37]"
   ]
  },
  {
   "cell_type": "code",
   "execution_count": 4,
   "metadata": {},
   "outputs": [
    {
     "data": {
      "text/plain": [
       "(0.155, 0.5862499999999999, 0.46375, 0.595, 0.36)"
      ]
     },
     "execution_count": 4,
     "metadata": {},
     "output_type": "execute_result"
    }
   ],
   "source": [
    "np.mean(cold_hvc_frac), np.mean(cool_hvc_frac), np.mean(warm_hvc_frac), np.mean(hot_hvc_frac), np.mean(all_hvc_frac)"
   ]
  },
  {
   "cell_type": "markdown",
   "metadata": {},
   "source": [
    "### III: calculate the mass flux rate dMdt for gas in different phases, and averaged over 8 locations "
   ]
  },
  {
   "cell_type": "code",
   "execution_count": 40,
   "metadata": {},
   "outputs": [],
   "source": [
    "sim_name = 'nref11n_nref10f'\n",
    "dd_name = 'DD2175'\n",
    "obj_tag = 'cgm-15kpc' # 'cgm-15kpc'# 'cgm-rvir'"
   ]
  },
  {
   "cell_type": "code",
   "execution_count": 41,
   "metadata": {},
   "outputs": [],
   "source": [
    "## for gc values \n",
    "file_gc = 'figs/dM_dt/fits/nref11n_nref10f_DD2175_dMdt_%s_halo_center.fits'%(obj_tag)\n",
    "vel, dMdt_all_gc, dMdt_cold_gc, dMdt_cool_gc, dMdt_warm_gc, dMdt_hot_gc = read_dMdt_file(file_gc)\n",
    "\n",
    "# first, do inflow velocity rate \n",
    "indv_in = vel < 0\n",
    "cold_in_gc = -dMdt_cold_gc[indv_in].sum()\n",
    "cool_in_gc = -dMdt_cool_gc[indv_in].sum()\n",
    "warm_in_gc = -dMdt_warm_gc[indv_in].sum()\n",
    "hot_in_gc = -dMdt_hot_gc[indv_in].sum()\n",
    "\n",
    "# then do outflow velocity rate \n",
    "indv_out = vel>0 \n",
    "cold_out_gc = dMdt_cold_gc[indv_out].sum()\n",
    "cool_out_gc = dMdt_cool_gc[indv_out].sum()\n",
    "warm_out_gc = dMdt_warm_gc[indv_out].sum()\n",
    "hot_out_gc = dMdt_hot_gc[indv_out].sum()"
   ]
  },
  {
   "cell_type": "code",
   "execution_count": 42,
   "metadata": {},
   "outputs": [],
   "source": [
    "## for value wrt sun \n",
    "cold_in_sun, cool_in_sun, warm_in_sun, hot_in_sun = [], [], [], []\n",
    "cold_out_sun, cool_out_sun, warm_out_sun, hot_out_sun = [], [], [], []\n",
    "\n",
    "for i in range(8): \n",
    "    # get dM/dt, wrt gc \n",
    "    if i == 0: \n",
    "        file_sun = 'figs/dM_dt/fits/nref11n_nref10f_DD2175_dMdt_%s_offcenter_location.fits'%(obj_tag)\n",
    "    else: \n",
    "        file_sun = 'figs/dM_dt/fits/nref11n_nref10f_DD2175_dMdt_%s_offcenter_location_%d.fits'%(obj_tag, i*45)\n",
    "        \n",
    "    vel, dMdt_all_sun, dMdt_cold_sun, dMdt_cool_sun, dMdt_warm_sun, dMdt_hot_sun = read_dMdt_file(file_sun)\n",
    "    \n",
    "    # first, do inflow velocity rate \n",
    "    indv_in = vel < 0\n",
    "    cold_in_sun.append(-dMdt_cold_sun[indv_in].sum())\n",
    "    cool_in_sun.append(-dMdt_cool_sun[indv_in].sum())\n",
    "    warm_in_sun.append(-dMdt_warm_sun[indv_in].sum())\n",
    "    hot_in_sun.append(-dMdt_hot_sun[indv_in].sum())\n",
    "\n",
    "    # then do outflow velocity rate \n",
    "    indv_out = vel>0 \n",
    "    cold_out_sun.append(dMdt_cold_sun[indv_out].sum())\n",
    "    cool_out_sun.append(dMdt_cool_sun[indv_out].sum())\n",
    "    warm_out_sun.append(dMdt_warm_sun[indv_out].sum())\n",
    "    hot_out_sun.append(dMdt_hot_sun[indv_out].sum())"
   ]
  },
  {
   "cell_type": "code",
   "execution_count": 43,
   "metadata": {},
   "outputs": [],
   "source": [
    "from foggie.utils import consistency\n",
    "cmap = consistency.temperature_discrete_cmap\n",
    "c_cold = cmap(0.05)\n",
    "c_cool = cmap(0.25)\n",
    "c_warm = cmap(0.6)\n",
    "c_hot = cmap(0.9)\n",
    "colors=[c_cold, c_cool, c_warm, c_hot]\n",
    "gray = plt.cm.Greys(0.8)"
   ]
  },
  {
   "cell_type": "code",
   "execution_count": 44,
   "metadata": {},
   "outputs": [],
   "source": [
    "gc_color = plt.cm.Greys(0.6)\n",
    "sun_color = plt.cm.Oranges(0.5)\n",
    "fs = 12"
   ]
  },
  {
   "cell_type": "code",
   "execution_count": 45,
   "metadata": {},
   "outputs": [],
   "source": [
    "labels = ['cold', 'cool', 'warm', 'hot']\n",
    "in_gc = [cold_in_gc, cool_in_gc, warm_in_gc, hot_in_gc]\n",
    "in_sun = [np.mean(cold_in_sun), np.mean(cool_in_sun), np.mean(warm_in_sun), np.mean(hot_in_sun)]\n",
    "in_sun_min = [np.min(cold_in_sun), np.min(cool_in_sun), np.min(warm_in_sun), np.min(hot_in_sun)]\n",
    "in_sun_max = [np.max(cold_in_sun), np.max(cool_in_sun), np.max(warm_in_sun), np.max(hot_in_sun)]\n",
    "in_sun_std = [np.std(cold_in_sun), np.std(cool_in_sun), np.std(warm_in_sun), np.std(hot_in_sun)]\n",
    "\n",
    "out_gc = [cold_out_gc, cool_out_gc, warm_out_gc, hot_out_gc]\n",
    "out_sun = [np.mean(cold_out_sun), np.mean(cool_out_sun), np.mean(warm_out_sun), np.mean(hot_out_sun)]\n",
    "out_sun_min = [np.min(cold_out_sun), np.min(cool_out_sun), np.min(warm_out_sun), np.min(hot_out_sun)]\n",
    "out_sun_max = [np.max(cold_out_sun), np.max(cool_out_sun), np.max(warm_out_sun), np.max(hot_out_sun)]\n",
    "out_sun_std = [np.std(cold_out_sun), np.std(cool_out_sun), np.std(warm_out_sun), np.std(hot_out_sun)]"
   ]
  },
  {
   "cell_type": "code",
   "execution_count": 46,
   "metadata": {},
   "outputs": [
    {
     "name": "stdout",
     "output_type": "stream",
     "text": [
      "cgm-15kpc\n",
      "cold: -0.03, -0.00, ratio=0.1 (all), 4.9 (in), 10.1 (in)\n",
      "cool: -0.06, -0.05, ratio=0.9 (all), 1.2 (in), 7.6 (in)\n",
      "warm: -0.27, -0.25, ratio=0.9 (all), 0.9 (in), 0.8 (in)\n",
      " hot: -0.01, -0.03, ratio=2.0 (all), 0.9 (in), 0.6 (in)\n"
     ]
    }
   ],
   "source": [
    "print(obj_tag)\n",
    "for i in range(4):\n",
    "    a = in_gc[i]+out_gc[i]\n",
    "    b = in_sun[i]+out_sun[i]\n",
    "    c = b/a\n",
    "    d = in_sun[i]/in_gc[i]\n",
    "    e = out_sun[i]/out_gc[i]\n",
    "    print('%4s: %.2f, %.2f, ratio=%.1f (all), %.1f (in), %.1f (in)'%(labels[i], a, b, c, d, e))"
   ]
  },
  {
   "cell_type": "code",
   "execution_count": 49,
   "metadata": {},
   "outputs": [
    {
     "data": {
      "text/plain": [
       "(-0.061566451101893405, -0.07284871649084987)"
      ]
     },
     "execution_count": 49,
     "metadata": {},
     "output_type": "execute_result"
    }
   ],
   "source": [
    "in_gc[1], in_sun[1]"
   ]
  },
  {
   "cell_type": "code",
   "execution_count": 47,
   "metadata": {},
   "outputs": [
    {
     "name": "stdout",
     "output_type": "stream",
     "text": [
      "cgm-15kpc\n",
      "cold: -0.03, -0.00, ratio=0.1 (all), 4.9 (in), 10.1 (in)\n",
      "cool: -0.06, -0.05, ratio=0.9 (all), 1.2 (in), 7.6 (in)\n",
      "warm: -0.27, -0.25, ratio=0.9 (all), 0.9 (in), 0.8 (in)\n",
      " hot: -0.01, -0.03, ratio=2.0 (all), 0.9 (in), 0.6 (in)\n"
     ]
    }
   ],
   "source": [
    "print(obj_tag)\n",
    "for i in range(4):\n",
    "    a = in_gc[i]+out_gc[i]\n",
    "    b = in_sun[i]+out_sun[i]\n",
    "    c = b/a\n",
    "    d = in_sun[i]/in_gc[i]\n",
    "    e = out_sun[i]/out_gc[i]\n",
    "    print('%4s: %.2f, %.2f, ratio=%.1f (all), %.1f (in), %.1f (in)'%(labels[i], a, b, c, d, e))"
   ]
  },
  {
   "cell_type": "code",
   "execution_count": null,
   "metadata": {},
   "outputs": [],
   "source": [
    "print(obj_tag)\n",
    "for i in range(4):\n",
    "    a = in_sun[i]/in_gc[i]\n",
    "    b = out_sun[i]/\n",
    "    print('%4s: %.2f, %.2f, ratio=%.1f'%(labels[i], a, b, c))"
   ]
  },
  {
   "cell_type": "code",
   "execution_count": 29,
   "metadata": {},
   "outputs": [
    {
     "data": {
      "image/png": "[encoded data removed]",
      "text/plain": [
       "<Figure size 288x194.4 with 1 Axes>"
      ]
     },
     "metadata": {
      "needs_background": "light"
     },
     "output_type": "display_data"
    }
   ],
   "source": [
    "x = np.arange(len(labels))  # the label locations\n",
    "width = 0.4  # the width of the bars\n",
    "\n",
    "fig, ax = plt.subplots(figsize=(4, 2.7))\n",
    "barlist1 = ax.bar(x - width/2, in_gc, width, label='GRF', \n",
    "                  color=colors, hatch='//', edgecolor=gray)\n",
    "barlist2 = ax.bar(x - width/2, out_gc, width, label=None, \n",
    "                  color=colors, hatch='//', edgecolor=gray)\n",
    "\n",
    "barlist3 = ax.bar(x + width/2, in_sun, width, label='LSR', \n",
    "                  color=colors, edgecolor=gray, yerr=in_sun_std, ecolor='black', capsize=5)\n",
    "barlist4 = ax.bar(x + width/2, out_sun, width, label=None, \n",
    "                  color=colors, edgecolor=gray, yerr=out_sun_std, ecolor='black', capsize=5)\n",
    "\n",
    "# Add some text for labels, title and custom x-axis tick labels, etc.\n",
    "ax.set_ylabel(r'$\\dot{M}$ (M$_\\odot$/yr)', fontsize=fs)\n",
    "ax.set_title(obj_tag, fontsize=fs)\n",
    "ax.set_xticks(x)\n",
    "ax.set_xticklabels(labels)\n",
    "ax.legend(fontsize=fs-2)\n",
    "\n",
    "xmin = -0.5\n",
    "xmax = len(labels)-0.5\n",
    "ax.set_xlim(xmin, xmax)\n",
    "# ax.set_yscale('symlog')\n",
    "ax.hlines(0, xmin, xmax, linestyle='-', lw=1)\n",
    "# ax.minorticks_on()\n",
    "for tick in ax.xaxis.get_major_ticks():\n",
    "    tick.label.set_fontsize(fs)\n",
    "for tick in ax.yaxis.get_major_ticks():\n",
    "    tick.label.set_fontsize(fs-2)\n",
    "fig.tight_layout()\n",
    "\n",
    "plt.show()\n",
    "fig.savefig('figs/dM_dt/flux_grf_lsr_hist_%s.pdf'%(obj_tag))"
   ]
  },
  {
   "cell_type": "code",
   "execution_count": null,
   "metadata": {},
   "outputs": [],
   "source": []
  }
 ],
 "metadata": {
  "kernelspec": {
   "display_name": "Python 3",
   "language": "python",
   "name": "python3"
  },
  "language_info": {
   "codemirror_mode": {
    "name": "ipython",
    "version": 3
   },
   "file_extension": ".py",
   "mimetype": "text/x-python",
   "name": "python",
   "nbconvert_exporter": "python",
   "pygments_lexer": "ipython3",
   "version": "3.6.8"
  }
 },
 "nbformat": 4,
 "nbformat_minor": 2
}
