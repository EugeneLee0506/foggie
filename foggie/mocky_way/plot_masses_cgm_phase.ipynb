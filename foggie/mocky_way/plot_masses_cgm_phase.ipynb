{
 "cells": [
  {
   "cell_type": "markdown",
   "metadata": {},
   "source": [
    "plot mass distribution in CGM for different phases "
   ]
  },
  {
   "cell_type": "code",
   "execution_count": 24,
   "metadata": {},
   "outputs": [],
   "source": [
    "#### PLOT ####\n",
    "import matplotlib.pyplot as plt\n",
    "import numpy as np\n",
    "import matplotlib as mpl\n",
    "mpl.rcParams['font.family'] = 'stixgeneral'\n",
    "\n",
    "## in the order of cold, cool, warm, hot\n",
    "cgm_rvir  = np.asarray([5.20e+09, 2.07e+09, 4.49e+09, 1.25e+08])\n",
    "cgm_15kpc = np.asarray([1.73e+08, 2.05e+07, 1.44e+07, 1.44e+07])\n",
    "\n",
    "f_cgm_rvir = cgm_rvir/cgm_rvir.sum()\n",
    "f_cgm_15kpc = cgm_15kpc/cgm_15kpc.sum()\n",
    "y_rvir = cgm_rvir/1e9\n",
    "y_15kpc = cgm_15kpc/1e9 \n",
    "\n",
    "x = ['Cold', 'Cool', 'Warm', 'Hot']\n",
    "\n",
    "from foggie.utils import consistency\n",
    "cmap = consistency.temperature_discrete_cmap\n",
    "c_cold = cmap(0.05)\n",
    "c_cool = cmap(0.25)\n",
    "c_warm = cmap(0.6)\n",
    "c_hot = cmap(0.9)"
   ]
  },
  {
   "cell_type": "code",
   "execution_count": 25,
   "metadata": {},
   "outputs": [
    {
     "data": {
      "image/png": "[encoded data removed]",
      "text/plain": [
       "<Figure size 288x288 with 1 Axes>"
      ]
     },
     "metadata": {
      "needs_background": "light"
     },
     "output_type": "display_data"
    }
   ],
   "source": [
    "fig = plt.figure(figsize=(4, 4))\n",
    "ax = fig.add_subplot(111)\n",
    "barlist = ax.bar(x, cgm_rvir, label='M(<Rvir)')\n",
    "barlist2 = ax.bar(x, cgm_15kpc, linewidth=1, hatch=\"/\", edgecolor='black', facecolor='none', label='M(<15 kpc)')\n",
    "\n",
    "barlist[0].set_color(c_cold)\n",
    "barlist[1].set_color(c_cool)\n",
    "barlist[2].set_color(c_warm)\n",
    "barlist[3].set_color(c_hot)\n",
    "\n",
    "ax.tick_params(labelsize=16)\n",
    "ax.set_xlabel('CGM Phases', fontsize=16)\n",
    "ax.set_ylabel('Mass (1e9 Msun)', fontsize=16)\n",
    "ax.legend(fontsize=16, frameon=False)\n",
    "ax.set_yscale('log')\n",
    "ax.set_ylim(1e7, 3e10)\n",
    "\n",
    "#ax.text(-0.2, 6e9, '%.1f'%(0.437*100)+'%', fontsize=16)\n",
    "#ax.text(0.8, 2.3e9, '%.1f'%(f_cgm_rvir[1]*100)+'%', fontsize=16)\n",
    "#ax.text(1.8, 4.9e9, '%.1f'%(f_cgm_rvir[2]*100)+'%', fontsize=16)\n",
    "#ax.text(2.85, 1.4e8, '%.1f'%(f_cgm_rvir[3]*100)+'%', fontsize=16)\n",
    "fig.tight_layout()\n",
    "# fig.savefig('figs_for_paper/fig_cgm_mass.pdf')"
   ]
  },
  {
   "cell_type": "markdown",
   "metadata": {},
   "source": [
    "plot cumulative mass distribution to test missing baryons "
   ]
  },
  {
   "cell_type": "code",
   "execution_count": 1,
   "metadata": {},
   "outputs": [],
   "source": [
    "import matplotlib.pyplot as plt\n",
    "import numpy as np \n",
    "import matplotlib as mpl\n",
    "mpl.rcParams['font.family'] = 'stixgeneral'"
   ]
  },
  {
   "cell_type": "code",
   "execution_count": 22,
   "metadata": {},
   "outputs": [],
   "source": [
    "from astropy.cosmology import Planck15 as cosmo\n",
    "z = 0.102\n",
    "\n",
    "m_halo = 4.94e11 # Msun \n",
    "m_bary = cosmo.Ob(z)/cosmo.Om(z)*mhalo\n",
    "\n",
    "m_star = 5.37e10\n",
    "m_ism = 1.82e10\n",
    "m_cgm_cold = 5.2e9 \n",
    "m_cgm_cool = 2.1e9 \n",
    "m_cgm_warm = 4.5e9 \n",
    "m_cgm_hot = 1.3e8 \n",
    "\n",
    "frac = np.array([m_star, m_ism, m_cgm_cold, m_cgm_cool, m_cgm_warm, m_cgm_hot])/m_bary\n",
    "cum_frac = np.array([frac[0], frac[:2].sum(), frac[:3].sum(), \n",
    "                     frac[:4].sum(), frac[:5].sum(), frac[:6].sum()])"
   ]
  },
  {
   "cell_type": "code",
   "execution_count": 38,
   "metadata": {},
   "outputs": [
    {
     "data": {
      "text/plain": [
       "(0, 1)"
      ]
     },
     "execution_count": 38,
     "metadata": {},
     "output_type": "execute_result"
    },
    {
     "data": {
      "image/png": "[encoded data removed]",
      "text/plain": [
       "<Figure size 144x288 with 1 Axes>"
      ]
     },
     "metadata": {
      "needs_background": "light"
     },
     "output_type": "display_data"
    }
   ],
   "source": [
    "fig = plt.figure(figsize=(2, 4))\n",
    "ax = fig.add_subplot(111)\n",
    "ax.fill_between([0, 1], 0, cum_frac[0], color=plt.cm.Greys(0.6))\n",
    "ax.fill_between([0, 1], cum_frac[0], cum_frac[1], color=plt.cm.Blues(0.7))\n",
    "ax.fill_between([0, 1], cum_frac[1], cum_frac[2], color=c_cold)\n",
    "ax.fill_between([0, 1], cum_frac[2], cum_frac[3], color=c_cool)\n",
    "ax.fill_between([0, 1], cum_frac[3], cum_frac[4], color=c_warm)\n",
    "ax.fill_between([0, 1], cum_frac[4], cum_frac[5], color=c_hot)\n",
    "ax.set_ylim(0, 1.2)\n",
    "ax.set_xlim(0, 1)\n",
    "ax.set_xlabel()"
   ]
  },
  {
   "cell_type": "code",
   "execution_count": 37,
   "metadata": {},
   "outputs": [
    {
     "data": {
      "text/plain": [
       "(1.0736960813715197, 1.0736960813715197)"
      ]
     },
     "execution_count": 37,
     "metadata": {},
     "output_type": "execute_result"
    }
   ],
   "source": [
    "cum_frac[-1], cum_frac[5]"
   ]
  },
  {
   "cell_type": "code",
   "execution_count": null,
   "metadata": {},
   "outputs": [],
   "source": [
    "cosmo.Om(z)/cos"
   ]
  }
 ],
 "metadata": {
  "kernelspec": {
   "display_name": "Python 3",
   "language": "python",
   "name": "python3"
  },
  "language_info": {
   "codemirror_mode": {
    "name": "ipython",
    "version": 3
   },
   "file_extension": ".py",
   "mimetype": "text/x-python",
   "name": "python",
   "nbconvert_exporter": "python",
   "pygments_lexer": "ipython3",
   "version": "3.6.8"
  }
 },
 "nbformat": 4,
 "nbformat_minor": 2
}
